{
 "cells": [
  {
   "cell_type": "code",
   "execution_count": 3,
   "id": "a4709f21",
   "metadata": {},
   "outputs": [],
   "source": [
    "import sklearn\n",
    "import pandas as pd\n",
    "import numpy as np\n",
    "import warnings\n",
    "\n",
    "import matplotlib.pyplot as plt"
   ]
  },
  {
   "cell_type": "code",
   "execution_count": 4,
   "id": "818ea1f0",
   "metadata": {},
   "outputs": [
    {
     "name": "stderr",
     "output_type": "stream",
     "text": [
      "/home/diegoflm/anaconda3/lib/python3.9/site-packages/IPython/core/interactiveshell.py:3369: FutureWarning: In a future version of pandas all arguments of read_csv except for the argument 'filepath_or_buffer' will be keyword-only.\n",
      "  exec(code_obj, self.user_global_ns, self.user_ns)\n"
     ]
    },
    {
     "name": "stdout",
     "output_type": "stream",
     "text": [
      "<class 'pandas.core.frame.DataFrame'>\n",
      "RangeIndex: 50286 entries, 0 to 50285\n",
      "Data columns (total 18 columns):\n",
      " #   Column              Non-Null Count  Dtype\n",
      "---  ------              --------------  -----\n",
      " 0   gameDuration        50286 non-null  int64\n",
      " 1   firstBlood          50286 non-null  int64\n",
      " 2   firstTower          50286 non-null  int64\n",
      " 3   firstInhibitor      50286 non-null  int64\n",
      " 4   firstBaron          50286 non-null  int64\n",
      " 5   firstDragon         50286 non-null  int64\n",
      " 6   firstRiftHerald     50286 non-null  int64\n",
      " 7   t1_towerKills       50286 non-null  int64\n",
      " 8   t1_inhibitorKills   50286 non-null  int64\n",
      " 9   t1_baronKills       50286 non-null  int64\n",
      " 10  t1_dragonKills      50286 non-null  int64\n",
      " 11  t1_riftHeraldKills  50286 non-null  int64\n",
      " 12  t2_towerKills       50286 non-null  int64\n",
      " 13  t2_inhibitorKills   50286 non-null  int64\n",
      " 14  t2_baronKills       50286 non-null  int64\n",
      " 15  t2_dragonKills      50286 non-null  int64\n",
      " 16  t2_riftHeraldKills  50286 non-null  int64\n",
      " 17  winner              50286 non-null  int64\n",
      "dtypes: int64(18)\n",
      "memory usage: 6.9 MB\n"
     ]
    }
   ],
   "source": [
    "games = pd.read_csv('./games.csv', ';')\n",
    "#print(games.head(5))\n",
    "games.info()"
   ]
  },
  {
   "cell_type": "code",
   "execution_count": 5,
   "id": "007303ff",
   "metadata": {},
   "outputs": [
    {
     "data": {
      "text/html": [
       "<div>\n",
       "<style scoped>\n",
       "    .dataframe tbody tr th:only-of-type {\n",
       "        vertical-align: middle;\n",
       "    }\n",
       "\n",
       "    .dataframe tbody tr th {\n",
       "        vertical-align: top;\n",
       "    }\n",
       "\n",
       "    .dataframe thead th {\n",
       "        text-align: right;\n",
       "    }\n",
       "</style>\n",
       "<table border=\"1\" class=\"dataframe\">\n",
       "  <thead>\n",
       "    <tr style=\"text-align: right;\">\n",
       "      <th></th>\n",
       "      <th>gameDuration</th>\n",
       "      <th>firstBlood</th>\n",
       "      <th>firstTower</th>\n",
       "      <th>firstInhibitor</th>\n",
       "      <th>firstBaron</th>\n",
       "      <th>firstDragon</th>\n",
       "      <th>firstRiftHerald</th>\n",
       "      <th>t1_towerKills</th>\n",
       "      <th>t1_inhibitorKills</th>\n",
       "      <th>t1_baronKills</th>\n",
       "      <th>t1_dragonKills</th>\n",
       "      <th>t1_riftHeraldKills</th>\n",
       "      <th>t2_towerKills</th>\n",
       "      <th>t2_inhibitorKills</th>\n",
       "      <th>t2_baronKills</th>\n",
       "      <th>t2_dragonKills</th>\n",
       "      <th>t2_riftHeraldKills</th>\n",
       "      <th>winner</th>\n",
       "    </tr>\n",
       "  </thead>\n",
       "  <tbody>\n",
       "    <tr>\n",
       "      <th>count</th>\n",
       "      <td>50286.000000</td>\n",
       "      <td>50286.000000</td>\n",
       "      <td>50286.000000</td>\n",
       "      <td>50286.000000</td>\n",
       "      <td>50286.000000</td>\n",
       "      <td>50286.000000</td>\n",
       "      <td>50286.000000</td>\n",
       "      <td>50286.000000</td>\n",
       "      <td>50286.000000</td>\n",
       "      <td>50286.000000</td>\n",
       "      <td>50286.000000</td>\n",
       "      <td>50286.000000</td>\n",
       "      <td>50286.000000</td>\n",
       "      <td>50286.000000</td>\n",
       "      <td>50286.000000</td>\n",
       "      <td>50286.000000</td>\n",
       "      <td>50286.000000</td>\n",
       "      <td>50286.000000</td>\n",
       "    </tr>\n",
       "    <tr>\n",
       "      <th>mean</th>\n",
       "      <td>1871.386032</td>\n",
       "      <td>1.487233</td>\n",
       "      <td>1.485125</td>\n",
       "      <td>1.339578</td>\n",
       "      <td>0.948693</td>\n",
       "      <td>1.477270</td>\n",
       "      <td>0.749195</td>\n",
       "      <td>5.835163</td>\n",
       "      <td>1.041781</td>\n",
       "      <td>0.381200</td>\n",
       "      <td>1.420356</td>\n",
       "      <td>0.257487</td>\n",
       "      <td>5.681999</td>\n",
       "      <td>1.008611</td>\n",
       "      <td>0.424472</td>\n",
       "      <td>1.437975</td>\n",
       "      <td>0.245854</td>\n",
       "      <td>1.493776</td>\n",
       "    </tr>\n",
       "    <tr>\n",
       "      <th>std</th>\n",
       "      <td>450.876052</td>\n",
       "      <td>0.499842</td>\n",
       "      <td>0.500499</td>\n",
       "      <td>0.652960</td>\n",
       "      <td>0.838988</td>\n",
       "      <td>0.530346</td>\n",
       "      <td>0.824393</td>\n",
       "      <td>3.740575</td>\n",
       "      <td>1.269064</td>\n",
       "      <td>0.588001</td>\n",
       "      <td>1.201740</td>\n",
       "      <td>0.437254</td>\n",
       "      <td>3.809336</td>\n",
       "      <td>1.261867</td>\n",
       "      <td>0.617672</td>\n",
       "      <td>1.219412</td>\n",
       "      <td>0.430597</td>\n",
       "      <td>0.499966</td>\n",
       "    </tr>\n",
       "    <tr>\n",
       "      <th>min</th>\n",
       "      <td>610.000000</td>\n",
       "      <td>1.000000</td>\n",
       "      <td>0.000000</td>\n",
       "      <td>0.000000</td>\n",
       "      <td>0.000000</td>\n",
       "      <td>0.000000</td>\n",
       "      <td>0.000000</td>\n",
       "      <td>0.000000</td>\n",
       "      <td>0.000000</td>\n",
       "      <td>0.000000</td>\n",
       "      <td>0.000000</td>\n",
       "      <td>0.000000</td>\n",
       "      <td>0.000000</td>\n",
       "      <td>0.000000</td>\n",
       "      <td>0.000000</td>\n",
       "      <td>0.000000</td>\n",
       "      <td>0.000000</td>\n",
       "      <td>1.000000</td>\n",
       "    </tr>\n",
       "    <tr>\n",
       "      <th>25%</th>\n",
       "      <td>1554.000000</td>\n",
       "      <td>1.000000</td>\n",
       "      <td>1.000000</td>\n",
       "      <td>1.000000</td>\n",
       "      <td>0.000000</td>\n",
       "      <td>1.000000</td>\n",
       "      <td>0.000000</td>\n",
       "      <td>2.000000</td>\n",
       "      <td>0.000000</td>\n",
       "      <td>0.000000</td>\n",
       "      <td>0.000000</td>\n",
       "      <td>0.000000</td>\n",
       "      <td>2.000000</td>\n",
       "      <td>0.000000</td>\n",
       "      <td>0.000000</td>\n",
       "      <td>0.000000</td>\n",
       "      <td>0.000000</td>\n",
       "      <td>1.000000</td>\n",
       "    </tr>\n",
       "    <tr>\n",
       "      <th>50%</th>\n",
       "      <td>1846.000000</td>\n",
       "      <td>1.000000</td>\n",
       "      <td>1.000000</td>\n",
       "      <td>1.000000</td>\n",
       "      <td>1.000000</td>\n",
       "      <td>1.000000</td>\n",
       "      <td>1.000000</td>\n",
       "      <td>6.000000</td>\n",
       "      <td>1.000000</td>\n",
       "      <td>0.000000</td>\n",
       "      <td>1.000000</td>\n",
       "      <td>0.000000</td>\n",
       "      <td>6.000000</td>\n",
       "      <td>0.000000</td>\n",
       "      <td>0.000000</td>\n",
       "      <td>1.000000</td>\n",
       "      <td>0.000000</td>\n",
       "      <td>1.000000</td>\n",
       "    </tr>\n",
       "    <tr>\n",
       "      <th>75%</th>\n",
       "      <td>2156.750000</td>\n",
       "      <td>2.000000</td>\n",
       "      <td>2.000000</td>\n",
       "      <td>2.000000</td>\n",
       "      <td>2.000000</td>\n",
       "      <td>2.000000</td>\n",
       "      <td>1.000000</td>\n",
       "      <td>9.000000</td>\n",
       "      <td>2.000000</td>\n",
       "      <td>1.000000</td>\n",
       "      <td>2.000000</td>\n",
       "      <td>1.000000</td>\n",
       "      <td>9.000000</td>\n",
       "      <td>2.000000</td>\n",
       "      <td>1.000000</td>\n",
       "      <td>2.000000</td>\n",
       "      <td>0.000000</td>\n",
       "      <td>2.000000</td>\n",
       "    </tr>\n",
       "    <tr>\n",
       "      <th>max</th>\n",
       "      <td>4728.000000</td>\n",
       "      <td>2.000000</td>\n",
       "      <td>2.000000</td>\n",
       "      <td>2.000000</td>\n",
       "      <td>2.000000</td>\n",
       "      <td>2.000000</td>\n",
       "      <td>2.000000</td>\n",
       "      <td>11.000000</td>\n",
       "      <td>10.000000</td>\n",
       "      <td>5.000000</td>\n",
       "      <td>6.000000</td>\n",
       "      <td>1.000000</td>\n",
       "      <td>11.000000</td>\n",
       "      <td>10.000000</td>\n",
       "      <td>4.000000</td>\n",
       "      <td>6.000000</td>\n",
       "      <td>1.000000</td>\n",
       "      <td>2.000000</td>\n",
       "    </tr>\n",
       "  </tbody>\n",
       "</table>\n",
       "</div>"
      ],
      "text/plain": [
       "       gameDuration    firstBlood    firstTower  firstInhibitor    firstBaron  \\\n",
       "count  50286.000000  50286.000000  50286.000000    50286.000000  50286.000000   \n",
       "mean    1871.386032      1.487233      1.485125        1.339578      0.948693   \n",
       "std      450.876052      0.499842      0.500499        0.652960      0.838988   \n",
       "min      610.000000      1.000000      0.000000        0.000000      0.000000   \n",
       "25%     1554.000000      1.000000      1.000000        1.000000      0.000000   \n",
       "50%     1846.000000      1.000000      1.000000        1.000000      1.000000   \n",
       "75%     2156.750000      2.000000      2.000000        2.000000      2.000000   \n",
       "max     4728.000000      2.000000      2.000000        2.000000      2.000000   \n",
       "\n",
       "        firstDragon  firstRiftHerald  t1_towerKills  t1_inhibitorKills  \\\n",
       "count  50286.000000     50286.000000   50286.000000       50286.000000   \n",
       "mean       1.477270         0.749195       5.835163           1.041781   \n",
       "std        0.530346         0.824393       3.740575           1.269064   \n",
       "min        0.000000         0.000000       0.000000           0.000000   \n",
       "25%        1.000000         0.000000       2.000000           0.000000   \n",
       "50%        1.000000         1.000000       6.000000           1.000000   \n",
       "75%        2.000000         1.000000       9.000000           2.000000   \n",
       "max        2.000000         2.000000      11.000000          10.000000   \n",
       "\n",
       "       t1_baronKills  t1_dragonKills  t1_riftHeraldKills  t2_towerKills  \\\n",
       "count   50286.000000    50286.000000        50286.000000   50286.000000   \n",
       "mean        0.381200        1.420356            0.257487       5.681999   \n",
       "std         0.588001        1.201740            0.437254       3.809336   \n",
       "min         0.000000        0.000000            0.000000       0.000000   \n",
       "25%         0.000000        0.000000            0.000000       2.000000   \n",
       "50%         0.000000        1.000000            0.000000       6.000000   \n",
       "75%         1.000000        2.000000            1.000000       9.000000   \n",
       "max         5.000000        6.000000            1.000000      11.000000   \n",
       "\n",
       "       t2_inhibitorKills  t2_baronKills  t2_dragonKills  t2_riftHeraldKills  \\\n",
       "count       50286.000000   50286.000000    50286.000000        50286.000000   \n",
       "mean            1.008611       0.424472        1.437975            0.245854   \n",
       "std             1.261867       0.617672        1.219412            0.430597   \n",
       "min             0.000000       0.000000        0.000000            0.000000   \n",
       "25%             0.000000       0.000000        0.000000            0.000000   \n",
       "50%             0.000000       0.000000        1.000000            0.000000   \n",
       "75%             2.000000       1.000000        2.000000            0.000000   \n",
       "max            10.000000       4.000000        6.000000            1.000000   \n",
       "\n",
       "             winner  \n",
       "count  50286.000000  \n",
       "mean       1.493776  \n",
       "std        0.499966  \n",
       "min        1.000000  \n",
       "25%        1.000000  \n",
       "50%        1.000000  \n",
       "75%        2.000000  \n",
       "max        2.000000  "
      ]
     },
     "execution_count": 5,
     "metadata": {},
     "output_type": "execute_result"
    }
   ],
   "source": [
    "# Variables cuantitativas (tipo entero)\n",
    "games.select_dtypes(include=['int64']).describe()"
   ]
  },
  {
   "cell_type": "markdown",
   "id": "02abc0a8",
   "metadata": {},
   "source": [
    "# Split training data from test data: 80% for training, 20% for testing."
   ]
  },
  {
   "cell_type": "code",
   "execution_count": 6,
   "id": "af0a198d",
   "metadata": {},
   "outputs": [
    {
     "name": "stdout",
     "output_type": "stream",
     "text": [
      "50286 40228 10058\n"
     ]
    }
   ],
   "source": [
    "from sklearn.model_selection import train_test_split\n",
    "N=len(games)\n",
    "cTrain=int(N*0.8) # 80% for training and 20% for testing\n",
    "cTest=N-cTrain\n",
    "print(N,cTrain,cTest)\n",
    "train_data, test_data = sklearn.model_selection.train_test_split(games, train_size=cTrain, test_size=cTest)"
   ]
  },
  {
   "cell_type": "code",
   "execution_count": 7,
   "id": "7f7d5403",
   "metadata": {},
   "outputs": [
    {
     "data": {
      "text/html": [
       "<div>\n",
       "<style scoped>\n",
       "    .dataframe tbody tr th:only-of-type {\n",
       "        vertical-align: middle;\n",
       "    }\n",
       "\n",
       "    .dataframe tbody tr th {\n",
       "        vertical-align: top;\n",
       "    }\n",
       "\n",
       "    .dataframe thead th {\n",
       "        text-align: right;\n",
       "    }\n",
       "</style>\n",
       "<table border=\"1\" class=\"dataframe\">\n",
       "  <thead>\n",
       "    <tr style=\"text-align: right;\">\n",
       "      <th></th>\n",
       "      <th>gameDuration</th>\n",
       "      <th>firstBlood</th>\n",
       "      <th>firstTower</th>\n",
       "      <th>firstInhibitor</th>\n",
       "      <th>firstBaron</th>\n",
       "      <th>firstDragon</th>\n",
       "      <th>firstRiftHerald</th>\n",
       "      <th>t1_towerKills</th>\n",
       "      <th>t1_inhibitorKills</th>\n",
       "      <th>t1_baronKills</th>\n",
       "      <th>t1_dragonKills</th>\n",
       "      <th>t1_riftHeraldKills</th>\n",
       "      <th>t2_towerKills</th>\n",
       "      <th>t2_inhibitorKills</th>\n",
       "      <th>t2_baronKills</th>\n",
       "      <th>t2_dragonKills</th>\n",
       "      <th>t2_riftHeraldKills</th>\n",
       "      <th>winner</th>\n",
       "    </tr>\n",
       "  </thead>\n",
       "  <tbody>\n",
       "    <tr>\n",
       "      <th>45072</th>\n",
       "      <td>1852</td>\n",
       "      <td>2</td>\n",
       "      <td>2</td>\n",
       "      <td>2</td>\n",
       "      <td>2</td>\n",
       "      <td>2</td>\n",
       "      <td>0</td>\n",
       "      <td>2</td>\n",
       "      <td>0</td>\n",
       "      <td>0</td>\n",
       "      <td>0</td>\n",
       "      <td>0</td>\n",
       "      <td>10</td>\n",
       "      <td>2</td>\n",
       "      <td>1</td>\n",
       "      <td>2</td>\n",
       "      <td>0</td>\n",
       "      <td>2</td>\n",
       "    </tr>\n",
       "    <tr>\n",
       "      <th>42967</th>\n",
       "      <td>2532</td>\n",
       "      <td>1</td>\n",
       "      <td>2</td>\n",
       "      <td>1</td>\n",
       "      <td>1</td>\n",
       "      <td>1</td>\n",
       "      <td>0</td>\n",
       "      <td>11</td>\n",
       "      <td>3</td>\n",
       "      <td>1</td>\n",
       "      <td>4</td>\n",
       "      <td>0</td>\n",
       "      <td>6</td>\n",
       "      <td>0</td>\n",
       "      <td>0</td>\n",
       "      <td>1</td>\n",
       "      <td>0</td>\n",
       "      <td>1</td>\n",
       "    </tr>\n",
       "    <tr>\n",
       "      <th>3474</th>\n",
       "      <td>1807</td>\n",
       "      <td>1</td>\n",
       "      <td>1</td>\n",
       "      <td>1</td>\n",
       "      <td>1</td>\n",
       "      <td>1</td>\n",
       "      <td>1</td>\n",
       "      <td>10</td>\n",
       "      <td>2</td>\n",
       "      <td>1</td>\n",
       "      <td>2</td>\n",
       "      <td>1</td>\n",
       "      <td>1</td>\n",
       "      <td>0</td>\n",
       "      <td>0</td>\n",
       "      <td>1</td>\n",
       "      <td>0</td>\n",
       "      <td>1</td>\n",
       "    </tr>\n",
       "    <tr>\n",
       "      <th>35837</th>\n",
       "      <td>2027</td>\n",
       "      <td>1</td>\n",
       "      <td>1</td>\n",
       "      <td>1</td>\n",
       "      <td>1</td>\n",
       "      <td>1</td>\n",
       "      <td>0</td>\n",
       "      <td>11</td>\n",
       "      <td>4</td>\n",
       "      <td>1</td>\n",
       "      <td>3</td>\n",
       "      <td>0</td>\n",
       "      <td>0</td>\n",
       "      <td>0</td>\n",
       "      <td>0</td>\n",
       "      <td>0</td>\n",
       "      <td>0</td>\n",
       "      <td>1</td>\n",
       "    </tr>\n",
       "    <tr>\n",
       "      <th>36969</th>\n",
       "      <td>2030</td>\n",
       "      <td>2</td>\n",
       "      <td>2</td>\n",
       "      <td>2</td>\n",
       "      <td>0</td>\n",
       "      <td>2</td>\n",
       "      <td>0</td>\n",
       "      <td>2</td>\n",
       "      <td>0</td>\n",
       "      <td>0</td>\n",
       "      <td>1</td>\n",
       "      <td>0</td>\n",
       "      <td>11</td>\n",
       "      <td>4</td>\n",
       "      <td>0</td>\n",
       "      <td>3</td>\n",
       "      <td>0</td>\n",
       "      <td>2</td>\n",
       "    </tr>\n",
       "  </tbody>\n",
       "</table>\n",
       "</div>"
      ],
      "text/plain": [
       "       gameDuration  firstBlood  firstTower  firstInhibitor  firstBaron  \\\n",
       "45072          1852           2           2               2           2   \n",
       "42967          2532           1           2               1           1   \n",
       "3474           1807           1           1               1           1   \n",
       "35837          2027           1           1               1           1   \n",
       "36969          2030           2           2               2           0   \n",
       "\n",
       "       firstDragon  firstRiftHerald  t1_towerKills  t1_inhibitorKills  \\\n",
       "45072            2                0              2                  0   \n",
       "42967            1                0             11                  3   \n",
       "3474             1                1             10                  2   \n",
       "35837            1                0             11                  4   \n",
       "36969            2                0              2                  0   \n",
       "\n",
       "       t1_baronKills  t1_dragonKills  t1_riftHeraldKills  t2_towerKills  \\\n",
       "45072              0               0                   0             10   \n",
       "42967              1               4                   0              6   \n",
       "3474               1               2                   1              1   \n",
       "35837              1               3                   0              0   \n",
       "36969              0               1                   0             11   \n",
       "\n",
       "       t2_inhibitorKills  t2_baronKills  t2_dragonKills  t2_riftHeraldKills  \\\n",
       "45072                  2              1               2                   0   \n",
       "42967                  0              0               1                   0   \n",
       "3474                   0              0               1                   0   \n",
       "35837                  0              0               0                   0   \n",
       "36969                  4              0               3                   0   \n",
       "\n",
       "       winner  \n",
       "45072       2  \n",
       "42967       1  \n",
       "3474        1  \n",
       "35837       1  \n",
       "36969       2  "
      ]
     },
     "execution_count": 7,
     "metadata": {},
     "output_type": "execute_result"
    }
   ],
   "source": [
    "#train_data.shape\n",
    "train_data.head()"
   ]
  },
  {
   "cell_type": "markdown",
   "id": "a6ca5829",
   "metadata": {},
   "source": [
    "# Pipeline for categorical attributes"
   ]
  },
  {
   "cell_type": "code",
   "execution_count": 8,
   "id": "72177c76",
   "metadata": {},
   "outputs": [],
   "source": [
    "from sklearn.preprocessing import OneHotEncoder\n",
    "from sklearn.pipeline import Pipeline\n",
    "from sklearn.impute import SimpleImputer"
   ]
  },
  {
   "cell_type": "code",
   "execution_count": 9,
   "id": "dc7f81f5",
   "metadata": {},
   "outputs": [],
   "source": [
    "#6 categorical attributes, where the numeric values don't have a numerical meaning.\n",
    "cat_atts = ['firstBlood','firstTower', 'firstInhibitor', 'firstBaron', 'firstDragon', 'firstRiftHerald']\n",
    "cat_pipeline = Pipeline([\n",
    "        (\"imputer\", SimpleImputer(strategy=\"most_frequent\")),\n",
    "        (\"cat_encoder\", OneHotEncoder(sparse=False))\n",
    "    ])"
   ]
  },
  {
   "cell_type": "markdown",
   "id": "0ce1de2b",
   "metadata": {},
   "source": [
    "# Pipeline for numeric attributes"
   ]
  },
  {
   "cell_type": "code",
   "execution_count": 10,
   "id": "0a479950",
   "metadata": {},
   "outputs": [],
   "source": [
    "from sklearn.pipeline import Pipeline\n",
    "from sklearn.impute import SimpleImputer\n",
    "from sklearn.preprocessing import StandardScaler\n",
    "from sklearn.preprocessing import MinMaxScaler"
   ]
  },
  {
   "cell_type": "code",
   "execution_count": 11,
   "id": "7dd9d72b",
   "metadata": {},
   "outputs": [],
   "source": [
    "#11 numeric attributes\n",
    "num_atts = ['gameDuration', 't1_towerKills', 't1_inhibitorKills', 't1_baronKills', 't1_dragonKills', \n",
    "        't1_riftHeraldKills', 't2_towerKills', 't2_inhibitorKills', 't2_baronKills', 't2_dragonKills', \n",
    "        't2_riftHeraldKills']\n",
    "\n",
    "num_pipeline = Pipeline([\n",
    "        (\"imputer\", SimpleImputer(strategy=\"median\")),\n",
    "        (\"scaler\", StandardScaler())    #Standarization by centering and scaling.\n",
    "    ])"
   ]
  },
  {
   "cell_type": "markdown",
   "id": "6d469ff3",
   "metadata": {},
   "source": [
    "# Pipeline completo"
   ]
  },
  {
   "cell_type": "code",
   "execution_count": 12,
   "id": "eb92c27b",
   "metadata": {},
   "outputs": [],
   "source": [
    "from sklearn.compose import ColumnTransformer\n",
    "\n",
    "full_pipeline = ColumnTransformer([\n",
    "    (\"num\", num_pipeline, num_atts),\n",
    "    (\"cat\", cat_pipeline, cat_atts), \n",
    "])"
   ]
  },
  {
   "cell_type": "code",
   "execution_count": 13,
   "id": "b17374eb",
   "metadata": {},
   "outputs": [],
   "source": [
    "X_train = full_pipeline.fit_transform(train_data)"
   ]
  },
  {
   "cell_type": "code",
   "execution_count": 14,
   "id": "2bd1f14e",
   "metadata": {},
   "outputs": [
    {
     "data": {
      "text/plain": [
       "(40228, 28)"
      ]
     },
     "execution_count": 14,
     "metadata": {},
     "output_type": "execute_result"
    }
   ],
   "source": [
    "X_train.shape"
   ]
  },
  {
   "cell_type": "code",
   "execution_count": 15,
   "id": "ed7c49c3",
   "metadata": {},
   "outputs": [
    {
     "data": {
      "text/plain": [
       "array([-0.04491115, -1.02503239, -0.82061401, -0.64834784, -1.18124104,\n",
       "       -0.58772277,  1.13154481,  0.7858743 ,  0.93043267,  0.46169807,\n",
       "       -0.57007832,  0.        ,  1.        ,  0.        ,  0.        ,\n",
       "        1.        ,  0.        ,  0.        ,  1.        ,  0.        ,\n",
       "        0.        ,  1.        ,  0.        ,  0.        ,  1.        ,\n",
       "        1.        ,  0.        ,  0.        ])"
      ]
     },
     "execution_count": 15,
     "metadata": {},
     "output_type": "execute_result"
    }
   ],
   "source": [
    "X_train[0,:]"
   ]
  },
  {
   "cell_type": "code",
   "execution_count": 16,
   "id": "9fd8d09c",
   "metadata": {},
   "outputs": [
    {
     "data": {
      "text/plain": [
       "45072    2\n",
       "42967    1\n",
       "3474     1\n",
       "35837    1\n",
       "36969    2\n",
       "        ..\n",
       "16618    1\n",
       "21087    1\n",
       "36669    1\n",
       "15883    2\n",
       "45275    2\n",
       "Name: winner, Length: 40228, dtype: int64"
      ]
     },
     "execution_count": 16,
     "metadata": {},
     "output_type": "execute_result"
    }
   ],
   "source": [
    "y_train = train_data[\"winner\"]\n",
    "y_train"
   ]
  },
  {
   "cell_type": "markdown",
   "id": "1adbe2fd",
   "metadata": {},
   "source": [
    "# Neuronal network training models"
   ]
  },
  {
   "cell_type": "code",
   "execution_count": 17,
   "id": "d3800acf",
   "metadata": {},
   "outputs": [],
   "source": [
    "from sklearn.neural_network import MLPClassifier\n",
    "from sklearn.model_selection import cross_val_score"
   ]
  },
  {
   "cell_type": "code",
   "execution_count": 18,
   "id": "3a61bba3",
   "metadata": {},
   "outputs": [
    {
     "name": "stdout",
     "output_type": "stream",
     "text": [
      "[-0.02995277 -0.02846135 -0.02522993 -0.02834058 -0.02573027]\n"
     ]
    },
    {
     "data": {
      "text/plain": [
       "-0.027542979638365904"
      ]
     },
     "execution_count": 18,
     "metadata": {},
     "output_type": "execute_result"
    }
   ],
   "source": [
    "model1 = MLPClassifier(activation='identity',solver='lbfgs', alpha=1e-5,\n",
    "    hidden_layer_sizes=(4,7), random_state=123)\n",
    "\n",
    "model1.fit(X_train, y_train)\n",
    "scores1 = cross_val_score(model1, X_train, y_train, cv=5, scoring='neg_mean_absolute_error')\n",
    "print(scores1)\n",
    "scores1.mean()"
   ]
  },
  {
   "cell_type": "code",
   "execution_count": 19,
   "id": "6d11b38b",
   "metadata": {},
   "outputs": [
    {
     "name": "stderr",
     "output_type": "stream",
     "text": [
      "/home/diegoflm/anaconda3/lib/python3.9/site-packages/sklearn/neural_network/_multilayer_perceptron.py:692: ConvergenceWarning: Stochastic Optimizer: Maximum iterations (200) reached and the optimization hasn't converged yet.\n",
      "  warnings.warn(\n",
      "/home/diegoflm/anaconda3/lib/python3.9/site-packages/sklearn/neural_network/_multilayer_perceptron.py:692: ConvergenceWarning: Stochastic Optimizer: Maximum iterations (200) reached and the optimization hasn't converged yet.\n",
      "  warnings.warn(\n",
      "/home/diegoflm/anaconda3/lib/python3.9/site-packages/sklearn/neural_network/_multilayer_perceptron.py:692: ConvergenceWarning: Stochastic Optimizer: Maximum iterations (200) reached and the optimization hasn't converged yet.\n",
      "  warnings.warn(\n",
      "/home/diegoflm/anaconda3/lib/python3.9/site-packages/sklearn/neural_network/_multilayer_perceptron.py:692: ConvergenceWarning: Stochastic Optimizer: Maximum iterations (200) reached and the optimization hasn't converged yet.\n",
      "  warnings.warn(\n",
      "/home/diegoflm/anaconda3/lib/python3.9/site-packages/sklearn/neural_network/_multilayer_perceptron.py:692: ConvergenceWarning: Stochastic Optimizer: Maximum iterations (200) reached and the optimization hasn't converged yet.\n",
      "  warnings.warn(\n"
     ]
    },
    {
     "name": "stdout",
     "output_type": "stream",
     "text": [
      "[-0.02622421 -0.02560278 -0.0212528  -0.02523306 -0.02486016]\n"
     ]
    },
    {
     "name": "stderr",
     "output_type": "stream",
     "text": [
      "/home/diegoflm/anaconda3/lib/python3.9/site-packages/sklearn/neural_network/_multilayer_perceptron.py:692: ConvergenceWarning: Stochastic Optimizer: Maximum iterations (200) reached and the optimization hasn't converged yet.\n",
      "  warnings.warn(\n"
     ]
    },
    {
     "data": {
      "text/plain": [
       "-0.024634603361312603"
      ]
     },
     "execution_count": 19,
     "metadata": {},
     "output_type": "execute_result"
    }
   ],
   "source": [
    "modelo2 = MLPClassifier(activation='relu',solver='sgd', alpha=1e-5,hidden_layer_sizes=(3, 3, 3, 3), random_state=123)\n",
    "modelo2.fit(X_train, y_train)\n",
    "scores2 = cross_val_score(modelo2, X_train, y_train, cv=5, scoring='neg_mean_absolute_error')\n",
    "print(scores2)\n",
    "scores2.mean()"
   ]
  },
  {
   "cell_type": "code",
   "execution_count": 87,
   "id": "ea84454d",
   "metadata": {},
   "outputs": [
    {
     "name": "stdout",
     "output_type": "stream",
     "text": [
      "[-0.02286851 -0.02063137 -0.01851852 -0.02088254 -0.01988813]\n"
     ]
    },
    {
     "data": {
      "text/plain": [
       "-0.020557811848496376"
      ]
     },
     "execution_count": 87,
     "metadata": {},
     "output_type": "execute_result"
    }
   ],
   "source": [
    "model3 = MLPClassifier(activation='tanh',solver='adam', alpha=1e-5,hidden_layer_sizes=(5, 5, 5, 5, 5), random_state=123)\n",
    "model3.fit(X_train, y_train)\n",
    "scores3 = cross_val_score(model3, X_train, y_train, cv=5, scoring='neg_mean_absolute_error')\n",
    "print(scores3)\n",
    "scores3.mean()"
   ]
  },
  {
   "cell_type": "code",
   "execution_count": 88,
   "id": "b22820d5",
   "metadata": {},
   "outputs": [
    {
     "name": "stdout",
     "output_type": "stream",
     "text": [
      "[-0.02249565 -0.02137708 -0.01913995 -0.02026103 -0.02311995]\n"
     ]
    },
    {
     "data": {
      "text/plain": [
       "-0.021278731816603936"
      ]
     },
     "execution_count": 88,
     "metadata": {},
     "output_type": "execute_result"
    }
   ],
   "source": [
    "model4 = MLPClassifier(activation='tanh',solver='adam', alpha=1e-5,hidden_layer_sizes=(4, 10, 3), random_state=123)\n",
    "model4.fit(X_train, y_train)\n",
    "scores4 = cross_val_score(model4, X_train, y_train, cv=5, scoring='neg_mean_absolute_error')\n",
    "print(scores4)\n",
    "scores4.mean()"
   ]
  },
  {
   "cell_type": "code",
   "execution_count": 112,
   "id": "2a330d2a",
   "metadata": {},
   "outputs": [
    {
     "name": "stdout",
     "output_type": "stream",
     "text": [
      "[-0.03032563 -0.02796421 -0.02448422 -0.02759478 -0.02597887]\n"
     ]
    },
    {
     "data": {
      "text/plain": [
       "-0.027269539489143145"
      ]
     },
     "execution_count": 112,
     "metadata": {},
     "output_type": "execute_result"
    }
   ],
   "source": [
    "model5 = MLPClassifier(activation='tanh',solver='sgd', alpha=1e-5,hidden_layer_sizes=(1), random_state=123)\n",
    "model5.fit(X_train, y_train)\n",
    "scores5 = cross_val_score(model5, X_train, y_train, cv=5, scoring='neg_mean_absolute_error')\n",
    "print(scores5)\n",
    "scores5.mean()"
   ]
  },
  {
   "cell_type": "markdown",
   "id": "df408cab",
   "metadata": {},
   "source": [
    "# On the test set:"
   ]
  },
  {
   "cell_type": "code",
   "execution_count": 113,
   "id": "8fadd44f",
   "metadata": {},
   "outputs": [
    {
     "data": {
      "text/plain": [
       "array([[-1.41652526, -1.29256979, -0.82061401, ...,  1.        ,\n",
       "         0.        ,  0.        ],\n",
       "       [-0.70195855, -1.56010718, -0.82061401, ...,  1.        ,\n",
       "         0.        ,  0.        ],\n",
       "       [-2.58682181,  0.58019196, -0.0333287 , ...,  0.        ,\n",
       "         0.        ,  1.        ],\n",
       "       ...,\n",
       "       [ 0.55461695, -1.02503239, -0.82061401, ...,  1.        ,\n",
       "         0.        ,  0.        ],\n",
       "       [-0.34578134,  1.11526674,  0.75395662, ...,  1.        ,\n",
       "         0.        ,  0.        ],\n",
       "       [ 0.45063976,  1.38280413,  1.54124193, ...,  0.        ,\n",
       "         1.        ,  0.        ]])"
      ]
     },
     "execution_count": 113,
     "metadata": {},
     "output_type": "execute_result"
    }
   ],
   "source": [
    "X_test = full_pipeline.transform(test_data)\n",
    "X_test"
   ]
  },
  {
   "cell_type": "code",
   "execution_count": 114,
   "id": "6ab801ff",
   "metadata": {},
   "outputs": [
    {
     "data": {
      "text/plain": [
       "array([2, 2, 1, ..., 2, 1, 1])"
      ]
     },
     "execution_count": 114,
     "metadata": {},
     "output_type": "execute_result"
    }
   ],
   "source": [
    "y_pred1 = model1.predict(X_test)  \n",
    "y_pred1"
   ]
  },
  {
   "cell_type": "code",
   "execution_count": 115,
   "id": "4d3b7e68",
   "metadata": {},
   "outputs": [
    {
     "data": {
      "text/plain": [
       "array([2, 2, 1, ..., 2, 1, 1])"
      ]
     },
     "execution_count": 115,
     "metadata": {},
     "output_type": "execute_result"
    }
   ],
   "source": [
    "y_pred2 = modelo2.predict(X_test)  \n",
    "y_pred2"
   ]
  },
  {
   "cell_type": "code",
   "execution_count": 116,
   "id": "ac35f673",
   "metadata": {},
   "outputs": [
    {
     "data": {
      "text/plain": [
       "array([1, 2, 1, ..., 2, 1, 1])"
      ]
     },
     "execution_count": 116,
     "metadata": {},
     "output_type": "execute_result"
    }
   ],
   "source": [
    "y_pred3 = model3.predict(X_test)  \n",
    "y_pred3"
   ]
  },
  {
   "cell_type": "code",
   "execution_count": 117,
   "id": "06852a7a",
   "metadata": {},
   "outputs": [
    {
     "data": {
      "text/plain": [
       "array([1, 2, 1, ..., 2, 1, 1])"
      ]
     },
     "execution_count": 117,
     "metadata": {},
     "output_type": "execute_result"
    }
   ],
   "source": [
    "y_pred4 = model4.predict(X_test)  \n",
    "y_pred4"
   ]
  },
  {
   "cell_type": "code",
   "execution_count": 118,
   "id": "8afe86aa",
   "metadata": {},
   "outputs": [
    {
     "data": {
      "text/plain": [
       "array([2, 2, 1, ..., 2, 1, 1])"
      ]
     },
     "execution_count": 118,
     "metadata": {},
     "output_type": "execute_result"
    }
   ],
   "source": [
    "y_pred5 = model5.predict(X_test)  \n",
    "y_pred5"
   ]
  },
  {
   "cell_type": "code",
   "execution_count": 119,
   "id": "d8310cfa",
   "metadata": {},
   "outputs": [],
   "source": [
    "y_test = test_data[\"winner\"]"
   ]
  },
  {
   "cell_type": "markdown",
   "id": "dc548a2c",
   "metadata": {},
   "source": [
    "# Results"
   ]
  },
  {
   "cell_type": "code",
   "execution_count": 120,
   "id": "6a39d3ea",
   "metadata": {},
   "outputs": [
    {
     "name": "stdout",
     "output_type": "stream",
     "text": [
      "Mean Absolute Error for model1: 0.02545237621793597\n"
     ]
    }
   ],
   "source": [
    "from sklearn.metrics import mean_absolute_error\n",
    "mae = mean_absolute_error(\n",
    "        y_true  = y_test,\n",
    "        y_pred  = y_pred1\n",
    "       )\n",
    "print(f\"Mean Absolute Error for model1: {mae}\")"
   ]
  },
  {
   "cell_type": "code",
   "execution_count": 121,
   "id": "01e536bc",
   "metadata": {},
   "outputs": [
    {
     "name": "stdout",
     "output_type": "stream",
     "text": [
      "Mean Absolute Error for model2: 0.021873135812288724\n"
     ]
    }
   ],
   "source": [
    "from sklearn.metrics import mean_absolute_error\n",
    "mae = mean_absolute_error(\n",
    "        y_true  = y_test,\n",
    "        y_pred  = y_pred2\n",
    "       )\n",
    "print(f\"Mean Absolute Error for model2: {mae}\")"
   ]
  },
  {
   "cell_type": "code",
   "execution_count": 122,
   "id": "146372e0",
   "metadata": {},
   "outputs": [
    {
     "name": "stdout",
     "output_type": "stream",
     "text": [
      "Mean Absolute Error for model3: 0.016901968582223106\n"
     ]
    }
   ],
   "source": [
    "from sklearn.metrics import mean_absolute_error\n",
    "mae = mean_absolute_error(\n",
    "        y_true  = y_test,\n",
    "        y_pred  = y_pred3\n",
    "       )\n",
    "print(f\"Mean Absolute Error for model3: {mae}\")"
   ]
  },
  {
   "cell_type": "code",
   "execution_count": 123,
   "id": "7fc89044",
   "metadata": {},
   "outputs": [
    {
     "name": "stdout",
     "output_type": "stream",
     "text": [
      "Mean Absolute Error for model4: 0.01829389540664148\n"
     ]
    }
   ],
   "source": [
    "from sklearn.metrics import mean_absolute_error\n",
    "mae = mean_absolute_error(\n",
    "        y_true  = y_test,\n",
    "        y_pred  = y_pred4\n",
    "       )\n",
    "print(f\"Mean Absolute Error for model4: {mae}\")"
   ]
  },
  {
   "cell_type": "code",
   "execution_count": 149,
   "id": "7e20808d",
   "metadata": {},
   "outputs": [
    {
     "name": "stdout",
     "output_type": "stream",
     "text": [
      "Mean Absolute Error for model5: 0.026048916285543847\n"
     ]
    }
   ],
   "source": [
    "from sklearn.metrics import mean_absolute_error\n",
    "mae = mean_absolute_error(\n",
    "        y_true  = y_test,\n",
    "        y_pred  = y_pred5\n",
    "       )\n",
    "print(f\"Mean Absolute Error for model5: {mae}\")"
   ]
  },
  {
   "cell_type": "code",
   "execution_count": 125,
   "id": "4ef8ecdf",
   "metadata": {},
   "outputs": [
    {
     "data": {
      "text/plain": [
       "0.974547623782064"
      ]
     },
     "execution_count": 125,
     "metadata": {},
     "output_type": "execute_result"
    }
   ],
   "source": [
    "from sklearn.metrics import accuracy_score\n",
    "accuracy_score(y_test, y_pred1)"
   ]
  },
  {
   "cell_type": "code",
   "execution_count": 126,
   "id": "d9e3adb1",
   "metadata": {},
   "outputs": [
    {
     "data": {
      "text/plain": [
       "0.9781268641877112"
      ]
     },
     "execution_count": 126,
     "metadata": {},
     "output_type": "execute_result"
    }
   ],
   "source": [
    "from sklearn.metrics import accuracy_score\n",
    "accuracy_score(y_test, y_pred2)"
   ]
  },
  {
   "cell_type": "code",
   "execution_count": 127,
   "id": "a7f26f45",
   "metadata": {},
   "outputs": [
    {
     "data": {
      "text/plain": [
       "0.9830980314177769"
      ]
     },
     "execution_count": 127,
     "metadata": {},
     "output_type": "execute_result"
    }
   ],
   "source": [
    "from sklearn.metrics import accuracy_score\n",
    "accuracy_score(y_test, y_pred3)"
   ]
  },
  {
   "cell_type": "code",
   "execution_count": 128,
   "id": "cc808ec6",
   "metadata": {},
   "outputs": [
    {
     "data": {
      "text/plain": [
       "0.9817061045933585"
      ]
     },
     "execution_count": 128,
     "metadata": {},
     "output_type": "execute_result"
    }
   ],
   "source": [
    "from sklearn.metrics import accuracy_score\n",
    "accuracy_score(y_test, y_pred4)"
   ]
  },
  {
   "cell_type": "code",
   "execution_count": 129,
   "id": "bdcbb99f",
   "metadata": {},
   "outputs": [
    {
     "data": {
      "text/plain": [
       "0.9739510837144562"
      ]
     },
     "execution_count": 129,
     "metadata": {},
     "output_type": "execute_result"
    }
   ],
   "source": [
    "from sklearn.metrics import accuracy_score\n",
    "accuracy_score(y_test, y_pred5)"
   ]
  },
  {
   "cell_type": "code",
   "execution_count": 130,
   "id": "c2b68439",
   "metadata": {},
   "outputs": [
    {
     "data": {
      "text/plain": [
       "array([[4977,  118],\n",
       "       [ 138, 4825]])"
      ]
     },
     "execution_count": 130,
     "metadata": {},
     "output_type": "execute_result"
    }
   ],
   "source": [
    "from sklearn.metrics import confusion_matrix\n",
    "\n",
    "confusion_matrix1 = confusion_matrix(y_test, y_pred1)\n",
    "confusion_matrix1"
   ]
  },
  {
   "cell_type": "code",
   "execution_count": 131,
   "id": "de424f31",
   "metadata": {},
   "outputs": [
    {
     "data": {
      "text/plain": [
       "array([[5010,   85],\n",
       "       [ 135, 4828]])"
      ]
     },
     "execution_count": 131,
     "metadata": {},
     "output_type": "execute_result"
    }
   ],
   "source": [
    "from sklearn.metrics import confusion_matrix\n",
    "\n",
    "confusion_matrix2 = confusion_matrix(y_test, y_pred2)\n",
    "confusion_matrix2"
   ]
  },
  {
   "cell_type": "code",
   "execution_count": 132,
   "id": "19605b90",
   "metadata": {},
   "outputs": [
    {
     "data": {
      "text/plain": [
       "array([[5011,   84],\n",
       "       [  86, 4877]])"
      ]
     },
     "execution_count": 132,
     "metadata": {},
     "output_type": "execute_result"
    }
   ],
   "source": [
    "from sklearn.metrics import confusion_matrix\n",
    "\n",
    "confusion_matrix3 = confusion_matrix(y_test, y_pred3)\n",
    "confusion_matrix3"
   ]
  },
  {
   "cell_type": "code",
   "execution_count": 133,
   "id": "9a517a41",
   "metadata": {},
   "outputs": [
    {
     "data": {
      "text/plain": [
       "array([[5003,   92],\n",
       "       [  92, 4871]])"
      ]
     },
     "execution_count": 133,
     "metadata": {},
     "output_type": "execute_result"
    }
   ],
   "source": [
    "from sklearn.metrics import confusion_matrix\n",
    "\n",
    "confusion_matrix4 = confusion_matrix(y_test, y_pred4)\n",
    "confusion_matrix4"
   ]
  },
  {
   "cell_type": "code",
   "execution_count": 134,
   "id": "e4cea9b3",
   "metadata": {},
   "outputs": [
    {
     "data": {
      "text/plain": [
       "array([[4973,  122],\n",
       "       [ 140, 4823]])"
      ]
     },
     "execution_count": 134,
     "metadata": {},
     "output_type": "execute_result"
    }
   ],
   "source": [
    "from sklearn.metrics import confusion_matrix\n",
    "\n",
    "confusion_matrix5 = confusion_matrix(y_test, y_pred5)\n",
    "confusion_matrix5"
   ]
  },
  {
   "cell_type": "markdown",
   "id": "370935e7",
   "metadata": {},
   "source": [
    "# Summary"
   ]
  },
  {
   "cell_type": "code",
   "execution_count": 193,
   "id": "7c876d05",
   "metadata": {},
   "outputs": [
    {
     "name": "stdout",
     "output_type": "stream",
     "text": [
      "+--------+--------------------+------------------+\n",
      "| Model  | Accuracy           | Confusion Matrix |\n",
      "+--------+--------------------+------------------+\n",
      "| model1 | 0.974547623782064  | [[4977  118]     |\n",
      "|        |                    |  [ 138 4825]]    |\n",
      "+--------+--------------------+------------------+\n",
      "| model2 | 0.9781268641877112 | [[5010   85]     |\n",
      "|        |                    |  [ 135 4828]]    |\n",
      "+--------+--------------------+------------------+\n",
      "| model3 | 0.9830980314177769 | [[5011   84]     |\n",
      "|        |                    |  [  86 4877]]    |\n",
      "+--------+--------------------+------------------+\n",
      "| model4 | 0.9817061045933585 | [[5003   92]     |\n",
      "|        |                    |  [  92 4871]]    |\n",
      "+--------+--------------------+------------------+\n",
      "| model5 | 0.9739510837144562 | [[4973  122]     |\n",
      "|        |                    |  [ 140 4823]]    |\n",
      "+--------+--------------------+------------------+\n"
     ]
    }
   ],
   "source": [
    "#Accuracy & Confusion Matrix\n",
    "\n",
    "from tabulate import tabulate\n",
    "mydata = [\n",
    "    ['Model', 'Accuracy', 'Confusion Matrix'],\n",
    "      ['model1', accuracy_score(y_test, y_pred1), confusion_matrix1],\n",
    "      ['model2', accuracy_score(y_test, y_pred2), confusion_matrix2],\n",
    "      ['model3', accuracy_score(y_test, y_pred3), confusion_matrix3],\n",
    "      ['model4', accuracy_score(y_test, y_pred4), confusion_matrix4],\n",
    "      ['model5', accuracy_score(y_test, y_pred5), confusion_matrix5],\n",
    "]\n",
    "print(tabulate(mydata, tablefmt=\"grid\"))"
   ]
  },
  {
   "cell_type": "markdown",
   "id": "805b0c4b",
   "metadata": {},
   "source": [
    "# Best model so far: model3\n",
    "model3 = MLPClassifier( \\\n",
    "&emsp;    activation='tanh', \\\n",
    "&emsp;    solver='adam', \\\n",
    "&emsp;    alpha=1e-5, \\\n",
    "&emsp;    hidden_layer_sizes=(5, 5, 5, 5, 5), \\\n",
    "&emsp;    random_state=123) \\\n",
    "\\\n",
    "model3.fit(X_train, y_train) \\\n",
    "scores3 = cross_val_score( \\\n",
    "&emsp;    model3, \\\n",
    "&emsp;    X_train, \\\n",
    "&emsp;    y_train, \\\n",
    "&emsp;    cv=5, \\\n",
    "&emsp;    scoring='neg_mean_absolute_error') \n",
    "    "
   ]
  },
  {
   "cell_type": "markdown",
   "id": "dbbd46ab",
   "metadata": {},
   "source": [
    "# Hyper-parameter variation"
   ]
  },
  {
   "cell_type": "code",
   "execution_count": 195,
   "id": "ab2e05ac",
   "metadata": {},
   "outputs": [
    {
     "name": "stdout",
     "output_type": "stream",
     "text": [
      "[-0.02174994 -0.02137708 -0.0195128  -0.01988813 -0.01889372]\n"
     ]
    },
    {
     "data": {
      "text/plain": [
       "-0.02028433462222426"
      ]
     },
     "execution_count": 195,
     "metadata": {},
     "output_type": "execute_result"
    }
   ],
   "source": [
    "model3B = MLPClassifier(activation = 'tanh',solver = 'adam', alpha = 1e-5,hidden_layer_sizes = (5, 5, 5, 5, 5), random_state = 123\n",
    "    , n_iter_no_change = 15) #Variation\n",
    "model3B.fit(X_train, y_train)\n",
    "scores3B = cross_val_score(model3B, X_train, y_train, cv=5, scoring='neg_mean_absolute_error')\n",
    "print(scores3B)\n",
    "scores3B.mean()"
   ]
  },
  {
   "cell_type": "code",
   "execution_count": 196,
   "id": "918ba96f",
   "metadata": {},
   "outputs": [
    {
     "name": "stderr",
     "output_type": "stream",
     "text": [
      "/home/diegoflm/anaconda3/lib/python3.9/site-packages/sklearn/neural_network/_multilayer_perceptron.py:692: ConvergenceWarning: Stochastic Optimizer: Maximum iterations (200) reached and the optimization hasn't converged yet.\n",
      "  warnings.warn(\n"
     ]
    },
    {
     "name": "stdout",
     "output_type": "stream",
     "text": [
      "[-0.02150137 -0.02100423 -0.01926423 -0.02063393 -0.01901802]\n"
     ]
    },
    {
     "data": {
      "text/plain": [
       "-0.02028435625050305"
      ]
     },
     "execution_count": 196,
     "metadata": {},
     "output_type": "execute_result"
    }
   ],
   "source": [
    "model3C = MLPClassifier(activation = 'tanh',solver = 'adam', alpha = 1e-5,hidden_layer_sizes = (5, 5, 5, 5, 5), random_state = 123\n",
    "    , n_iter_no_change = 20) #Variation\n",
    "model3C.fit(X_train, y_train)\n",
    "scores3C = cross_val_score(model3C, X_train, y_train, cv=5, scoring='neg_mean_absolute_error')\n",
    "print(scores3C)\n",
    "scores3C.mean()"
   ]
  },
  {
   "cell_type": "code",
   "execution_count": 197,
   "id": "f6129eb3",
   "metadata": {},
   "outputs": [
    {
     "data": {
      "text/plain": [
       "array([1, 2, 1, ..., 2, 1, 1])"
      ]
     },
     "execution_count": 197,
     "metadata": {},
     "output_type": "execute_result"
    }
   ],
   "source": [
    "y_pred3B = model3B.predict(X_test)  \n",
    "y_pred3B"
   ]
  },
  {
   "cell_type": "code",
   "execution_count": 198,
   "id": "e8397537",
   "metadata": {},
   "outputs": [
    {
     "data": {
      "text/plain": [
       "array([1, 2, 1, ..., 2, 1, 1])"
      ]
     },
     "execution_count": 198,
     "metadata": {},
     "output_type": "execute_result"
    }
   ],
   "source": [
    "y_pred3C = model3C.predict(X_test)  \n",
    "y_pred3C"
   ]
  },
  {
   "cell_type": "code",
   "execution_count": 199,
   "id": "ca41a553",
   "metadata": {},
   "outputs": [
    {
     "name": "stdout",
     "output_type": "stream",
     "text": [
      "Mean Absolute Error for model3B: 0.015510041757804733\n"
     ]
    }
   ],
   "source": [
    "from sklearn.metrics import mean_absolute_error\n",
    "mae = mean_absolute_error(\n",
    "        y_true  = y_test,\n",
    "        y_pred  = y_pred3B\n",
    "       )\n",
    "print(f\"Mean Absolute Error for model3B: {mae}\")"
   ]
  },
  {
   "cell_type": "code",
   "execution_count": 200,
   "id": "b666cbe0",
   "metadata": {},
   "outputs": [
    {
     "name": "stdout",
     "output_type": "stream",
     "text": [
      "Mean Absolute Error for model3C: 0.01580831179160867\n"
     ]
    }
   ],
   "source": [
    "from sklearn.metrics import mean_absolute_error\n",
    "mae = mean_absolute_error(\n",
    "        y_true  = y_test,\n",
    "        y_pred  = y_pred3C\n",
    "       )\n",
    "print(f\"Mean Absolute Error for model3C: {mae}\")"
   ]
  },
  {
   "cell_type": "code",
   "execution_count": 201,
   "id": "cf61a872",
   "metadata": {},
   "outputs": [
    {
     "data": {
      "text/plain": [
       "0.9844899582421953"
      ]
     },
     "execution_count": 201,
     "metadata": {},
     "output_type": "execute_result"
    }
   ],
   "source": [
    "from sklearn.metrics import accuracy_score\n",
    "accuracy_score(y_test, y_pred3B)"
   ]
  },
  {
   "cell_type": "code",
   "execution_count": 202,
   "id": "f23f1e07",
   "metadata": {},
   "outputs": [
    {
     "data": {
      "text/plain": [
       "0.9841916882083913"
      ]
     },
     "execution_count": 202,
     "metadata": {},
     "output_type": "execute_result"
    }
   ],
   "source": [
    "from sklearn.metrics import accuracy_score\n",
    "accuracy_score(y_test, y_pred3C)"
   ]
  },
  {
   "cell_type": "code",
   "execution_count": 203,
   "id": "a1024c3a",
   "metadata": {},
   "outputs": [
    {
     "data": {
      "text/plain": [
       "array([[5021,   74],\n",
       "       [  82, 4881]])"
      ]
     },
     "execution_count": 203,
     "metadata": {},
     "output_type": "execute_result"
    }
   ],
   "source": [
    "from sklearn.metrics import confusion_matrix\n",
    "\n",
    "confusion_matrix3B = confusion_matrix(y_test, y_pred3B)\n",
    "confusion_matrix3B"
   ]
  },
  {
   "cell_type": "code",
   "execution_count": 204,
   "id": "b70874e2",
   "metadata": {},
   "outputs": [
    {
     "data": {
      "text/plain": [
       "array([[5026,   69],\n",
       "       [  90, 4873]])"
      ]
     },
     "execution_count": 204,
     "metadata": {},
     "output_type": "execute_result"
    }
   ],
   "source": [
    "from sklearn.metrics import confusion_matrix\n",
    "\n",
    "confusion_matrix3C = confusion_matrix(y_test, y_pred3C)\n",
    "confusion_matrix3C"
   ]
  },
  {
   "cell_type": "markdown",
   "id": "2f387542",
   "metadata": {},
   "source": [
    "# Comparison"
   ]
  },
  {
   "cell_type": "code",
   "execution_count": 209,
   "id": "d93a3250",
   "metadata": {},
   "outputs": [
    {
     "name": "stdout",
     "output_type": "stream",
     "text": [
      "+---------+------------------+--------------------+------------------+\n",
      "| Model   | n_iter_no_change | Accuracy           | Confusion Matrix |\n",
      "+---------+------------------+--------------------+------------------+\n",
      "| model3  | 10               | 0.9830980314177769 | [[5011   84]     |\n",
      "|         |                  |                    |  [  86 4877]]    |\n",
      "+---------+------------------+--------------------+------------------+\n",
      "| model3B | 15               | 0.9844899582421953 | [[5021   74]     |\n",
      "|         |                  |                    |  [  82 4881]]    |\n",
      "+---------+------------------+--------------------+------------------+\n",
      "| model3C | 20               | 0.9841916882083913 | [[5026   69]     |\n",
      "|         |                  |                    |  [  90 4873]]    |\n",
      "+---------+------------------+--------------------+------------------+\n"
     ]
    }
   ],
   "source": [
    "from tabulate import tabulate\n",
    "mydata = [\n",
    "    ['Model', 'n_iter_no_change', 'Accuracy', 'Confusion Matrix'],\n",
    "      ['model3', 10, accuracy_score(y_test, y_pred3), confusion_matrix3],\n",
    "      ['model3B', 15, accuracy_score(y_test, y_pred3B), confusion_matrix3B],\n",
    "      ['model3C', 20, accuracy_score(y_test, y_pred3C), confusion_matrix3C]\n",
    "]\n",
    "print(tabulate(mydata, tablefmt=\"grid\"))"
   ]
  },
  {
   "cell_type": "markdown",
   "id": "2010f3ac",
   "metadata": {},
   "source": [
    "# Analysis\n",
    "For the model3, two variations for an hyper-parameter were done. The chosen parameter was n_iter_no_change.  \n",
    "The default value for this parameter (the value for model3) is: 10  \n",
    "The description for this hyper-parameter is:\n",
    "\"Maximum number of epochs to not meet tol improvement.  \n",
    "Only effective when solver=’sgd’ or ‘adam’.\"  \n",
    "\n",
    "A greater value for this parameter leads to a greatest amount of epochs, which could mean a better performance.  \n",
    "The results show that a bigger value for n_iter_no_change than 10 improves the accuracy,  \n",
    "but the value with the better performance is n_iter_no_change = 15.\n",
    "\n",
    "This is a bit counterintuitive, but it could mean that a value of 20 leads the model to be a bit overfit.  \n",
    "In any case, with either a value of 15 or 20, the accuracies are similar, and both are better than  \n",
    "the accuracy oibtained with de default value of 10."
   ]
  }
 ],
 "metadata": {
  "kernelspec": {
   "display_name": "Python 3 (ipykernel)",
   "language": "python",
   "name": "python3"
  },
  "language_info": {
   "codemirror_mode": {
    "name": "ipython",
    "version": 3
   },
   "file_extension": ".py",
   "mimetype": "text/x-python",
   "name": "python",
   "nbconvert_exporter": "python",
   "pygments_lexer": "ipython3",
   "version": "3.9.12"
  },
  "vscode": {
   "interpreter": {
    "hash": "66e37a4da3c390ba9102db785636e2db61d518923b2ca2e4091350072f76ee72"
   }
  }
 },
 "nbformat": 4,
 "nbformat_minor": 5
}
