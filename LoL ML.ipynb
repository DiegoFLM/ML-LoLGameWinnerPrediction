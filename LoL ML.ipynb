{
 "cells": [
  {
   "cell_type": "code",
   "execution_count": 1,
   "id": "a4709f21",
   "metadata": {},
   "outputs": [],
   "source": [
    "import sklearn\n",
    "import pandas as pd\n",
    "import numpy as np\n",
    "import warnings\n",
    "\n",
    "import matplotlib.pyplot as plt"
   ]
  },
  {
   "cell_type": "code",
   "execution_count": 2,
   "id": "818ea1f0",
   "metadata": {},
   "outputs": [
    {
     "name": "stdout",
     "output_type": "stream",
     "text": [
      "<class 'pandas.core.frame.DataFrame'>\n",
      "RangeIndex: 50286 entries, 0 to 50285\n",
      "Data columns (total 18 columns):\n",
      " #   Column              Non-Null Count  Dtype\n",
      "---  ------              --------------  -----\n",
      " 0   gameDuration        50286 non-null  int64\n",
      " 1   firstBlood          50286 non-null  int64\n",
      " 2   firstTower          50286 non-null  int64\n",
      " 3   firstInhibitor      50286 non-null  int64\n",
      " 4   firstBaron          50286 non-null  int64\n",
      " 5   firstDragon         50286 non-null  int64\n",
      " 6   firstRiftHerald     50286 non-null  int64\n",
      " 7   t1_towerKills       50286 non-null  int64\n",
      " 8   t1_inhibitorKills   50286 non-null  int64\n",
      " 9   t1_baronKills       50286 non-null  int64\n",
      " 10  t1_dragonKills      50286 non-null  int64\n",
      " 11  t1_riftHeraldKills  50286 non-null  int64\n",
      " 12  t2_towerKills       50286 non-null  int64\n",
      " 13  t2_inhibitorKills   50286 non-null  int64\n",
      " 14  t2_baronKills       50286 non-null  int64\n",
      " 15  t2_dragonKills      50286 non-null  int64\n",
      " 16  t2_riftHeraldKills  50286 non-null  int64\n",
      " 17  winner              50286 non-null  int64\n",
      "dtypes: int64(18)\n",
      "memory usage: 6.9 MB\n"
     ]
    },
    {
     "name": "stderr",
     "output_type": "stream",
     "text": [
      "/home/diegoflm/anaconda3/lib/python3.9/site-packages/IPython/core/interactiveshell.py:3369: FutureWarning: In a future version of pandas all arguments of read_csv except for the argument 'filepath_or_buffer' will be keyword-only.\n",
      "  exec(code_obj, self.user_global_ns, self.user_ns)\n"
     ]
    }
   ],
   "source": [
    "games = pd.read_csv('./games.csv', ';')\n",
    "#print(games.head(5))\n",
    "games.info()"
   ]
  },
  {
   "cell_type": "code",
   "execution_count": 3,
   "id": "007303ff",
   "metadata": {},
   "outputs": [
    {
     "data": {
      "text/html": [
       "<div>\n",
       "<style scoped>\n",
       "    .dataframe tbody tr th:only-of-type {\n",
       "        vertical-align: middle;\n",
       "    }\n",
       "\n",
       "    .dataframe tbody tr th {\n",
       "        vertical-align: top;\n",
       "    }\n",
       "\n",
       "    .dataframe thead th {\n",
       "        text-align: right;\n",
       "    }\n",
       "</style>\n",
       "<table border=\"1\" class=\"dataframe\">\n",
       "  <thead>\n",
       "    <tr style=\"text-align: right;\">\n",
       "      <th></th>\n",
       "      <th>gameDuration</th>\n",
       "      <th>firstBlood</th>\n",
       "      <th>firstTower</th>\n",
       "      <th>firstInhibitor</th>\n",
       "      <th>firstBaron</th>\n",
       "      <th>firstDragon</th>\n",
       "      <th>firstRiftHerald</th>\n",
       "      <th>t1_towerKills</th>\n",
       "      <th>t1_inhibitorKills</th>\n",
       "      <th>t1_baronKills</th>\n",
       "      <th>t1_dragonKills</th>\n",
       "      <th>t1_riftHeraldKills</th>\n",
       "      <th>t2_towerKills</th>\n",
       "      <th>t2_inhibitorKills</th>\n",
       "      <th>t2_baronKills</th>\n",
       "      <th>t2_dragonKills</th>\n",
       "      <th>t2_riftHeraldKills</th>\n",
       "      <th>winner</th>\n",
       "    </tr>\n",
       "  </thead>\n",
       "  <tbody>\n",
       "    <tr>\n",
       "      <th>count</th>\n",
       "      <td>50286.000000</td>\n",
       "      <td>50286.000000</td>\n",
       "      <td>50286.000000</td>\n",
       "      <td>50286.000000</td>\n",
       "      <td>50286.000000</td>\n",
       "      <td>50286.000000</td>\n",
       "      <td>50286.000000</td>\n",
       "      <td>50286.000000</td>\n",
       "      <td>50286.000000</td>\n",
       "      <td>50286.000000</td>\n",
       "      <td>50286.000000</td>\n",
       "      <td>50286.000000</td>\n",
       "      <td>50286.000000</td>\n",
       "      <td>50286.000000</td>\n",
       "      <td>50286.000000</td>\n",
       "      <td>50286.000000</td>\n",
       "      <td>50286.000000</td>\n",
       "      <td>50286.000000</td>\n",
       "    </tr>\n",
       "    <tr>\n",
       "      <th>mean</th>\n",
       "      <td>1871.386032</td>\n",
       "      <td>1.487233</td>\n",
       "      <td>1.485125</td>\n",
       "      <td>1.339578</td>\n",
       "      <td>0.948693</td>\n",
       "      <td>1.477270</td>\n",
       "      <td>0.749195</td>\n",
       "      <td>5.835163</td>\n",
       "      <td>1.041781</td>\n",
       "      <td>0.381200</td>\n",
       "      <td>1.420356</td>\n",
       "      <td>0.257487</td>\n",
       "      <td>5.681999</td>\n",
       "      <td>1.008611</td>\n",
       "      <td>0.424472</td>\n",
       "      <td>1.437975</td>\n",
       "      <td>0.245854</td>\n",
       "      <td>1.493776</td>\n",
       "    </tr>\n",
       "    <tr>\n",
       "      <th>std</th>\n",
       "      <td>450.876052</td>\n",
       "      <td>0.499842</td>\n",
       "      <td>0.500499</td>\n",
       "      <td>0.652960</td>\n",
       "      <td>0.838988</td>\n",
       "      <td>0.530346</td>\n",
       "      <td>0.824393</td>\n",
       "      <td>3.740575</td>\n",
       "      <td>1.269064</td>\n",
       "      <td>0.588001</td>\n",
       "      <td>1.201740</td>\n",
       "      <td>0.437254</td>\n",
       "      <td>3.809336</td>\n",
       "      <td>1.261867</td>\n",
       "      <td>0.617672</td>\n",
       "      <td>1.219412</td>\n",
       "      <td>0.430597</td>\n",
       "      <td>0.499966</td>\n",
       "    </tr>\n",
       "    <tr>\n",
       "      <th>min</th>\n",
       "      <td>610.000000</td>\n",
       "      <td>1.000000</td>\n",
       "      <td>0.000000</td>\n",
       "      <td>0.000000</td>\n",
       "      <td>0.000000</td>\n",
       "      <td>0.000000</td>\n",
       "      <td>0.000000</td>\n",
       "      <td>0.000000</td>\n",
       "      <td>0.000000</td>\n",
       "      <td>0.000000</td>\n",
       "      <td>0.000000</td>\n",
       "      <td>0.000000</td>\n",
       "      <td>0.000000</td>\n",
       "      <td>0.000000</td>\n",
       "      <td>0.000000</td>\n",
       "      <td>0.000000</td>\n",
       "      <td>0.000000</td>\n",
       "      <td>1.000000</td>\n",
       "    </tr>\n",
       "    <tr>\n",
       "      <th>25%</th>\n",
       "      <td>1554.000000</td>\n",
       "      <td>1.000000</td>\n",
       "      <td>1.000000</td>\n",
       "      <td>1.000000</td>\n",
       "      <td>0.000000</td>\n",
       "      <td>1.000000</td>\n",
       "      <td>0.000000</td>\n",
       "      <td>2.000000</td>\n",
       "      <td>0.000000</td>\n",
       "      <td>0.000000</td>\n",
       "      <td>0.000000</td>\n",
       "      <td>0.000000</td>\n",
       "      <td>2.000000</td>\n",
       "      <td>0.000000</td>\n",
       "      <td>0.000000</td>\n",
       "      <td>0.000000</td>\n",
       "      <td>0.000000</td>\n",
       "      <td>1.000000</td>\n",
       "    </tr>\n",
       "    <tr>\n",
       "      <th>50%</th>\n",
       "      <td>1846.000000</td>\n",
       "      <td>1.000000</td>\n",
       "      <td>1.000000</td>\n",
       "      <td>1.000000</td>\n",
       "      <td>1.000000</td>\n",
       "      <td>1.000000</td>\n",
       "      <td>1.000000</td>\n",
       "      <td>6.000000</td>\n",
       "      <td>1.000000</td>\n",
       "      <td>0.000000</td>\n",
       "      <td>1.000000</td>\n",
       "      <td>0.000000</td>\n",
       "      <td>6.000000</td>\n",
       "      <td>0.000000</td>\n",
       "      <td>0.000000</td>\n",
       "      <td>1.000000</td>\n",
       "      <td>0.000000</td>\n",
       "      <td>1.000000</td>\n",
       "    </tr>\n",
       "    <tr>\n",
       "      <th>75%</th>\n",
       "      <td>2156.750000</td>\n",
       "      <td>2.000000</td>\n",
       "      <td>2.000000</td>\n",
       "      <td>2.000000</td>\n",
       "      <td>2.000000</td>\n",
       "      <td>2.000000</td>\n",
       "      <td>1.000000</td>\n",
       "      <td>9.000000</td>\n",
       "      <td>2.000000</td>\n",
       "      <td>1.000000</td>\n",
       "      <td>2.000000</td>\n",
       "      <td>1.000000</td>\n",
       "      <td>9.000000</td>\n",
       "      <td>2.000000</td>\n",
       "      <td>1.000000</td>\n",
       "      <td>2.000000</td>\n",
       "      <td>0.000000</td>\n",
       "      <td>2.000000</td>\n",
       "    </tr>\n",
       "    <tr>\n",
       "      <th>max</th>\n",
       "      <td>4728.000000</td>\n",
       "      <td>2.000000</td>\n",
       "      <td>2.000000</td>\n",
       "      <td>2.000000</td>\n",
       "      <td>2.000000</td>\n",
       "      <td>2.000000</td>\n",
       "      <td>2.000000</td>\n",
       "      <td>11.000000</td>\n",
       "      <td>10.000000</td>\n",
       "      <td>5.000000</td>\n",
       "      <td>6.000000</td>\n",
       "      <td>1.000000</td>\n",
       "      <td>11.000000</td>\n",
       "      <td>10.000000</td>\n",
       "      <td>4.000000</td>\n",
       "      <td>6.000000</td>\n",
       "      <td>1.000000</td>\n",
       "      <td>2.000000</td>\n",
       "    </tr>\n",
       "  </tbody>\n",
       "</table>\n",
       "</div>"
      ],
      "text/plain": [
       "       gameDuration    firstBlood    firstTower  firstInhibitor    firstBaron  \\\n",
       "count  50286.000000  50286.000000  50286.000000    50286.000000  50286.000000   \n",
       "mean    1871.386032      1.487233      1.485125        1.339578      0.948693   \n",
       "std      450.876052      0.499842      0.500499        0.652960      0.838988   \n",
       "min      610.000000      1.000000      0.000000        0.000000      0.000000   \n",
       "25%     1554.000000      1.000000      1.000000        1.000000      0.000000   \n",
       "50%     1846.000000      1.000000      1.000000        1.000000      1.000000   \n",
       "75%     2156.750000      2.000000      2.000000        2.000000      2.000000   \n",
       "max     4728.000000      2.000000      2.000000        2.000000      2.000000   \n",
       "\n",
       "        firstDragon  firstRiftHerald  t1_towerKills  t1_inhibitorKills  \\\n",
       "count  50286.000000     50286.000000   50286.000000       50286.000000   \n",
       "mean       1.477270         0.749195       5.835163           1.041781   \n",
       "std        0.530346         0.824393       3.740575           1.269064   \n",
       "min        0.000000         0.000000       0.000000           0.000000   \n",
       "25%        1.000000         0.000000       2.000000           0.000000   \n",
       "50%        1.000000         1.000000       6.000000           1.000000   \n",
       "75%        2.000000         1.000000       9.000000           2.000000   \n",
       "max        2.000000         2.000000      11.000000          10.000000   \n",
       "\n",
       "       t1_baronKills  t1_dragonKills  t1_riftHeraldKills  t2_towerKills  \\\n",
       "count   50286.000000    50286.000000        50286.000000   50286.000000   \n",
       "mean        0.381200        1.420356            0.257487       5.681999   \n",
       "std         0.588001        1.201740            0.437254       3.809336   \n",
       "min         0.000000        0.000000            0.000000       0.000000   \n",
       "25%         0.000000        0.000000            0.000000       2.000000   \n",
       "50%         0.000000        1.000000            0.000000       6.000000   \n",
       "75%         1.000000        2.000000            1.000000       9.000000   \n",
       "max         5.000000        6.000000            1.000000      11.000000   \n",
       "\n",
       "       t2_inhibitorKills  t2_baronKills  t2_dragonKills  t2_riftHeraldKills  \\\n",
       "count       50286.000000   50286.000000    50286.000000        50286.000000   \n",
       "mean            1.008611       0.424472        1.437975            0.245854   \n",
       "std             1.261867       0.617672        1.219412            0.430597   \n",
       "min             0.000000       0.000000        0.000000            0.000000   \n",
       "25%             0.000000       0.000000        0.000000            0.000000   \n",
       "50%             0.000000       0.000000        1.000000            0.000000   \n",
       "75%             2.000000       1.000000        2.000000            0.000000   \n",
       "max            10.000000       4.000000        6.000000            1.000000   \n",
       "\n",
       "             winner  \n",
       "count  50286.000000  \n",
       "mean       1.493776  \n",
       "std        0.499966  \n",
       "min        1.000000  \n",
       "25%        1.000000  \n",
       "50%        1.000000  \n",
       "75%        2.000000  \n",
       "max        2.000000  "
      ]
     },
     "execution_count": 3,
     "metadata": {},
     "output_type": "execute_result"
    }
   ],
   "source": [
    "# Variables cuantitativas (tipo entero)\n",
    "games.select_dtypes(include=['int64']).describe()"
   ]
  },
  {
   "cell_type": "markdown",
   "id": "02abc0a8",
   "metadata": {},
   "source": [
    "# Split training data from test data."
   ]
  },
  {
   "cell_type": "code",
   "execution_count": 4,
   "id": "af0a198d",
   "metadata": {},
   "outputs": [
    {
     "name": "stdout",
     "output_type": "stream",
     "text": [
      "50286 40228 10058\n"
     ]
    }
   ],
   "source": [
    "from sklearn.model_selection import train_test_split\n",
    "N=len(games)\n",
    "cTrain=int(N*0.8) # 80% for training and 20% for testing\n",
    "cTest=N-cTrain\n",
    "print(N,cTrain,cTest)\n",
    "train_data, test_data = sklearn.model_selection.train_test_split(games, train_size=cTrain, test_size=cTest)"
   ]
  },
  {
   "cell_type": "code",
   "execution_count": 5,
   "id": "7f7d5403",
   "metadata": {},
   "outputs": [
    {
     "data": {
      "text/html": [
       "<div>\n",
       "<style scoped>\n",
       "    .dataframe tbody tr th:only-of-type {\n",
       "        vertical-align: middle;\n",
       "    }\n",
       "\n",
       "    .dataframe tbody tr th {\n",
       "        vertical-align: top;\n",
       "    }\n",
       "\n",
       "    .dataframe thead th {\n",
       "        text-align: right;\n",
       "    }\n",
       "</style>\n",
       "<table border=\"1\" class=\"dataframe\">\n",
       "  <thead>\n",
       "    <tr style=\"text-align: right;\">\n",
       "      <th></th>\n",
       "      <th>gameDuration</th>\n",
       "      <th>firstBlood</th>\n",
       "      <th>firstTower</th>\n",
       "      <th>firstInhibitor</th>\n",
       "      <th>firstBaron</th>\n",
       "      <th>firstDragon</th>\n",
       "      <th>firstRiftHerald</th>\n",
       "      <th>t1_towerKills</th>\n",
       "      <th>t1_inhibitorKills</th>\n",
       "      <th>t1_baronKills</th>\n",
       "      <th>t1_dragonKills</th>\n",
       "      <th>t1_riftHeraldKills</th>\n",
       "      <th>t2_towerKills</th>\n",
       "      <th>t2_inhibitorKills</th>\n",
       "      <th>t2_baronKills</th>\n",
       "      <th>t2_dragonKills</th>\n",
       "      <th>t2_riftHeraldKills</th>\n",
       "      <th>winner</th>\n",
       "    </tr>\n",
       "  </thead>\n",
       "  <tbody>\n",
       "    <tr>\n",
       "      <th>39803</th>\n",
       "      <td>1907</td>\n",
       "      <td>1</td>\n",
       "      <td>1</td>\n",
       "      <td>1</td>\n",
       "      <td>0</td>\n",
       "      <td>1</td>\n",
       "      <td>0</td>\n",
       "      <td>9</td>\n",
       "      <td>1</td>\n",
       "      <td>0</td>\n",
       "      <td>1</td>\n",
       "      <td>0</td>\n",
       "      <td>2</td>\n",
       "      <td>0</td>\n",
       "      <td>0</td>\n",
       "      <td>2</td>\n",
       "      <td>0</td>\n",
       "      <td>1</td>\n",
       "    </tr>\n",
       "    <tr>\n",
       "      <th>8173</th>\n",
       "      <td>2055</td>\n",
       "      <td>1</td>\n",
       "      <td>1</td>\n",
       "      <td>2</td>\n",
       "      <td>0</td>\n",
       "      <td>2</td>\n",
       "      <td>0</td>\n",
       "      <td>6</td>\n",
       "      <td>0</td>\n",
       "      <td>0</td>\n",
       "      <td>2</td>\n",
       "      <td>0</td>\n",
       "      <td>10</td>\n",
       "      <td>2</td>\n",
       "      <td>0</td>\n",
       "      <td>2</td>\n",
       "      <td>0</td>\n",
       "      <td>2</td>\n",
       "    </tr>\n",
       "    <tr>\n",
       "      <th>3463</th>\n",
       "      <td>2329</td>\n",
       "      <td>2</td>\n",
       "      <td>2</td>\n",
       "      <td>2</td>\n",
       "      <td>2</td>\n",
       "      <td>2</td>\n",
       "      <td>2</td>\n",
       "      <td>4</td>\n",
       "      <td>0</td>\n",
       "      <td>0</td>\n",
       "      <td>1</td>\n",
       "      <td>0</td>\n",
       "      <td>9</td>\n",
       "      <td>1</td>\n",
       "      <td>2</td>\n",
       "      <td>3</td>\n",
       "      <td>1</td>\n",
       "      <td>2</td>\n",
       "    </tr>\n",
       "    <tr>\n",
       "      <th>4311</th>\n",
       "      <td>1241</td>\n",
       "      <td>1</td>\n",
       "      <td>2</td>\n",
       "      <td>2</td>\n",
       "      <td>0</td>\n",
       "      <td>2</td>\n",
       "      <td>0</td>\n",
       "      <td>0</td>\n",
       "      <td>0</td>\n",
       "      <td>0</td>\n",
       "      <td>0</td>\n",
       "      <td>0</td>\n",
       "      <td>8</td>\n",
       "      <td>2</td>\n",
       "      <td>0</td>\n",
       "      <td>2</td>\n",
       "      <td>0</td>\n",
       "      <td>2</td>\n",
       "    </tr>\n",
       "    <tr>\n",
       "      <th>46497</th>\n",
       "      <td>1258</td>\n",
       "      <td>2</td>\n",
       "      <td>1</td>\n",
       "      <td>0</td>\n",
       "      <td>0</td>\n",
       "      <td>1</td>\n",
       "      <td>0</td>\n",
       "      <td>3</td>\n",
       "      <td>0</td>\n",
       "      <td>0</td>\n",
       "      <td>1</td>\n",
       "      <td>0</td>\n",
       "      <td>1</td>\n",
       "      <td>0</td>\n",
       "      <td>0</td>\n",
       "      <td>0</td>\n",
       "      <td>0</td>\n",
       "      <td>1</td>\n",
       "    </tr>\n",
       "  </tbody>\n",
       "</table>\n",
       "</div>"
      ],
      "text/plain": [
       "       gameDuration  firstBlood  firstTower  firstInhibitor  firstBaron  \\\n",
       "39803          1907           1           1               1           0   \n",
       "8173           2055           1           1               2           0   \n",
       "3463           2329           2           2               2           2   \n",
       "4311           1241           1           2               2           0   \n",
       "46497          1258           2           1               0           0   \n",
       "\n",
       "       firstDragon  firstRiftHerald  t1_towerKills  t1_inhibitorKills  \\\n",
       "39803            1                0              9                  1   \n",
       "8173             2                0              6                  0   \n",
       "3463             2                2              4                  0   \n",
       "4311             2                0              0                  0   \n",
       "46497            1                0              3                  0   \n",
       "\n",
       "       t1_baronKills  t1_dragonKills  t1_riftHeraldKills  t2_towerKills  \\\n",
       "39803              0               1                   0              2   \n",
       "8173               0               2                   0             10   \n",
       "3463               0               1                   0              9   \n",
       "4311               0               0                   0              8   \n",
       "46497              0               1                   0              1   \n",
       "\n",
       "       t2_inhibitorKills  t2_baronKills  t2_dragonKills  t2_riftHeraldKills  \\\n",
       "39803                  0              0               2                   0   \n",
       "8173                   2              0               2                   0   \n",
       "3463                   1              2               3                   1   \n",
       "4311                   2              0               2                   0   \n",
       "46497                  0              0               0                   0   \n",
       "\n",
       "       winner  \n",
       "39803       1  \n",
       "8173        2  \n",
       "3463        2  \n",
       "4311        2  \n",
       "46497       1  "
      ]
     },
     "execution_count": 5,
     "metadata": {},
     "output_type": "execute_result"
    }
   ],
   "source": [
    "#train_data.shape\n",
    "train_data.head()"
   ]
  },
  {
   "cell_type": "markdown",
   "id": "a6ca5829",
   "metadata": {},
   "source": [
    "# Pipeline for categorical attributes"
   ]
  },
  {
   "cell_type": "code",
   "execution_count": 6,
   "id": "72177c76",
   "metadata": {},
   "outputs": [],
   "source": [
    "from sklearn.preprocessing import OneHotEncoder\n",
    "from sklearn.pipeline import Pipeline\n",
    "from sklearn.impute import SimpleImputer"
   ]
  },
  {
   "cell_type": "code",
   "execution_count": 7,
   "id": "dc7f81f5",
   "metadata": {},
   "outputs": [],
   "source": [
    "#6 categorical attributes\n",
    "cat_atts = ['firstBlood','firstTower', 'firstInhibitor', 'firstBaron', 'firstDragon', 'firstRiftHerald']\n",
    "cat_pipeline = Pipeline([\n",
    "        (\"imputer\", SimpleImputer(strategy=\"most_frequent\")),\n",
    "        (\"cat_encoder\", OneHotEncoder(sparse=False))\n",
    "    ])"
   ]
  },
  {
   "cell_type": "markdown",
   "id": "0ce1de2b",
   "metadata": {},
   "source": [
    "# Pipeline for numeric attributes"
   ]
  },
  {
   "cell_type": "code",
   "execution_count": 8,
   "id": "0a479950",
   "metadata": {},
   "outputs": [],
   "source": [
    "from sklearn.pipeline import Pipeline\n",
    "from sklearn.impute import SimpleImputer\n",
    "from sklearn.preprocessing import StandardScaler\n",
    "from sklearn.preprocessing import MinMaxScaler"
   ]
  },
  {
   "cell_type": "code",
   "execution_count": 9,
   "id": "7dd9d72b",
   "metadata": {},
   "outputs": [],
   "source": [
    "#11 numeric attributes\n",
    "num_atts = ['gameDuration', 't1_towerKills', 't1_inhibitorKills', 't1_baronKills', 't1_dragonKills', \n",
    "        't1_riftHeraldKills', 't2_towerKills', 't2_inhibitorKills', 't2_baronKills', 't2_dragonKills', \n",
    "        't2_riftHeraldKills']\n",
    "\n",
    "num_pipeline = Pipeline([\n",
    "        (\"imputer\", SimpleImputer(strategy=\"median\")),\n",
    "        (\"scaler\", StandardScaler()) \n",
    "    ])"
   ]
  },
  {
   "cell_type": "markdown",
   "id": "6d469ff3",
   "metadata": {},
   "source": [
    "# Pipeline completo"
   ]
  },
  {
   "cell_type": "code",
   "execution_count": 10,
   "id": "eb92c27b",
   "metadata": {},
   "outputs": [],
   "source": [
    "from sklearn.compose import ColumnTransformer\n",
    "\n",
    "full_pipeline = ColumnTransformer([\n",
    "    (\"num\", num_pipeline, num_atts),\n",
    "    (\"cat\", cat_pipeline, cat_atts), \n",
    "])"
   ]
  },
  {
   "cell_type": "code",
   "execution_count": 11,
   "id": "b17374eb",
   "metadata": {},
   "outputs": [],
   "source": [
    "X_train = full_pipeline.fit_transform(train_data)"
   ]
  },
  {
   "cell_type": "code",
   "execution_count": 12,
   "id": "2bd1f14e",
   "metadata": {},
   "outputs": [
    {
     "data": {
      "text/plain": [
       "(40228, 28)"
      ]
     },
     "execution_count": 12,
     "metadata": {},
     "output_type": "execute_result"
    }
   ],
   "source": [
    "X_train.shape"
   ]
  },
  {
   "cell_type": "code",
   "execution_count": 13,
   "id": "ed7c49c3",
   "metadata": {},
   "outputs": [
    {
     "data": {
      "text/plain": [
       "array([ 0.07864796,  0.84451494, -0.03465914, -0.64885115, -0.34940022,\n",
       "       -0.58825872, -0.96503923, -0.79885364, -0.6866721 ,  0.46076727,\n",
       "       -0.57076729,  1.        ,  0.        ,  0.        ,  1.        ,\n",
       "        0.        ,  0.        ,  1.        ,  0.        ,  1.        ,\n",
       "        0.        ,  0.        ,  0.        ,  1.        ,  0.        ,\n",
       "        1.        ,  0.        ,  0.        ])"
      ]
     },
     "execution_count": 13,
     "metadata": {},
     "output_type": "execute_result"
    }
   ],
   "source": [
    "X_train[0,:]"
   ]
  },
  {
   "cell_type": "code",
   "execution_count": 14,
   "id": "9fd8d09c",
   "metadata": {},
   "outputs": [
    {
     "data": {
      "text/plain": [
       "39803    1\n",
       "8173     2\n",
       "3463     2\n",
       "4311     2\n",
       "46497    1\n",
       "        ..\n",
       "23866    2\n",
       "45969    2\n",
       "32874    2\n",
       "7288     2\n",
       "8919     1\n",
       "Name: winner, Length: 40228, dtype: int64"
      ]
     },
     "execution_count": 14,
     "metadata": {},
     "output_type": "execute_result"
    }
   ],
   "source": [
    "y_train = train_data[\"winner\"]\n",
    "y_train"
   ]
  },
  {
   "cell_type": "markdown",
   "id": "1adbe2fd",
   "metadata": {},
   "source": [
    "# Neuronal network training models"
   ]
  },
  {
   "cell_type": "code",
   "execution_count": 15,
   "id": "d3800acf",
   "metadata": {},
   "outputs": [],
   "source": [
    "from sklearn.neural_network import MLPClassifier\n",
    "from sklearn.model_selection import cross_val_score"
   ]
  },
  {
   "cell_type": "code",
   "execution_count": 16,
   "id": "3a61bba3",
   "metadata": {},
   "outputs": [
    {
     "name": "stdout",
     "output_type": "stream",
     "text": [
      "[-0.02771564 -0.02572707 -0.02846135 -0.02461156 -0.02647607]\n"
     ]
    },
    {
     "data": {
      "text/plain": [
       "-0.026598336754463575"
      ]
     },
     "execution_count": 16,
     "metadata": {},
     "output_type": "execute_result"
    }
   ],
   "source": [
    "model1 = MLPClassifier(activation='identity',solver='lbfgs', alpha=1e-5,\n",
    "    hidden_layer_sizes=(4,7), random_state=123)\n",
    "\n",
    "model1.fit(X_train, y_train)\n",
    "scores1 = cross_val_score(model1, X_train, y_train, cv=5, scoring='neg_mean_absolute_error')\n",
    "print(scores1)\n",
    "scores1.mean()"
   ]
  },
  {
   "cell_type": "code",
   "execution_count": 23,
   "id": "6d11b38b",
   "metadata": {},
   "outputs": [
    {
     "name": "stderr",
     "output_type": "stream",
     "text": [
      "/home/diegoflm/anaconda3/lib/python3.9/site-packages/sklearn/neural_network/_multilayer_perceptron.py:692: ConvergenceWarning: Stochastic Optimizer: Maximum iterations (200) reached and the optimization hasn't converged yet.\n",
      "  warnings.warn(\n",
      "/home/diegoflm/anaconda3/lib/python3.9/site-packages/sklearn/neural_network/_multilayer_perceptron.py:692: ConvergenceWarning: Stochastic Optimizer: Maximum iterations (200) reached and the optimization hasn't converged yet.\n",
      "  warnings.warn(\n",
      "/home/diegoflm/anaconda3/lib/python3.9/site-packages/sklearn/neural_network/_multilayer_perceptron.py:692: ConvergenceWarning: Stochastic Optimizer: Maximum iterations (200) reached and the optimization hasn't converged yet.\n",
      "  warnings.warn(\n",
      "/home/diegoflm/anaconda3/lib/python3.9/site-packages/sklearn/neural_network/_multilayer_perceptron.py:692: ConvergenceWarning: Stochastic Optimizer: Maximum iterations (200) reached and the optimization hasn't converged yet.\n",
      "  warnings.warn(\n"
     ]
    },
    {
     "name": "stdout",
     "output_type": "stream",
     "text": [
      "[-0.02783992 -0.02249565 -0.02696992 -0.02448726 -0.02200124]\n"
     ]
    },
    {
     "name": "stderr",
     "output_type": "stream",
     "text": [
      "/home/diegoflm/anaconda3/lib/python3.9/site-packages/sklearn/neural_network/_multilayer_perceptron.py:692: ConvergenceWarning: Stochastic Optimizer: Maximum iterations (200) reached and the optimization hasn't converged yet.\n",
      "  warnings.warn(\n"
     ]
    },
    {
     "data": {
      "text/plain": [
       "-0.02475879911762802"
      ]
     },
     "execution_count": 23,
     "metadata": {},
     "output_type": "execute_result"
    }
   ],
   "source": [
    "modelo2 = MLPClassifier(activation='relu',solver='sgd', alpha=1e-5,hidden_layer_sizes=(3, 3, 3, 3), random_state=123)\n",
    "modelo2.fit(X_train, y_train)\n",
    "scores2 = cross_val_score(modelo2, X_train, y_train, cv=5, scoring='neg_mean_absolute_error')\n",
    "print(scores2)\n",
    "scores2.mean()"
   ]
  },
  {
   "cell_type": "code",
   "execution_count": 72,
   "id": "ea84454d",
   "metadata": {},
   "outputs": [
    {
     "name": "stderr",
     "output_type": "stream",
     "text": [
      "/home/diegoflm/anaconda3/lib/python3.9/site-packages/sklearn/neural_network/_multilayer_perceptron.py:692: ConvergenceWarning: Stochastic Optimizer: Maximum iterations (200) reached and the optimization hasn't converged yet.\n",
      "  warnings.warn(\n",
      "/home/diegoflm/anaconda3/lib/python3.9/site-packages/sklearn/neural_network/_multilayer_perceptron.py:692: ConvergenceWarning: Stochastic Optimizer: Maximum iterations (200) reached and the optimization hasn't converged yet.\n",
      "  warnings.warn(\n"
     ]
    },
    {
     "name": "stdout",
     "output_type": "stream",
     "text": [
      "[-0.02087994 -0.02025851 -0.01963709 -0.02150404 -0.01951523]\n"
     ]
    },
    {
     "data": {
      "text/plain": [
       "-0.020358961453309104"
      ]
     },
     "execution_count": 72,
     "metadata": {},
     "output_type": "execute_result"
    }
   ],
   "source": [
    "model3 = MLPClassifier(activation='tanh',solver='sgd', alpha=1e-5,hidden_layer_sizes=(5, 5, 5, 5, 5), random_state=123)\n",
    "model3.fit(X_train, y_train)\n",
    "scores3 = cross_val_score(model3, X_train, y_train, cv=5, scoring='neg_mean_absolute_error')\n",
    "print(scores3)\n",
    "scores3.mean()"
   ]
  },
  {
   "cell_type": "markdown",
   "id": "df408cab",
   "metadata": {},
   "source": [
    "# On the test set:"
   ]
  },
  {
   "cell_type": "code",
   "execution_count": 73,
   "id": "8fadd44f",
   "metadata": {},
   "outputs": [
    {
     "data": {
      "text/plain": [
       "array([[-0.42950871,  0.57711722,  0.75440025, ...,  1.        ,\n",
       "         0.        ,  0.        ],\n",
       "       [ 0.41593971, -1.02726906, -0.82371854, ...,  0.        ,\n",
       "         0.        ,  1.        ],\n",
       "       [ 0.35380702, -1.56206448, -0.82371854, ...,  0.        ,\n",
       "         0.        ,  1.        ],\n",
       "       ...,\n",
       "       [-1.33265177, -1.56206448, -0.82371854, ...,  0.        ,\n",
       "         0.        ,  1.        ],\n",
       "       [ 0.40928264,  0.84451494, -0.03465914, ...,  0.        ,\n",
       "         1.        ,  0.        ],\n",
       "       [-0.80674291,  0.57711722, -0.03465914, ...,  0.        ,\n",
       "         1.        ,  0.        ]])"
      ]
     },
     "execution_count": 73,
     "metadata": {},
     "output_type": "execute_result"
    }
   ],
   "source": [
    "X_test = full_pipeline.transform(test_data)\n",
    "X_test"
   ]
  },
  {
   "cell_type": "code",
   "execution_count": 74,
   "id": "6ab801ff",
   "metadata": {},
   "outputs": [
    {
     "data": {
      "text/plain": [
       "array([1, 2, 2, ..., 2, 1, 1])"
      ]
     },
     "execution_count": 74,
     "metadata": {},
     "output_type": "execute_result"
    }
   ],
   "source": [
    "y_pred1 = model1.predict(X_test)  \n",
    "y_pred1"
   ]
  },
  {
   "cell_type": "code",
   "execution_count": 75,
   "id": "4d3b7e68",
   "metadata": {},
   "outputs": [
    {
     "data": {
      "text/plain": [
       "array([1, 2, 2, ..., 2, 1, 1])"
      ]
     },
     "execution_count": 75,
     "metadata": {},
     "output_type": "execute_result"
    }
   ],
   "source": [
    "y_pred2 = modelo2.predict(X_test)  \n",
    "y_pred2"
   ]
  },
  {
   "cell_type": "code",
   "execution_count": 76,
   "id": "ac35f673",
   "metadata": {},
   "outputs": [
    {
     "data": {
      "text/plain": [
       "array([1, 2, 2, ..., 2, 1, 1])"
      ]
     },
     "execution_count": 76,
     "metadata": {},
     "output_type": "execute_result"
    }
   ],
   "source": [
    "y_pred3 = model3.predict(X_test)  \n",
    "y_pred3"
   ]
  },
  {
   "cell_type": "code",
   "execution_count": 77,
   "id": "d8310cfa",
   "metadata": {},
   "outputs": [],
   "source": [
    "y_test = test_data[\"winner\"]"
   ]
  },
  {
   "cell_type": "markdown",
   "id": "dc548a2c",
   "metadata": {},
   "source": [
    "# Results"
   ]
  },
  {
   "cell_type": "code",
   "execution_count": 78,
   "id": "6a39d3ea",
   "metadata": {},
   "outputs": [
    {
     "name": "stdout",
     "output_type": "stream",
     "text": [
      "Mean Absolute Error for model1: 0.02783853648836747\n"
     ]
    }
   ],
   "source": [
    "from sklearn.metrics import mean_absolute_error\n",
    "mae = mean_absolute_error(\n",
    "        y_true  = y_test,\n",
    "        y_pred  = y_pred1\n",
    "       )\n",
    "print(f\"Mean Absolute Error for model1: {mae}\")"
   ]
  },
  {
   "cell_type": "code",
   "execution_count": 79,
   "id": "01e536bc",
   "metadata": {},
   "outputs": [
    {
     "name": "stdout",
     "output_type": "stream",
     "text": [
      "Mean Absolute Error for model2: 0.02207198250149135\n"
     ]
    }
   ],
   "source": [
    "from sklearn.metrics import mean_absolute_error\n",
    "mae = mean_absolute_error(\n",
    "        y_true  = y_test,\n",
    "        y_pred  = y_pred2\n",
    "       )\n",
    "print(f\"Mean Absolute Error for model2: {mae}\")"
   ]
  },
  {
   "cell_type": "code",
   "execution_count": 80,
   "id": "146372e0",
   "metadata": {},
   "outputs": [
    {
     "name": "stdout",
     "output_type": "stream",
     "text": [
      "Mean Absolute Error for model3: 0.020680055677072977\n"
     ]
    }
   ],
   "source": [
    "from sklearn.metrics import mean_absolute_error\n",
    "mae = mean_absolute_error(\n",
    "        y_true  = y_test,\n",
    "        y_pred  = y_pred3\n",
    "       )\n",
    "print(f\"Mean Absolute Error for model3: {mae}\")"
   ]
  },
  {
   "cell_type": "code",
   "execution_count": 81,
   "id": "4ef8ecdf",
   "metadata": {},
   "outputs": [
    {
     "data": {
      "text/plain": [
       "0.9721614635116326"
      ]
     },
     "execution_count": 81,
     "metadata": {},
     "output_type": "execute_result"
    }
   ],
   "source": [
    "from sklearn.metrics import accuracy_score\n",
    "accuracy_score(y_test, y_pred1)"
   ]
  },
  {
   "cell_type": "code",
   "execution_count": 82,
   "id": "d9e3adb1",
   "metadata": {},
   "outputs": [
    {
     "data": {
      "text/plain": [
       "0.9779280174985087"
      ]
     },
     "execution_count": 82,
     "metadata": {},
     "output_type": "execute_result"
    }
   ],
   "source": [
    "from sklearn.metrics import accuracy_score\n",
    "accuracy_score(y_test, y_pred2)"
   ]
  },
  {
   "cell_type": "code",
   "execution_count": 83,
   "id": "a7f26f45",
   "metadata": {},
   "outputs": [
    {
     "data": {
      "text/plain": [
       "0.979319944322927"
      ]
     },
     "execution_count": 83,
     "metadata": {},
     "output_type": "execute_result"
    }
   ],
   "source": [
    "from sklearn.metrics import accuracy_score\n",
    "accuracy_score(y_test, y_pred3)"
   ]
  },
  {
   "cell_type": "code",
   "execution_count": 84,
   "id": "c2b68439",
   "metadata": {},
   "outputs": [
    {
     "data": {
      "text/plain": [
       "array([[4917,  147],\n",
       "       [ 133, 4861]])"
      ]
     },
     "execution_count": 84,
     "metadata": {},
     "output_type": "execute_result"
    }
   ],
   "source": [
    "from sklearn.metrics import confusion_matrix\n",
    "\n",
    "confusion_matrix1 = confusion_matrix(y_test, y_pred1)\n",
    "confusion_matrix1"
   ]
  },
  {
   "cell_type": "code",
   "execution_count": 85,
   "id": "de424f31",
   "metadata": {},
   "outputs": [
    {
     "data": {
      "text/plain": [
       "array([[4959,  105],\n",
       "       [ 117, 4877]])"
      ]
     },
     "execution_count": 85,
     "metadata": {},
     "output_type": "execute_result"
    }
   ],
   "source": [
    "from sklearn.metrics import confusion_matrix\n",
    "\n",
    "confusion_matrix2 = confusion_matrix(y_test, y_pred2)\n",
    "confusion_matrix2"
   ]
  },
  {
   "cell_type": "code",
   "execution_count": 86,
   "id": "19605b90",
   "metadata": {},
   "outputs": [
    {
     "data": {
      "text/plain": [
       "array([[4934,  130],\n",
       "       [  78, 4916]])"
      ]
     },
     "execution_count": 86,
     "metadata": {},
     "output_type": "execute_result"
    }
   ],
   "source": [
    "from sklearn.metrics import confusion_matrix\n",
    "\n",
    "confusion_matrix3 = confusion_matrix(y_test, y_pred3)\n",
    "confusion_matrix3"
   ]
  }
 ],
 "metadata": {
  "kernelspec": {
   "display_name": "Python 3 (ipykernel)",
   "language": "python",
   "name": "python3"
  },
  "language_info": {
   "codemirror_mode": {
    "name": "ipython",
    "version": 3
   },
   "file_extension": ".py",
   "mimetype": "text/x-python",
   "name": "python",
   "nbconvert_exporter": "python",
   "pygments_lexer": "ipython3",
   "version": "3.9.12"
  },
  "vscode": {
   "interpreter": {
    "hash": "66e37a4da3c390ba9102db785636e2db61d518923b2ca2e4091350072f76ee72"
   }
  }
 },
 "nbformat": 4,
 "nbformat_minor": 5
}
