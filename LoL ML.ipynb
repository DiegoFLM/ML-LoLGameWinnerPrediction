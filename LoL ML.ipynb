{
 "cells": [
  {
   "cell_type": "code",
   "execution_count": 21,
   "id": "a4709f21",
   "metadata": {},
   "outputs": [],
   "source": [
    "import sklearn\n",
    "import pandas as pd\n",
    "import numpy as np\n",
    "import warnings\n",
    "\n",
    "import matplotlib.pyplot as plt"
   ]
  },
  {
   "cell_type": "code",
   "execution_count": 22,
   "id": "818ea1f0",
   "metadata": {},
   "outputs": [
    {
     "name": "stdout",
     "output_type": "stream",
     "text": [
      "<class 'pandas.core.frame.DataFrame'>\n",
      "RangeIndex: 50286 entries, 0 to 50285\n",
      "Data columns (total 18 columns):\n",
      " #   Column              Non-Null Count  Dtype\n",
      "---  ------              --------------  -----\n",
      " 0   gameDuration        50286 non-null  int64\n",
      " 1   firstBlood          50286 non-null  int64\n",
      " 2   firstTower          50286 non-null  int64\n",
      " 3   firstInhibitor      50286 non-null  int64\n",
      " 4   firstBaron          50286 non-null  int64\n",
      " 5   firstDragon         50286 non-null  int64\n",
      " 6   firstRiftHerald     50286 non-null  int64\n",
      " 7   t1_towerKills       50286 non-null  int64\n",
      " 8   t1_inhibitorKills   50286 non-null  int64\n",
      " 9   t1_baronKills       50286 non-null  int64\n",
      " 10  t1_dragonKills      50286 non-null  int64\n",
      " 11  t1_riftHeraldKills  50286 non-null  int64\n",
      " 12  t2_towerKills       50286 non-null  int64\n",
      " 13  t2_inhibitorKills   50286 non-null  int64\n",
      " 14  t2_baronKills       50286 non-null  int64\n",
      " 15  t2_dragonKills      50286 non-null  int64\n",
      " 16  t2_riftHeraldKills  50286 non-null  int64\n",
      " 17  winner              50286 non-null  int64\n",
      "dtypes: int64(18)\n",
      "memory usage: 6.9 MB\n"
     ]
    },
    {
     "name": "stderr",
     "output_type": "stream",
     "text": [
      "/home/diegoflm/anaconda3/lib/python3.9/site-packages/IPython/core/interactiveshell.py:3369: FutureWarning: In a future version of pandas all arguments of read_csv except for the argument 'filepath_or_buffer' will be keyword-only.\n",
      "  exec(code_obj, self.user_global_ns, self.user_ns)\n"
     ]
    }
   ],
   "source": [
    "games = pd.read_csv('./games.csv', ';')\n",
    "#print(games.head(5))\n",
    "games.info()"
   ]
  },
  {
   "cell_type": "code",
   "execution_count": 23,
   "id": "007303ff",
   "metadata": {},
   "outputs": [
    {
     "data": {
      "text/html": [
       "<div>\n",
       "<style scoped>\n",
       "    .dataframe tbody tr th:only-of-type {\n",
       "        vertical-align: middle;\n",
       "    }\n",
       "\n",
       "    .dataframe tbody tr th {\n",
       "        vertical-align: top;\n",
       "    }\n",
       "\n",
       "    .dataframe thead th {\n",
       "        text-align: right;\n",
       "    }\n",
       "</style>\n",
       "<table border=\"1\" class=\"dataframe\">\n",
       "  <thead>\n",
       "    <tr style=\"text-align: right;\">\n",
       "      <th></th>\n",
       "      <th>gameDuration</th>\n",
       "      <th>firstBlood</th>\n",
       "      <th>firstTower</th>\n",
       "      <th>firstInhibitor</th>\n",
       "      <th>firstBaron</th>\n",
       "      <th>firstDragon</th>\n",
       "      <th>firstRiftHerald</th>\n",
       "      <th>t1_towerKills</th>\n",
       "      <th>t1_inhibitorKills</th>\n",
       "      <th>t1_baronKills</th>\n",
       "      <th>t1_dragonKills</th>\n",
       "      <th>t1_riftHeraldKills</th>\n",
       "      <th>t2_towerKills</th>\n",
       "      <th>t2_inhibitorKills</th>\n",
       "      <th>t2_baronKills</th>\n",
       "      <th>t2_dragonKills</th>\n",
       "      <th>t2_riftHeraldKills</th>\n",
       "      <th>winner</th>\n",
       "    </tr>\n",
       "  </thead>\n",
       "  <tbody>\n",
       "    <tr>\n",
       "      <th>count</th>\n",
       "      <td>50286.000000</td>\n",
       "      <td>50286.000000</td>\n",
       "      <td>50286.000000</td>\n",
       "      <td>50286.000000</td>\n",
       "      <td>50286.000000</td>\n",
       "      <td>50286.000000</td>\n",
       "      <td>50286.000000</td>\n",
       "      <td>50286.000000</td>\n",
       "      <td>50286.000000</td>\n",
       "      <td>50286.000000</td>\n",
       "      <td>50286.000000</td>\n",
       "      <td>50286.000000</td>\n",
       "      <td>50286.000000</td>\n",
       "      <td>50286.000000</td>\n",
       "      <td>50286.000000</td>\n",
       "      <td>50286.000000</td>\n",
       "      <td>50286.000000</td>\n",
       "      <td>50286.000000</td>\n",
       "    </tr>\n",
       "    <tr>\n",
       "      <th>mean</th>\n",
       "      <td>1871.386032</td>\n",
       "      <td>1.487233</td>\n",
       "      <td>1.485125</td>\n",
       "      <td>1.339578</td>\n",
       "      <td>0.948693</td>\n",
       "      <td>1.477270</td>\n",
       "      <td>0.749195</td>\n",
       "      <td>5.835163</td>\n",
       "      <td>1.041781</td>\n",
       "      <td>0.381200</td>\n",
       "      <td>1.420356</td>\n",
       "      <td>0.257487</td>\n",
       "      <td>5.681999</td>\n",
       "      <td>1.008611</td>\n",
       "      <td>0.424472</td>\n",
       "      <td>1.437975</td>\n",
       "      <td>0.245854</td>\n",
       "      <td>1.493776</td>\n",
       "    </tr>\n",
       "    <tr>\n",
       "      <th>std</th>\n",
       "      <td>450.876052</td>\n",
       "      <td>0.499842</td>\n",
       "      <td>0.500499</td>\n",
       "      <td>0.652960</td>\n",
       "      <td>0.838988</td>\n",
       "      <td>0.530346</td>\n",
       "      <td>0.824393</td>\n",
       "      <td>3.740575</td>\n",
       "      <td>1.269064</td>\n",
       "      <td>0.588001</td>\n",
       "      <td>1.201740</td>\n",
       "      <td>0.437254</td>\n",
       "      <td>3.809336</td>\n",
       "      <td>1.261867</td>\n",
       "      <td>0.617672</td>\n",
       "      <td>1.219412</td>\n",
       "      <td>0.430597</td>\n",
       "      <td>0.499966</td>\n",
       "    </tr>\n",
       "    <tr>\n",
       "      <th>min</th>\n",
       "      <td>610.000000</td>\n",
       "      <td>1.000000</td>\n",
       "      <td>0.000000</td>\n",
       "      <td>0.000000</td>\n",
       "      <td>0.000000</td>\n",
       "      <td>0.000000</td>\n",
       "      <td>0.000000</td>\n",
       "      <td>0.000000</td>\n",
       "      <td>0.000000</td>\n",
       "      <td>0.000000</td>\n",
       "      <td>0.000000</td>\n",
       "      <td>0.000000</td>\n",
       "      <td>0.000000</td>\n",
       "      <td>0.000000</td>\n",
       "      <td>0.000000</td>\n",
       "      <td>0.000000</td>\n",
       "      <td>0.000000</td>\n",
       "      <td>1.000000</td>\n",
       "    </tr>\n",
       "    <tr>\n",
       "      <th>25%</th>\n",
       "      <td>1554.000000</td>\n",
       "      <td>1.000000</td>\n",
       "      <td>1.000000</td>\n",
       "      <td>1.000000</td>\n",
       "      <td>0.000000</td>\n",
       "      <td>1.000000</td>\n",
       "      <td>0.000000</td>\n",
       "      <td>2.000000</td>\n",
       "      <td>0.000000</td>\n",
       "      <td>0.000000</td>\n",
       "      <td>0.000000</td>\n",
       "      <td>0.000000</td>\n",
       "      <td>2.000000</td>\n",
       "      <td>0.000000</td>\n",
       "      <td>0.000000</td>\n",
       "      <td>0.000000</td>\n",
       "      <td>0.000000</td>\n",
       "      <td>1.000000</td>\n",
       "    </tr>\n",
       "    <tr>\n",
       "      <th>50%</th>\n",
       "      <td>1846.000000</td>\n",
       "      <td>1.000000</td>\n",
       "      <td>1.000000</td>\n",
       "      <td>1.000000</td>\n",
       "      <td>1.000000</td>\n",
       "      <td>1.000000</td>\n",
       "      <td>1.000000</td>\n",
       "      <td>6.000000</td>\n",
       "      <td>1.000000</td>\n",
       "      <td>0.000000</td>\n",
       "      <td>1.000000</td>\n",
       "      <td>0.000000</td>\n",
       "      <td>6.000000</td>\n",
       "      <td>0.000000</td>\n",
       "      <td>0.000000</td>\n",
       "      <td>1.000000</td>\n",
       "      <td>0.000000</td>\n",
       "      <td>1.000000</td>\n",
       "    </tr>\n",
       "    <tr>\n",
       "      <th>75%</th>\n",
       "      <td>2156.750000</td>\n",
       "      <td>2.000000</td>\n",
       "      <td>2.000000</td>\n",
       "      <td>2.000000</td>\n",
       "      <td>2.000000</td>\n",
       "      <td>2.000000</td>\n",
       "      <td>1.000000</td>\n",
       "      <td>9.000000</td>\n",
       "      <td>2.000000</td>\n",
       "      <td>1.000000</td>\n",
       "      <td>2.000000</td>\n",
       "      <td>1.000000</td>\n",
       "      <td>9.000000</td>\n",
       "      <td>2.000000</td>\n",
       "      <td>1.000000</td>\n",
       "      <td>2.000000</td>\n",
       "      <td>0.000000</td>\n",
       "      <td>2.000000</td>\n",
       "    </tr>\n",
       "    <tr>\n",
       "      <th>max</th>\n",
       "      <td>4728.000000</td>\n",
       "      <td>2.000000</td>\n",
       "      <td>2.000000</td>\n",
       "      <td>2.000000</td>\n",
       "      <td>2.000000</td>\n",
       "      <td>2.000000</td>\n",
       "      <td>2.000000</td>\n",
       "      <td>11.000000</td>\n",
       "      <td>10.000000</td>\n",
       "      <td>5.000000</td>\n",
       "      <td>6.000000</td>\n",
       "      <td>1.000000</td>\n",
       "      <td>11.000000</td>\n",
       "      <td>10.000000</td>\n",
       "      <td>4.000000</td>\n",
       "      <td>6.000000</td>\n",
       "      <td>1.000000</td>\n",
       "      <td>2.000000</td>\n",
       "    </tr>\n",
       "  </tbody>\n",
       "</table>\n",
       "</div>"
      ],
      "text/plain": [
       "       gameDuration    firstBlood    firstTower  firstInhibitor    firstBaron  \\\n",
       "count  50286.000000  50286.000000  50286.000000    50286.000000  50286.000000   \n",
       "mean    1871.386032      1.487233      1.485125        1.339578      0.948693   \n",
       "std      450.876052      0.499842      0.500499        0.652960      0.838988   \n",
       "min      610.000000      1.000000      0.000000        0.000000      0.000000   \n",
       "25%     1554.000000      1.000000      1.000000        1.000000      0.000000   \n",
       "50%     1846.000000      1.000000      1.000000        1.000000      1.000000   \n",
       "75%     2156.750000      2.000000      2.000000        2.000000      2.000000   \n",
       "max     4728.000000      2.000000      2.000000        2.000000      2.000000   \n",
       "\n",
       "        firstDragon  firstRiftHerald  t1_towerKills  t1_inhibitorKills  \\\n",
       "count  50286.000000     50286.000000   50286.000000       50286.000000   \n",
       "mean       1.477270         0.749195       5.835163           1.041781   \n",
       "std        0.530346         0.824393       3.740575           1.269064   \n",
       "min        0.000000         0.000000       0.000000           0.000000   \n",
       "25%        1.000000         0.000000       2.000000           0.000000   \n",
       "50%        1.000000         1.000000       6.000000           1.000000   \n",
       "75%        2.000000         1.000000       9.000000           2.000000   \n",
       "max        2.000000         2.000000      11.000000          10.000000   \n",
       "\n",
       "       t1_baronKills  t1_dragonKills  t1_riftHeraldKills  t2_towerKills  \\\n",
       "count   50286.000000    50286.000000        50286.000000   50286.000000   \n",
       "mean        0.381200        1.420356            0.257487       5.681999   \n",
       "std         0.588001        1.201740            0.437254       3.809336   \n",
       "min         0.000000        0.000000            0.000000       0.000000   \n",
       "25%         0.000000        0.000000            0.000000       2.000000   \n",
       "50%         0.000000        1.000000            0.000000       6.000000   \n",
       "75%         1.000000        2.000000            1.000000       9.000000   \n",
       "max         5.000000        6.000000            1.000000      11.000000   \n",
       "\n",
       "       t2_inhibitorKills  t2_baronKills  t2_dragonKills  t2_riftHeraldKills  \\\n",
       "count       50286.000000   50286.000000    50286.000000        50286.000000   \n",
       "mean            1.008611       0.424472        1.437975            0.245854   \n",
       "std             1.261867       0.617672        1.219412            0.430597   \n",
       "min             0.000000       0.000000        0.000000            0.000000   \n",
       "25%             0.000000       0.000000        0.000000            0.000000   \n",
       "50%             0.000000       0.000000        1.000000            0.000000   \n",
       "75%             2.000000       1.000000        2.000000            0.000000   \n",
       "max            10.000000       4.000000        6.000000            1.000000   \n",
       "\n",
       "             winner  \n",
       "count  50286.000000  \n",
       "mean       1.493776  \n",
       "std        0.499966  \n",
       "min        1.000000  \n",
       "25%        1.000000  \n",
       "50%        1.000000  \n",
       "75%        2.000000  \n",
       "max        2.000000  "
      ]
     },
     "execution_count": 23,
     "metadata": {},
     "output_type": "execute_result"
    }
   ],
   "source": [
    "# Cuantitative variables (integer)\n",
    "games.select_dtypes(include=['int64']).describe()"
   ]
  },
  {
   "cell_type": "markdown",
   "id": "02abc0a8",
   "metadata": {},
   "source": [
    "# Split training data from test data: 80% for training, 20% for testing."
   ]
  },
  {
   "cell_type": "code",
   "execution_count": 24,
   "id": "af0a198d",
   "metadata": {},
   "outputs": [
    {
     "name": "stdout",
     "output_type": "stream",
     "text": [
      "50286 40228 10058\n"
     ]
    }
   ],
   "source": [
    "from sklearn.model_selection import train_test_split\n",
    "N=len(games)\n",
    "cTrain=int(N*0.8) # 80% for training and 20% for testing\n",
    "cTest=N-cTrain\n",
    "print(N,cTrain,cTest)\n",
    "train_data, test_data = sklearn.model_selection.train_test_split(games, train_size=cTrain, test_size=cTest)"
   ]
  },
  {
   "cell_type": "code",
   "execution_count": 25,
   "id": "7f7d5403",
   "metadata": {},
   "outputs": [
    {
     "data": {
      "text/plain": [
       "(40228, 18)"
      ]
     },
     "execution_count": 25,
     "metadata": {},
     "output_type": "execute_result"
    }
   ],
   "source": [
    "train_data.shape\n",
    "#train_data.head()"
   ]
  },
  {
   "cell_type": "markdown",
   "id": "a6ca5829",
   "metadata": {},
   "source": [
    "# Pipeline for categorical attributes"
   ]
  },
  {
   "cell_type": "code",
   "execution_count": 26,
   "id": "72177c76",
   "metadata": {},
   "outputs": [],
   "source": [
    "from sklearn.preprocessing import OneHotEncoder\n",
    "from sklearn.pipeline import Pipeline\n",
    "from sklearn.impute import SimpleImputer"
   ]
  },
  {
   "cell_type": "code",
   "execution_count": 27,
   "id": "dc7f81f5",
   "metadata": {},
   "outputs": [],
   "source": [
    "#6 categorical attributes, where the numeric values don't have a numerical meaning.\n",
    "cat_atts = ['firstBlood','firstTower', 'firstInhibitor', 'firstBaron', 'firstDragon', 'firstRiftHerald']\n",
    "cat_pipeline = Pipeline([\n",
    "        (\"imputer\", SimpleImputer(strategy=\"most_frequent\")),\n",
    "        (\"cat_encoder\", OneHotEncoder(sparse=False))\n",
    "    ])"
   ]
  },
  {
   "cell_type": "markdown",
   "id": "0ce1de2b",
   "metadata": {},
   "source": [
    "# Pipeline for numeric attributes"
   ]
  },
  {
   "cell_type": "code",
   "execution_count": 28,
   "id": "0a479950",
   "metadata": {},
   "outputs": [],
   "source": [
    "from sklearn.pipeline import Pipeline\n",
    "from sklearn.impute import SimpleImputer\n",
    "from sklearn.preprocessing import StandardScaler\n",
    "from sklearn.preprocessing import MinMaxScaler"
   ]
  },
  {
   "cell_type": "code",
   "execution_count": 29,
   "id": "7dd9d72b",
   "metadata": {},
   "outputs": [],
   "source": [
    "#10 numeric attributes\n",
    "#num_atts = ['gameDuration', 't1_towerKills', 't1_inhibitorKills', 't1_baronKills', 't1_dragonKills', \n",
    "num_atts =                  ['t1_towerKills', 't1_inhibitorKills', 't1_baronKills', 't1_dragonKills', \n",
    "        't1_riftHeraldKills', 't2_towerKills', 't2_inhibitorKills', 't2_baronKills', 't2_dragonKills', \n",
    "        't2_riftHeraldKills']\n",
    "\n",
    "num_pipeline = Pipeline([\n",
    "        (\"imputer\", SimpleImputer(strategy=\"median\")),\n",
    "        (\"scaler\", StandardScaler())    #Standarization by centering and scaling.\n",
    "    ])"
   ]
  },
  {
   "cell_type": "markdown",
   "id": "6d469ff3",
   "metadata": {},
   "source": [
    "# Full Pipeline"
   ]
  },
  {
   "cell_type": "code",
   "execution_count": 30,
   "id": "eb92c27b",
   "metadata": {},
   "outputs": [],
   "source": [
    "from sklearn.compose import ColumnTransformer\n",
    "\n",
    "full_pipeline = ColumnTransformer([\n",
    "    (\"num\", num_pipeline, num_atts),\n",
    "    (\"cat\", cat_pipeline, cat_atts), \n",
    "])"
   ]
  },
  {
   "cell_type": "code",
   "execution_count": 31,
   "id": "b17374eb",
   "metadata": {},
   "outputs": [],
   "source": [
    "X_train = full_pipeline.fit_transform(train_data)"
   ]
  },
  {
   "cell_type": "code",
   "execution_count": 32,
   "id": "2bd1f14e",
   "metadata": {},
   "outputs": [
    {
     "data": {
      "text/plain": [
       "(40228, 27)"
      ]
     },
     "execution_count": 32,
     "metadata": {},
     "output_type": "execute_result"
    }
   ],
   "source": [
    "X_train.shape"
   ]
  },
  {
   "cell_type": "code",
   "execution_count": 33,
   "id": "ed7c49c3",
   "metadata": {},
   "outputs": [
    {
     "data": {
      "text/plain": [
       "array([ 0.84667577,  0.75530919, -0.65025213,  0.48215189, -0.59001977,\n",
       "        0.34616121, -0.00580028,  0.93397853,  0.46176791, -0.57019315,\n",
       "        0.        ,  1.        ,  0.        ,  0.        ,  1.        ,\n",
       "        0.        ,  1.        ,  0.        ,  0.        ,  0.        ,\n",
       "        1.        ,  0.        ,  1.        ,  0.        ,  1.        ,\n",
       "        0.        ,  0.        ])"
      ]
     },
     "execution_count": 33,
     "metadata": {},
     "output_type": "execute_result"
    }
   ],
   "source": [
    "X_train[0,:]"
   ]
  },
  {
   "cell_type": "code",
   "execution_count": 34,
   "id": "9fd8d09c",
   "metadata": {},
   "outputs": [
    {
     "data": {
      "text/plain": [
       "15802    2\n",
       "27284    1\n",
       "39097    1\n",
       "21726    2\n",
       "10644    2\n",
       "        ..\n",
       "25488    1\n",
       "12135    2\n",
       "17632    2\n",
       "29618    2\n",
       "14548    1\n",
       "Name: winner, Length: 40228, dtype: int64"
      ]
     },
     "execution_count": 34,
     "metadata": {},
     "output_type": "execute_result"
    }
   ],
   "source": [
    "y_train = train_data[\"winner\"]\n",
    "y_train"
   ]
  },
  {
   "cell_type": "markdown",
   "id": "1adbe2fd",
   "metadata": {},
   "source": [
    "# Neuronal network training models"
   ]
  },
  {
   "cell_type": "code",
   "execution_count": 35,
   "id": "d3800acf",
   "metadata": {},
   "outputs": [],
   "source": [
    "from sklearn.neural_network import MLPClassifier\n",
    "from sklearn.model_selection import cross_val_score"
   ]
  },
  {
   "cell_type": "code",
   "execution_count": 36,
   "id": "3a61bba3",
   "metadata": {},
   "outputs": [
    {
     "name": "stdout",
     "output_type": "stream",
     "text": [
      "[-0.02759135 -0.02348993 -0.02908277 -0.02945929 -0.02573027]\n"
     ]
    },
    {
     "data": {
      "text/plain": [
       "-0.027070723081251108"
      ]
     },
     "execution_count": 36,
     "metadata": {},
     "output_type": "execute_result"
    }
   ],
   "source": [
    "model1 = MLPClassifier(activation='identity',solver='lbfgs', alpha=1e-5,\n",
    "    hidden_layer_sizes=(4,7), random_state=123)\n",
    "\n",
    "model1.fit(X_train, y_train)\n",
    "scores1 = cross_val_score(model1, X_train, y_train, cv=5, scoring='neg_mean_absolute_error')\n",
    "print(scores1)\n",
    "scores1.mean()"
   ]
  },
  {
   "cell_type": "code",
   "execution_count": 37,
   "id": "6d11b38b",
   "metadata": {},
   "outputs": [
    {
     "name": "stdout",
     "output_type": "stream",
     "text": [
      "[-0.02199851 -0.02150137 -0.02522993 -0.02635177 -0.02224984]\n"
     ]
    },
    {
     "data": {
      "text/plain": [
       "-0.023466283907927182"
      ]
     },
     "execution_count": 37,
     "metadata": {},
     "output_type": "execute_result"
    }
   ],
   "source": [
    "modelo2 = MLPClassifier(activation='relu',solver='sgd', alpha=1e-5,hidden_layer_sizes=(3, 3, 3, 3), random_state=123)\n",
    "modelo2.fit(X_train, y_train)\n",
    "scores2 = cross_val_score(modelo2, X_train, y_train, cv=5, scoring='neg_mean_absolute_error')\n",
    "print(scores2)\n",
    "scores2.mean()"
   ]
  },
  {
   "cell_type": "code",
   "execution_count": 38,
   "id": "ea84454d",
   "metadata": {},
   "outputs": [
    {
     "name": "stdout",
     "output_type": "stream",
     "text": [
      "[-0.02075565 -0.01963709 -0.02075565 -0.02125544 -0.02249845]\n"
     ]
    },
    {
     "data": {
      "text/plain": [
       "-0.020980456223823024"
      ]
     },
     "execution_count": 38,
     "metadata": {},
     "output_type": "execute_result"
    }
   ],
   "source": [
    "model3 = MLPClassifier(activation='tanh',solver='adam', alpha=1e-5,hidden_layer_sizes=(5, 5, 5, 5, 5), random_state=123)\n",
    "model3.fit(X_train, y_train)\n",
    "scores3 = cross_val_score(model3, X_train, y_train, cv=5, scoring='neg_mean_absolute_error')\n",
    "print(scores3)\n",
    "scores3.mean()"
   ]
  },
  {
   "cell_type": "code",
   "execution_count": 39,
   "id": "b22820d5",
   "metadata": {},
   "outputs": [
    {
     "name": "stdout",
     "output_type": "stream",
     "text": [
      "[-0.02050708 -0.01963709 -0.02162565 -0.02249845 -0.01963953]\n"
     ]
    },
    {
     "data": {
      "text/plain": [
       "-0.020781559482324057"
      ]
     },
     "execution_count": 39,
     "metadata": {},
     "output_type": "execute_result"
    }
   ],
   "source": [
    "model4 = MLPClassifier(activation='tanh',solver='adam', alpha=1e-5,hidden_layer_sizes=(4, 10, 3), random_state=123)\n",
    "model4.fit(X_train, y_train)\n",
    "scores4 = cross_val_score(model4, X_train, y_train, cv=5, scoring='neg_mean_absolute_error')\n",
    "print(scores4)\n",
    "scores4.mean()"
   ]
  },
  {
   "cell_type": "code",
   "execution_count": 40,
   "id": "2a330d2a",
   "metadata": {},
   "outputs": [
    {
     "name": "stdout",
     "output_type": "stream",
     "text": [
      "[-0.02734278 -0.02386279 -0.02957992 -0.02908639 -0.02622747]\n"
     ]
    },
    {
     "data": {
      "text/plain": [
       "-0.027219868602026843"
      ]
     },
     "execution_count": 40,
     "metadata": {},
     "output_type": "execute_result"
    }
   ],
   "source": [
    "model5 = MLPClassifier(activation='tanh',solver='sgd', alpha=1e-5,hidden_layer_sizes=(1), random_state=123)\n",
    "model5.fit(X_train, y_train)\n",
    "scores5 = cross_val_score(model5, X_train, y_train, cv=5, scoring='neg_mean_absolute_error') #neg_mean_absolute_error\n",
    "print(scores5)\n",
    "scores5.mean()"
   ]
  },
  {
   "cell_type": "markdown",
   "id": "df408cab",
   "metadata": {},
   "source": [
    "# On the test set:"
   ]
  },
  {
   "cell_type": "code",
   "execution_count": 41,
   "id": "8fadd44f",
   "metadata": {},
   "outputs": [
    {
     "data": {
      "text/plain": [
       "array([[-1.02422813, -0.82085878, -0.65025213, ...,  1.        ,\n",
       "         0.        ,  0.        ],\n",
       "       [ 1.38121974,  2.33147715, -0.65025213, ...,  1.        ,\n",
       "         0.        ,  0.        ],\n",
       "       [ 0.57940378, -0.0327748 ,  2.75822304, ...,  0.        ,\n",
       "         0.        ,  1.        ],\n",
       "       ...,\n",
       "       [-0.75695615, -0.82085878, -0.65025213, ...,  1.        ,\n",
       "         0.        ,  0.        ],\n",
       "       [-0.48968416, -0.82085878, -0.65025213, ...,  0.        ,\n",
       "         1.        ,  0.        ],\n",
       "       [ 1.11394775,  0.75530919, -0.65025213, ...,  0.        ,\n",
       "         1.        ,  0.        ]])"
      ]
     },
     "execution_count": 41,
     "metadata": {},
     "output_type": "execute_result"
    }
   ],
   "source": [
    "X_test = full_pipeline.transform(test_data)\n",
    "X_test"
   ]
  },
  {
   "cell_type": "code",
   "execution_count": 42,
   "id": "6ab801ff",
   "metadata": {},
   "outputs": [
    {
     "data": {
      "text/plain": [
       "array([2, 1, 1, ..., 2, 2, 1])"
      ]
     },
     "execution_count": 42,
     "metadata": {},
     "output_type": "execute_result"
    }
   ],
   "source": [
    "y_pred1 = model1.predict(X_test)  \n",
    "y_pred1"
   ]
  },
  {
   "cell_type": "code",
   "execution_count": 43,
   "id": "4d3b7e68",
   "metadata": {},
   "outputs": [
    {
     "data": {
      "text/plain": [
       "array([2, 1, 1, ..., 2, 2, 1])"
      ]
     },
     "execution_count": 43,
     "metadata": {},
     "output_type": "execute_result"
    }
   ],
   "source": [
    "y_pred2 = modelo2.predict(X_test)  \n",
    "y_pred2"
   ]
  },
  {
   "cell_type": "code",
   "execution_count": 44,
   "id": "ac35f673",
   "metadata": {},
   "outputs": [
    {
     "data": {
      "text/plain": [
       "array([2, 1, 1, ..., 2, 2, 1])"
      ]
     },
     "execution_count": 44,
     "metadata": {},
     "output_type": "execute_result"
    }
   ],
   "source": [
    "y_pred3 = model3.predict(X_test)  \n",
    "y_pred3"
   ]
  },
  {
   "cell_type": "code",
   "execution_count": 45,
   "id": "06852a7a",
   "metadata": {},
   "outputs": [
    {
     "data": {
      "text/plain": [
       "array([2, 1, 1, ..., 2, 2, 1])"
      ]
     },
     "execution_count": 45,
     "metadata": {},
     "output_type": "execute_result"
    }
   ],
   "source": [
    "y_pred4 = model4.predict(X_test)  \n",
    "y_pred4"
   ]
  },
  {
   "cell_type": "code",
   "execution_count": 46,
   "id": "8afe86aa",
   "metadata": {},
   "outputs": [
    {
     "data": {
      "text/plain": [
       "array([2, 1, 1, ..., 2, 2, 1])"
      ]
     },
     "execution_count": 46,
     "metadata": {},
     "output_type": "execute_result"
    }
   ],
   "source": [
    "y_pred5 = model5.predict(X_test)  \n",
    "y_pred5"
   ]
  },
  {
   "cell_type": "code",
   "execution_count": 47,
   "id": "d8310cfa",
   "metadata": {},
   "outputs": [],
   "source": [
    "y_test = test_data[\"winner\"]"
   ]
  },
  {
   "cell_type": "markdown",
   "id": "dc548a2c",
   "metadata": {},
   "source": [
    "# Results"
   ]
  },
  {
   "cell_type": "code",
   "execution_count": 48,
   "id": "6a39d3ea",
   "metadata": {},
   "outputs": [
    {
     "name": "stdout",
     "output_type": "stream",
     "text": [
      "Mean Absolute Error for model1: 0.024855836150328096\n"
     ]
    }
   ],
   "source": [
    "from sklearn.metrics import mean_absolute_error\n",
    "mae = mean_absolute_error(\n",
    "        y_true  = y_test,\n",
    "        y_pred  = y_pred1\n",
    "       )\n",
    "print(f\"Mean Absolute Error for model1: {mae}\")"
   ]
  },
  {
   "cell_type": "code",
   "execution_count": 49,
   "id": "01e536bc",
   "metadata": {},
   "outputs": [
    {
     "name": "stdout",
     "output_type": "stream",
     "text": [
      "Mean Absolute Error for model2: 0.021376019089282165\n"
     ]
    }
   ],
   "source": [
    "from sklearn.metrics import mean_absolute_error\n",
    "mae = mean_absolute_error(\n",
    "        y_true  = y_test,\n",
    "        y_pred  = y_pred2\n",
    "       )\n",
    "print(f\"Mean Absolute Error for model2: {mae}\")"
   ]
  },
  {
   "cell_type": "code",
   "execution_count": 50,
   "id": "146372e0",
   "metadata": {},
   "outputs": [
    {
     "name": "stdout",
     "output_type": "stream",
     "text": [
      "Mean Absolute Error for model3: 0.02117717240007954\n"
     ]
    }
   ],
   "source": [
    "from sklearn.metrics import mean_absolute_error\n",
    "mae = mean_absolute_error(\n",
    "        y_true  = y_test,\n",
    "        y_pred  = y_pred3\n",
    "       )\n",
    "print(f\"Mean Absolute Error for model3: {mae}\")"
   ]
  },
  {
   "cell_type": "code",
   "execution_count": 51,
   "id": "7fc89044",
   "metadata": {},
   "outputs": [
    {
     "name": "stdout",
     "output_type": "stream",
     "text": [
      "Mean Absolute Error for model4: 0.018492742095844103\n"
     ]
    }
   ],
   "source": [
    "from sklearn.metrics import mean_absolute_error\n",
    "mae = mean_absolute_error(\n",
    "        y_true  = y_test,\n",
    "        y_pred  = y_pred4\n",
    "       )\n",
    "print(f\"Mean Absolute Error for model4: {mae}\")"
   ]
  },
  {
   "cell_type": "code",
   "execution_count": 52,
   "id": "7e20808d",
   "metadata": {},
   "outputs": [
    {
     "name": "stdout",
     "output_type": "stream",
     "text": [
      "Mean Absolute Error for model5: 0.024855836150328096\n"
     ]
    }
   ],
   "source": [
    "from sklearn.metrics import mean_absolute_error\n",
    "mae = mean_absolute_error(\n",
    "        y_true  = y_test,\n",
    "        y_pred  = y_pred5\n",
    "       )\n",
    "print(f\"Mean Absolute Error for model5: {mae}\")"
   ]
  },
  {
   "cell_type": "code",
   "execution_count": 53,
   "id": "4ef8ecdf",
   "metadata": {},
   "outputs": [
    {
     "data": {
      "text/plain": [
       "0.975144163849672"
      ]
     },
     "execution_count": 53,
     "metadata": {},
     "output_type": "execute_result"
    }
   ],
   "source": [
    "from sklearn.metrics import accuracy_score\n",
    "accuracy_score(y_test, y_pred1)"
   ]
  },
  {
   "cell_type": "code",
   "execution_count": 54,
   "id": "d9e3adb1",
   "metadata": {},
   "outputs": [
    {
     "data": {
      "text/plain": [
       "0.9786239809107178"
      ]
     },
     "execution_count": 54,
     "metadata": {},
     "output_type": "execute_result"
    }
   ],
   "source": [
    "from sklearn.metrics import accuracy_score\n",
    "accuracy_score(y_test, y_pred2)"
   ]
  },
  {
   "cell_type": "code",
   "execution_count": 55,
   "id": "a7f26f45",
   "metadata": {},
   "outputs": [
    {
     "data": {
      "text/plain": [
       "0.9788228275999205"
      ]
     },
     "execution_count": 55,
     "metadata": {},
     "output_type": "execute_result"
    }
   ],
   "source": [
    "from sklearn.metrics import accuracy_score\n",
    "accuracy_score(y_test, y_pred3)"
   ]
  },
  {
   "cell_type": "code",
   "execution_count": 56,
   "id": "cc808ec6",
   "metadata": {},
   "outputs": [
    {
     "data": {
      "text/plain": [
       "0.9815072579041559"
      ]
     },
     "execution_count": 56,
     "metadata": {},
     "output_type": "execute_result"
    }
   ],
   "source": [
    "from sklearn.metrics import accuracy_score\n",
    "accuracy_score(y_test, y_pred4)"
   ]
  },
  {
   "cell_type": "code",
   "execution_count": 57,
   "id": "bdcbb99f",
   "metadata": {},
   "outputs": [
    {
     "data": {
      "text/plain": [
       "0.975144163849672"
      ]
     },
     "execution_count": 57,
     "metadata": {},
     "output_type": "execute_result"
    }
   ],
   "source": [
    "from sklearn.metrics import accuracy_score\n",
    "accuracy_score(y_test, y_pred5)"
   ]
  },
  {
   "cell_type": "code",
   "execution_count": 58,
   "id": "0044a9d3",
   "metadata": {},
   "outputs": [],
   "source": [
    "from sklearn.metrics import confusion_matrix\n",
    "import matplotlib.pyplot as plt\n",
    "import seaborn as sns"
   ]
  },
  {
   "cell_type": "code",
   "execution_count": 59,
   "id": "c2b68439",
   "metadata": {},
   "outputs": [
    {
     "data": {
      "image/png": "[encoded data removed]",
      "text/plain": [
       "<Figure size 432x288 with 2 Axes>"
      ]
     },
     "metadata": {
      "needs_background": "light"
     },
     "output_type": "display_data"
    }
   ],
   "source": [
    "%matplotlib inline\n",
    "confusion_matrix1 = confusion_matrix(y_test, y_pred1)\n",
    "\n",
    "ax = plt.subplot()\n",
    "sns.heatmap(confusion_matrix1, annot=True, ax = ax, fmt='d')\n",
    "\n",
    "ax.set_xlabel('Predicted winner')\n",
    "ax.set_ylabel('Actual winner') \n",
    "ax.set_title('Confusion Matrix - League of Legends') \n",
    "ax.xaxis.set_ticklabels(['winner = 1', 'winner = 2'])\n",
    "ax.yaxis.set_ticklabels(['winner = 1', 'winner = 2']);\n",
    "plt.show();"
   ]
  },
  {
   "cell_type": "code",
   "execution_count": 60,
   "id": "de424f31",
   "metadata": {},
   "outputs": [
    {
     "data": {
      "image/png": "[encoded data removed]",
      "text/plain": [
       "<Figure size 432x288 with 2 Axes>"
      ]
     },
     "metadata": {
      "needs_background": "light"
     },
     "output_type": "display_data"
    }
   ],
   "source": [
    "%matplotlib inline\n",
    "confusion_matrix2 = confusion_matrix(y_test, y_pred2)\n",
    "\n",
    "ax = plt.subplot()\n",
    "sns.heatmap(confusion_matrix2, annot=True, ax = ax, fmt='d')\n",
    "\n",
    "ax.set_xlabel('Predicted winner')\n",
    "ax.set_ylabel('Actual winner') \n",
    "ax.set_title('Confusion Matrix - League of Legends') \n",
    "ax.xaxis.set_ticklabels(['winner = 1', 'winner = 2'])\n",
    "ax.yaxis.set_ticklabels(['winner = 1', 'winner = 2']);\n",
    "plt.show();"
   ]
  },
  {
   "cell_type": "code",
   "execution_count": 61,
   "id": "19605b90",
   "metadata": {},
   "outputs": [
    {
     "data": {
      "image/png": "[encoded data removed]",
      "text/plain": [
       "<Figure size 432x288 with 2 Axes>"
      ]
     },
     "metadata": {
      "needs_background": "light"
     },
     "output_type": "display_data"
    }
   ],
   "source": [
    "%matplotlib inline\n",
    "confusion_matrix3 = confusion_matrix(y_test, y_pred3)\n",
    "\n",
    "ax = plt.subplot()\n",
    "sns.heatmap(confusion_matrix3, annot=True, ax = ax, fmt='d')\n",
    "\n",
    "ax.set_xlabel('Predicted winner')\n",
    "ax.set_ylabel('Actual winner') \n",
    "ax.set_title('Confusion Matrix - League of Legends') \n",
    "ax.xaxis.set_ticklabels(['winner = 1', 'winner = 2'])\n",
    "ax.yaxis.set_ticklabels(['winner = 1', 'winner = 2']);\n",
    "plt.show();"
   ]
  },
  {
   "cell_type": "code",
   "execution_count": 62,
   "id": "9a517a41",
   "metadata": {},
   "outputs": [
    {
     "data": {
      "image/png": "[encoded data removed]",
      "text/plain": [
       "<Figure size 432x288 with 2 Axes>"
      ]
     },
     "metadata": {
      "needs_background": "light"
     },
     "output_type": "display_data"
    }
   ],
   "source": [
    "%matplotlib inline\n",
    "confusion_matrix4 = confusion_matrix(y_test, y_pred4)\n",
    "\n",
    "ax = plt.subplot()\n",
    "sns.heatmap(confusion_matrix4, annot=True, ax = ax, fmt='d')\n",
    "\n",
    "ax.set_xlabel('Predicted winner')\n",
    "ax.set_ylabel('Actual winner') \n",
    "ax.set_title('Confusion Matrix - League of Legends') \n",
    "ax.xaxis.set_ticklabels(['winner = 1', 'winner = 2'])\n",
    "ax.yaxis.set_ticklabels(['winner = 1', 'winner = 2']);\n",
    "plt.show();"
   ]
  },
  {
   "cell_type": "code",
   "execution_count": 63,
   "id": "e4cea9b3",
   "metadata": {},
   "outputs": [
    {
     "data": {
      "image/png": "[encoded data removed]",
      "text/plain": [
       "<Figure size 432x288 with 2 Axes>"
      ]
     },
     "metadata": {
      "needs_background": "light"
     },
     "output_type": "display_data"
    }
   ],
   "source": [
    "%matplotlib inline\n",
    "confusion_matrix5 = confusion_matrix(y_test, y_pred5)\n",
    "\n",
    "ax = plt.subplot()\n",
    "sns.heatmap(confusion_matrix5, annot=True, ax = ax, fmt='d')\n",
    "\n",
    "ax.set_xlabel('Predicted winner')\n",
    "ax.set_ylabel('Actual winner') \n",
    "ax.set_title('Confusion Matrix - League of Legends') \n",
    "ax.xaxis.set_ticklabels(['winner = 1', 'winner = 2'])\n",
    "ax.yaxis.set_ticklabels(['winner = 1', 'winner = 2']);\n",
    "plt.show();"
   ]
  },
  {
   "cell_type": "markdown",
   "id": "370935e7",
   "metadata": {},
   "source": [
    "# Summary"
   ]
  },
  {
   "cell_type": "code",
   "execution_count": 64,
   "id": "7c876d05",
   "metadata": {},
   "outputs": [
    {
     "name": "stdout",
     "output_type": "stream",
     "text": [
      "+--------+--------------------+------------------+\n",
      "| Model  | Accuracy           | Confusion Matrix |\n",
      "+--------+--------------------+------------------+\n",
      "| model1 | 0.975144163849672  | [[4971  122]     |\n",
      "|        |                    |  [ 128 4837]]    |\n",
      "+--------+--------------------+------------------+\n",
      "| model2 | 0.9786239809107178 | [[4985  108]     |\n",
      "|        |                    |  [ 107 4858]]    |\n",
      "+--------+--------------------+------------------+\n",
      "| model3 | 0.9788228275999205 | [[4957  136]     |\n",
      "|        |                    |  [  77 4888]]    |\n",
      "+--------+--------------------+------------------+\n",
      "| model4 | 0.9815072579041559 | [[5008   85]     |\n",
      "|        |                    |  [ 101 4864]]    |\n",
      "+--------+--------------------+------------------+\n",
      "| model5 | 0.975144163849672  | [[4964  129]     |\n",
      "|        |                    |  [ 121 4844]]    |\n",
      "+--------+--------------------+------------------+\n"
     ]
    }
   ],
   "source": [
    "#Accuracy & Confusion Matrix\n",
    "\n",
    "from tabulate import tabulate\n",
    "mydata = [\n",
    "    ['Model', 'Accuracy', 'Confusion Matrix'],\n",
    "      ['model1', accuracy_score(y_test, y_pred1), confusion_matrix1],\n",
    "      ['model2', accuracy_score(y_test, y_pred2), confusion_matrix2],\n",
    "      ['model3', accuracy_score(y_test, y_pred3), confusion_matrix3],\n",
    "      ['model4', accuracy_score(y_test, y_pred4), confusion_matrix4],\n",
    "      ['model5', accuracy_score(y_test, y_pred5), confusion_matrix5],\n",
    "]\n",
    "print(tabulate(mydata, tablefmt=\"grid\"))"
   ]
  },
  {
   "cell_type": "markdown",
   "id": "805b0c4b",
   "metadata": {},
   "source": [
    "# Best model so far: model4\n",
    "\n",
    "After removing the 'gameDuration' attribute, accuracies improved,  \n",
    "and the highest accuracy is higher now. The model with best performance is model4.\n",
    "'gameDuration' seems to be not useful for the predictions.\n",
    "  \n",
    "model4 = MLPClassifier( \\\n",
    "&emsp;    activation='tanh', \\\n",
    "&emsp;    solver='adam', \\\n",
    "&emsp;    alpha=1e-5, \\\n",
    "&emsp;    hidden_layer_sizes=(4, 10, 3), \\\n",
    "&emsp;    random_state=123) \\\n",
    "\\\n",
    "model4.fit(X_train, y_train) \\\n",
    "scores4 = cross_val_score( \\\n",
    "&emsp;    model4, \\\n",
    "&emsp;    X_train, \\\n",
    "&emsp;    y_train, \\\n",
    "&emsp;    cv=5, \\\n",
    "&emsp;    scoring='neg_mean_absolute_error') "
   ]
  },
  {
   "cell_type": "markdown",
   "id": "dbbd46ab",
   "metadata": {},
   "source": [
    "# Hyper-parameter variation"
   ]
  },
  {
   "cell_type": "code",
   "execution_count": 76,
   "id": "9ddd3f53",
   "metadata": {},
   "outputs": [
    {
     "name": "stdout",
     "output_type": "stream",
     "text": [
      "[-0.01913995 -0.01715138 -0.02100423 -0.02200124 -0.01963953]\n"
     ]
    },
    {
     "data": {
      "text/plain": [
       "-0.0197872642498301"
      ]
     },
     "execution_count": 76,
     "metadata": {},
     "output_type": "execute_result"
    }
   ],
   "source": [
    "model4B = MLPClassifier(activation='tanh',solver='adam', alpha=1e-5,hidden_layer_sizes=(4, 10, 3), \n",
    "    random_state=123, n_iter_no_change = 15) #Variation from default value: n_iter_no_change = 10\n",
    "\n",
    "model4B.fit(X_train, y_train)\n",
    "scores4B = cross_val_score(model4B, X_train, y_train, cv=5, scoring='neg_mean_absolute_error')\n",
    "print(scores4B)\n",
    "scores4B.mean()"
   ]
  },
  {
   "cell_type": "code",
   "execution_count": 77,
   "id": "32570138",
   "metadata": {},
   "outputs": [
    {
     "name": "stdout",
     "output_type": "stream",
     "text": [
      "[-0.0195128  -0.02000994 -0.02100423 -0.02237415 -0.01963953]\n"
     ]
    },
    {
     "data": {
      "text/plain": [
       "-0.020508128602363628"
      ]
     },
     "execution_count": 77,
     "metadata": {},
     "output_type": "execute_result"
    }
   ],
   "source": [
    "model4C = MLPClassifier(activation='tanh',solver='adam', alpha=1e-5,hidden_layer_sizes=(4, 10, 3), \n",
    "    random_state=123, n_iter_no_change = 20) #Variation from default value: n_iter_no_change = 10\n",
    "\n",
    "model4C.fit(X_train, y_train)\n",
    "scores4C = cross_val_score(model4C, X_train, y_train, cv=5, scoring='neg_mean_absolute_error')\n",
    "print(scores4C)\n",
    "scores4C.mean()"
   ]
  },
  {
   "cell_type": "code",
   "execution_count": 78,
   "id": "f6129eb3",
   "metadata": {},
   "outputs": [
    {
     "data": {
      "text/plain": [
       "array([2, 1, 1, ..., 2, 2, 1])"
      ]
     },
     "execution_count": 78,
     "metadata": {},
     "output_type": "execute_result"
    }
   ],
   "source": [
    "y_pred4B = model4B.predict(X_test)  \n",
    "y_pred4B"
   ]
  },
  {
   "cell_type": "code",
   "execution_count": 79,
   "id": "e8397537",
   "metadata": {},
   "outputs": [
    {
     "data": {
      "text/plain": [
       "array([2, 1, 1, ..., 2, 2, 1])"
      ]
     },
     "execution_count": 79,
     "metadata": {},
     "output_type": "execute_result"
    }
   ],
   "source": [
    "y_pred4C = model4C.predict(X_test)  \n",
    "y_pred4C"
   ]
  },
  {
   "cell_type": "code",
   "execution_count": 80,
   "id": "ca41a553",
   "metadata": {},
   "outputs": [
    {
     "name": "stdout",
     "output_type": "stream",
     "text": [
      "Mean Absolute Error for model3B: 0.018393318751242792\n"
     ]
    }
   ],
   "source": [
    "from sklearn.metrics import mean_absolute_error\n",
    "mae = mean_absolute_error(\n",
    "        y_true  = y_test,\n",
    "        y_pred  = y_pred4B\n",
    "       )\n",
    "print(f\"Mean Absolute Error for model4B: {mae}\")"
   ]
  },
  {
   "cell_type": "code",
   "execution_count": 81,
   "id": "b666cbe0",
   "metadata": {},
   "outputs": [
    {
     "name": "stdout",
     "output_type": "stream",
     "text": [
      "Mean Absolute Error for model3C: 0.017995625372837543\n"
     ]
    }
   ],
   "source": [
    "from sklearn.metrics import mean_absolute_error\n",
    "mae = mean_absolute_error(\n",
    "        y_true  = y_test,\n",
    "        y_pred  = y_pred4C\n",
    "       )\n",
    "print(f\"Mean Absolute Error for model4C: {mae}\")"
   ]
  },
  {
   "cell_type": "code",
   "execution_count": 82,
   "id": "cf61a872",
   "metadata": {},
   "outputs": [
    {
     "data": {
      "text/plain": [
       "0.9816066812487572"
      ]
     },
     "execution_count": 82,
     "metadata": {},
     "output_type": "execute_result"
    }
   ],
   "source": [
    "from sklearn.metrics import accuracy_score\n",
    "accuracy_score(y_test, y_pred4B)"
   ]
  },
  {
   "cell_type": "code",
   "execution_count": 83,
   "id": "f23f1e07",
   "metadata": {},
   "outputs": [
    {
     "data": {
      "text/plain": [
       "0.9820043746271625"
      ]
     },
     "execution_count": 83,
     "metadata": {},
     "output_type": "execute_result"
    }
   ],
   "source": [
    "from sklearn.metrics import accuracy_score\n",
    "accuracy_score(y_test, y_pred4C)"
   ]
  },
  {
   "cell_type": "code",
   "execution_count": 84,
   "id": "a1024c3a",
   "metadata": {},
   "outputs": [
    {
     "data": {
      "image/png": "[encoded data removed]",
      "text/plain": [
       "<Figure size 432x288 with 2 Axes>"
      ]
     },
     "metadata": {
      "needs_background": "light"
     },
     "output_type": "display_data"
    }
   ],
   "source": [
    "%matplotlib inline\n",
    "confusion_matrix4B = confusion_matrix(y_test, y_pred4B)\n",
    "\n",
    "ax = plt.subplot()\n",
    "sns.heatmap(confusion_matrix4B, annot=True, ax = ax, fmt='d')\n",
    "\n",
    "ax.set_xlabel('Predicted winner')\n",
    "ax.set_ylabel('Actual winner') \n",
    "ax.set_title('Confusion Matrix - League of Legends') \n",
    "ax.xaxis.set_ticklabels(['winner = 1', 'winner = 2'])\n",
    "ax.yaxis.set_ticklabels(['winner = 1', 'winner = 2']);\n",
    "plt.show();"
   ]
  },
  {
   "cell_type": "code",
   "execution_count": 85,
   "id": "b70874e2",
   "metadata": {},
   "outputs": [
    {
     "data": {
      "image/png": "[encoded data removed]",
      "text/plain": [
       "<Figure size 432x288 with 2 Axes>"
      ]
     },
     "metadata": {
      "needs_background": "light"
     },
     "output_type": "display_data"
    }
   ],
   "source": [
    "%matplotlib inline\n",
    "confusion_matrix4C = confusion_matrix(y_test, y_pred4C)\n",
    "\n",
    "ax = plt.subplot()\n",
    "sns.heatmap(confusion_matrix4C, annot=True, ax = ax, fmt='d')\n",
    "\n",
    "ax.set_xlabel('Predicted winner')\n",
    "ax.set_ylabel('Actual winner') \n",
    "ax.set_title('Confusion Matrix - League of Legends') \n",
    "ax.xaxis.set_ticklabels(['winner = 1', 'winner = 2'])\n",
    "ax.yaxis.set_ticklabels(['winner = 1', 'winner = 2']);\n",
    "plt.show();"
   ]
  },
  {
   "cell_type": "markdown",
   "id": "2f387542",
   "metadata": {},
   "source": [
    "# Comparison"
   ]
  },
  {
   "cell_type": "code",
   "execution_count": 86,
   "id": "d93a3250",
   "metadata": {},
   "outputs": [
    {
     "name": "stdout",
     "output_type": "stream",
     "text": [
      "+---------+------------------+--------------------+------------------+\n",
      "| Model   | n_iter_no_change | Accuracy           | Confusion Matrix |\n",
      "+---------+------------------+--------------------+------------------+\n",
      "| model4  | 10               | 0.9815072579041559 | [[5008   85]     |\n",
      "|         |                  |                    |  [ 101 4864]]    |\n",
      "+---------+------------------+--------------------+------------------+\n",
      "| model4B | 15               | 0.9816066812487572 | [[5010   83]     |\n",
      "|         |                  |                    |  [ 102 4863]]    |\n",
      "+---------+------------------+--------------------+------------------+\n",
      "| model4C | 20               | 0.9820043746271625 | [[5005   88]     |\n",
      "|         |                  |                    |  [  93 4872]]    |\n",
      "+---------+------------------+--------------------+------------------+\n"
     ]
    }
   ],
   "source": [
    "from tabulate import tabulate\n",
    "mydata = [\n",
    "    ['Model', 'n_iter_no_change', 'Accuracy', 'Confusion Matrix'],\n",
    "      ['model4', 10, accuracy_score(y_test, y_pred4), confusion_matrix4],\n",
    "      ['model4B', 15, accuracy_score(y_test, y_pred4B), confusion_matrix4B],\n",
    "      ['model4C', 20, accuracy_score(y_test, y_pred4C), confusion_matrix4C]\n",
    "]\n",
    "print(tabulate(mydata, tablefmt=\"grid\"))"
   ]
  },
  {
   "cell_type": "markdown",
   "id": "2010f3ac",
   "metadata": {},
   "source": [
    "# Analysis\n",
    "For the model4, two variations for an hyper-parameter were done. The chosen parameter was n_iter_no_change.  \n",
    "The default value for this parameter (the value for model4) is: 10  \n",
    "The description for this hyper-parameter is:\n",
    "\"Maximum number of epochs to not meet tol improvement.  \n",
    "Only effective when solver=’sgd’ or ‘adam’.\"  \n",
    "\n",
    "A greater value for this parameter leads to a greater amount of epochs, which could mean a better performance.  \n",
    "The results show that a bigger value for n_iter_no_change than 10 tends to improve the accuracy.  \n",
    "The value with the better performance is n_iter_no_change = 20.\n",
    "\n",
    "In any case, with either a value of 15 or 20, the accuracies are similar, and after repeated  \n",
    "executions of the entire notebook, usually at least one of the models with either a value of 15 or 20,  \n",
    "is better than the accuracy oibtained with the default value of 10."
   ]
  }
 ],
 "metadata": {
  "kernelspec": {
   "display_name": "Python 3 (ipykernel)",
   "language": "python",
   "name": "python3"
  },
  "language_info": {
   "codemirror_mode": {
    "name": "ipython",
    "version": 3
   },
   "file_extension": ".py",
   "mimetype": "text/x-python",
   "name": "python",
   "nbconvert_exporter": "python",
   "pygments_lexer": "ipython3",
   "version": "3.9.12"
  },
  "vscode": {
   "interpreter": {
    "hash": "66e37a4da3c390ba9102db785636e2db61d518923b2ca2e4091350072f76ee72"
   }
  }
 },
 "nbformat": 4,
 "nbformat_minor": 5
}
