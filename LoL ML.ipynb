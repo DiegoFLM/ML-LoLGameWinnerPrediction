{
 "cells": [
  {
   "cell_type": "code",
   "execution_count": 68,
   "id": "a4709f21",
   "metadata": {},
   "outputs": [],
   "source": [
    "import sklearn\n",
    "import pandas as pd\n",
    "import numpy as np\n",
    "import warnings\n",
    "\n",
    "import matplotlib.pyplot as plt"
   ]
  },
  {
   "cell_type": "code",
   "execution_count": 69,
   "id": "818ea1f0",
   "metadata": {},
   "outputs": [
    {
     "name": "stdout",
     "output_type": "stream",
     "text": [
      "<class 'pandas.core.frame.DataFrame'>\n",
      "RangeIndex: 50286 entries, 0 to 50285\n",
      "Data columns (total 18 columns):\n",
      " #   Column              Non-Null Count  Dtype\n",
      "---  ------              --------------  -----\n",
      " 0   gameDuration        50286 non-null  int64\n",
      " 1   firstBlood          50286 non-null  int64\n",
      " 2   firstTower          50286 non-null  int64\n",
      " 3   firstInhibitor      50286 non-null  int64\n",
      " 4   firstBaron          50286 non-null  int64\n",
      " 5   firstDragon         50286 non-null  int64\n",
      " 6   firstRiftHerald     50286 non-null  int64\n",
      " 7   t1_towerKills       50286 non-null  int64\n",
      " 8   t1_inhibitorKills   50286 non-null  int64\n",
      " 9   t1_baronKills       50286 non-null  int64\n",
      " 10  t1_dragonKills      50286 non-null  int64\n",
      " 11  t1_riftHeraldKills  50286 non-null  int64\n",
      " 12  t2_towerKills       50286 non-null  int64\n",
      " 13  t2_inhibitorKills   50286 non-null  int64\n",
      " 14  t2_baronKills       50286 non-null  int64\n",
      " 15  t2_dragonKills      50286 non-null  int64\n",
      " 16  t2_riftHeraldKills  50286 non-null  int64\n",
      " 17  winner              50286 non-null  int64\n",
      "dtypes: int64(18)\n",
      "memory usage: 6.9 MB\n"
     ]
    },
    {
     "name": "stderr",
     "output_type": "stream",
     "text": [
      "/home/diegoflm/anaconda3/lib/python3.9/site-packages/IPython/core/interactiveshell.py:3369: FutureWarning: In a future version of pandas all arguments of read_csv except for the argument 'filepath_or_buffer' will be keyword-only.\n",
      "  exec(code_obj, self.user_global_ns, self.user_ns)\n"
     ]
    }
   ],
   "source": [
    "games = pd.read_csv('./games.csv', ';')\n",
    "#print(games.head(5))\n",
    "games.info()"
   ]
  },
  {
   "cell_type": "code",
   "execution_count": 70,
   "id": "007303ff",
   "metadata": {},
   "outputs": [
    {
     "data": {
      "text/html": [
       "<div>\n",
       "<style scoped>\n",
       "    .dataframe tbody tr th:only-of-type {\n",
       "        vertical-align: middle;\n",
       "    }\n",
       "\n",
       "    .dataframe tbody tr th {\n",
       "        vertical-align: top;\n",
       "    }\n",
       "\n",
       "    .dataframe thead th {\n",
       "        text-align: right;\n",
       "    }\n",
       "</style>\n",
       "<table border=\"1\" class=\"dataframe\">\n",
       "  <thead>\n",
       "    <tr style=\"text-align: right;\">\n",
       "      <th></th>\n",
       "      <th>gameDuration</th>\n",
       "      <th>firstBlood</th>\n",
       "      <th>firstTower</th>\n",
       "      <th>firstInhibitor</th>\n",
       "      <th>firstBaron</th>\n",
       "      <th>firstDragon</th>\n",
       "      <th>firstRiftHerald</th>\n",
       "      <th>t1_towerKills</th>\n",
       "      <th>t1_inhibitorKills</th>\n",
       "      <th>t1_baronKills</th>\n",
       "      <th>t1_dragonKills</th>\n",
       "      <th>t1_riftHeraldKills</th>\n",
       "      <th>t2_towerKills</th>\n",
       "      <th>t2_inhibitorKills</th>\n",
       "      <th>t2_baronKills</th>\n",
       "      <th>t2_dragonKills</th>\n",
       "      <th>t2_riftHeraldKills</th>\n",
       "      <th>winner</th>\n",
       "    </tr>\n",
       "  </thead>\n",
       "  <tbody>\n",
       "    <tr>\n",
       "      <th>count</th>\n",
       "      <td>50286.000000</td>\n",
       "      <td>50286.000000</td>\n",
       "      <td>50286.000000</td>\n",
       "      <td>50286.000000</td>\n",
       "      <td>50286.000000</td>\n",
       "      <td>50286.000000</td>\n",
       "      <td>50286.000000</td>\n",
       "      <td>50286.000000</td>\n",
       "      <td>50286.000000</td>\n",
       "      <td>50286.000000</td>\n",
       "      <td>50286.000000</td>\n",
       "      <td>50286.000000</td>\n",
       "      <td>50286.000000</td>\n",
       "      <td>50286.000000</td>\n",
       "      <td>50286.000000</td>\n",
       "      <td>50286.000000</td>\n",
       "      <td>50286.000000</td>\n",
       "      <td>50286.000000</td>\n",
       "    </tr>\n",
       "    <tr>\n",
       "      <th>mean</th>\n",
       "      <td>1871.386032</td>\n",
       "      <td>1.487233</td>\n",
       "      <td>1.485125</td>\n",
       "      <td>1.339578</td>\n",
       "      <td>0.948693</td>\n",
       "      <td>1.477270</td>\n",
       "      <td>0.749195</td>\n",
       "      <td>5.835163</td>\n",
       "      <td>1.041781</td>\n",
       "      <td>0.381200</td>\n",
       "      <td>1.420356</td>\n",
       "      <td>0.257487</td>\n",
       "      <td>5.681999</td>\n",
       "      <td>1.008611</td>\n",
       "      <td>0.424472</td>\n",
       "      <td>1.437975</td>\n",
       "      <td>0.245854</td>\n",
       "      <td>1.493776</td>\n",
       "    </tr>\n",
       "    <tr>\n",
       "      <th>std</th>\n",
       "      <td>450.876052</td>\n",
       "      <td>0.499842</td>\n",
       "      <td>0.500499</td>\n",
       "      <td>0.652960</td>\n",
       "      <td>0.838988</td>\n",
       "      <td>0.530346</td>\n",
       "      <td>0.824393</td>\n",
       "      <td>3.740575</td>\n",
       "      <td>1.269064</td>\n",
       "      <td>0.588001</td>\n",
       "      <td>1.201740</td>\n",
       "      <td>0.437254</td>\n",
       "      <td>3.809336</td>\n",
       "      <td>1.261867</td>\n",
       "      <td>0.617672</td>\n",
       "      <td>1.219412</td>\n",
       "      <td>0.430597</td>\n",
       "      <td>0.499966</td>\n",
       "    </tr>\n",
       "    <tr>\n",
       "      <th>min</th>\n",
       "      <td>610.000000</td>\n",
       "      <td>1.000000</td>\n",
       "      <td>0.000000</td>\n",
       "      <td>0.000000</td>\n",
       "      <td>0.000000</td>\n",
       "      <td>0.000000</td>\n",
       "      <td>0.000000</td>\n",
       "      <td>0.000000</td>\n",
       "      <td>0.000000</td>\n",
       "      <td>0.000000</td>\n",
       "      <td>0.000000</td>\n",
       "      <td>0.000000</td>\n",
       "      <td>0.000000</td>\n",
       "      <td>0.000000</td>\n",
       "      <td>0.000000</td>\n",
       "      <td>0.000000</td>\n",
       "      <td>0.000000</td>\n",
       "      <td>1.000000</td>\n",
       "    </tr>\n",
       "    <tr>\n",
       "      <th>25%</th>\n",
       "      <td>1554.000000</td>\n",
       "      <td>1.000000</td>\n",
       "      <td>1.000000</td>\n",
       "      <td>1.000000</td>\n",
       "      <td>0.000000</td>\n",
       "      <td>1.000000</td>\n",
       "      <td>0.000000</td>\n",
       "      <td>2.000000</td>\n",
       "      <td>0.000000</td>\n",
       "      <td>0.000000</td>\n",
       "      <td>0.000000</td>\n",
       "      <td>0.000000</td>\n",
       "      <td>2.000000</td>\n",
       "      <td>0.000000</td>\n",
       "      <td>0.000000</td>\n",
       "      <td>0.000000</td>\n",
       "      <td>0.000000</td>\n",
       "      <td>1.000000</td>\n",
       "    </tr>\n",
       "    <tr>\n",
       "      <th>50%</th>\n",
       "      <td>1846.000000</td>\n",
       "      <td>1.000000</td>\n",
       "      <td>1.000000</td>\n",
       "      <td>1.000000</td>\n",
       "      <td>1.000000</td>\n",
       "      <td>1.000000</td>\n",
       "      <td>1.000000</td>\n",
       "      <td>6.000000</td>\n",
       "      <td>1.000000</td>\n",
       "      <td>0.000000</td>\n",
       "      <td>1.000000</td>\n",
       "      <td>0.000000</td>\n",
       "      <td>6.000000</td>\n",
       "      <td>0.000000</td>\n",
       "      <td>0.000000</td>\n",
       "      <td>1.000000</td>\n",
       "      <td>0.000000</td>\n",
       "      <td>1.000000</td>\n",
       "    </tr>\n",
       "    <tr>\n",
       "      <th>75%</th>\n",
       "      <td>2156.750000</td>\n",
       "      <td>2.000000</td>\n",
       "      <td>2.000000</td>\n",
       "      <td>2.000000</td>\n",
       "      <td>2.000000</td>\n",
       "      <td>2.000000</td>\n",
       "      <td>1.000000</td>\n",
       "      <td>9.000000</td>\n",
       "      <td>2.000000</td>\n",
       "      <td>1.000000</td>\n",
       "      <td>2.000000</td>\n",
       "      <td>1.000000</td>\n",
       "      <td>9.000000</td>\n",
       "      <td>2.000000</td>\n",
       "      <td>1.000000</td>\n",
       "      <td>2.000000</td>\n",
       "      <td>0.000000</td>\n",
       "      <td>2.000000</td>\n",
       "    </tr>\n",
       "    <tr>\n",
       "      <th>max</th>\n",
       "      <td>4728.000000</td>\n",
       "      <td>2.000000</td>\n",
       "      <td>2.000000</td>\n",
       "      <td>2.000000</td>\n",
       "      <td>2.000000</td>\n",
       "      <td>2.000000</td>\n",
       "      <td>2.000000</td>\n",
       "      <td>11.000000</td>\n",
       "      <td>10.000000</td>\n",
       "      <td>5.000000</td>\n",
       "      <td>6.000000</td>\n",
       "      <td>1.000000</td>\n",
       "      <td>11.000000</td>\n",
       "      <td>10.000000</td>\n",
       "      <td>4.000000</td>\n",
       "      <td>6.000000</td>\n",
       "      <td>1.000000</td>\n",
       "      <td>2.000000</td>\n",
       "    </tr>\n",
       "  </tbody>\n",
       "</table>\n",
       "</div>"
      ],
      "text/plain": [
       "       gameDuration    firstBlood    firstTower  firstInhibitor    firstBaron  \\\n",
       "count  50286.000000  50286.000000  50286.000000    50286.000000  50286.000000   \n",
       "mean    1871.386032      1.487233      1.485125        1.339578      0.948693   \n",
       "std      450.876052      0.499842      0.500499        0.652960      0.838988   \n",
       "min      610.000000      1.000000      0.000000        0.000000      0.000000   \n",
       "25%     1554.000000      1.000000      1.000000        1.000000      0.000000   \n",
       "50%     1846.000000      1.000000      1.000000        1.000000      1.000000   \n",
       "75%     2156.750000      2.000000      2.000000        2.000000      2.000000   \n",
       "max     4728.000000      2.000000      2.000000        2.000000      2.000000   \n",
       "\n",
       "        firstDragon  firstRiftHerald  t1_towerKills  t1_inhibitorKills  \\\n",
       "count  50286.000000     50286.000000   50286.000000       50286.000000   \n",
       "mean       1.477270         0.749195       5.835163           1.041781   \n",
       "std        0.530346         0.824393       3.740575           1.269064   \n",
       "min        0.000000         0.000000       0.000000           0.000000   \n",
       "25%        1.000000         0.000000       2.000000           0.000000   \n",
       "50%        1.000000         1.000000       6.000000           1.000000   \n",
       "75%        2.000000         1.000000       9.000000           2.000000   \n",
       "max        2.000000         2.000000      11.000000          10.000000   \n",
       "\n",
       "       t1_baronKills  t1_dragonKills  t1_riftHeraldKills  t2_towerKills  \\\n",
       "count   50286.000000    50286.000000        50286.000000   50286.000000   \n",
       "mean        0.381200        1.420356            0.257487       5.681999   \n",
       "std         0.588001        1.201740            0.437254       3.809336   \n",
       "min         0.000000        0.000000            0.000000       0.000000   \n",
       "25%         0.000000        0.000000            0.000000       2.000000   \n",
       "50%         0.000000        1.000000            0.000000       6.000000   \n",
       "75%         1.000000        2.000000            1.000000       9.000000   \n",
       "max         5.000000        6.000000            1.000000      11.000000   \n",
       "\n",
       "       t2_inhibitorKills  t2_baronKills  t2_dragonKills  t2_riftHeraldKills  \\\n",
       "count       50286.000000   50286.000000    50286.000000        50286.000000   \n",
       "mean            1.008611       0.424472        1.437975            0.245854   \n",
       "std             1.261867       0.617672        1.219412            0.430597   \n",
       "min             0.000000       0.000000        0.000000            0.000000   \n",
       "25%             0.000000       0.000000        0.000000            0.000000   \n",
       "50%             0.000000       0.000000        1.000000            0.000000   \n",
       "75%             2.000000       1.000000        2.000000            0.000000   \n",
       "max            10.000000       4.000000        6.000000            1.000000   \n",
       "\n",
       "             winner  \n",
       "count  50286.000000  \n",
       "mean       1.493776  \n",
       "std        0.499966  \n",
       "min        1.000000  \n",
       "25%        1.000000  \n",
       "50%        1.000000  \n",
       "75%        2.000000  \n",
       "max        2.000000  "
      ]
     },
     "execution_count": 70,
     "metadata": {},
     "output_type": "execute_result"
    }
   ],
   "source": [
    "# Cuantitative variables (integer)\n",
    "games.select_dtypes(include=['int64']).describe()"
   ]
  },
  {
   "cell_type": "markdown",
   "id": "02abc0a8",
   "metadata": {},
   "source": [
    "# Split training data from test data: 80% for training, 20% for testing."
   ]
  },
  {
   "cell_type": "code",
   "execution_count": 71,
   "id": "af0a198d",
   "metadata": {},
   "outputs": [
    {
     "name": "stdout",
     "output_type": "stream",
     "text": [
      "50286 40228 10058\n"
     ]
    }
   ],
   "source": [
    "from sklearn.model_selection import train_test_split\n",
    "N=len(games)\n",
    "cTrain=int(N*0.8) # 80% for training and 20% for testing\n",
    "cTest=N-cTrain\n",
    "print(N,cTrain,cTest)\n",
    "train_data, test_data = sklearn.model_selection.train_test_split(games, train_size=cTrain, test_size=cTest)"
   ]
  },
  {
   "cell_type": "code",
   "execution_count": 72,
   "id": "7f7d5403",
   "metadata": {},
   "outputs": [
    {
     "data": {
      "text/html": [
       "<div>\n",
       "<style scoped>\n",
       "    .dataframe tbody tr th:only-of-type {\n",
       "        vertical-align: middle;\n",
       "    }\n",
       "\n",
       "    .dataframe tbody tr th {\n",
       "        vertical-align: top;\n",
       "    }\n",
       "\n",
       "    .dataframe thead th {\n",
       "        text-align: right;\n",
       "    }\n",
       "</style>\n",
       "<table border=\"1\" class=\"dataframe\">\n",
       "  <thead>\n",
       "    <tr style=\"text-align: right;\">\n",
       "      <th></th>\n",
       "      <th>gameDuration</th>\n",
       "      <th>firstBlood</th>\n",
       "      <th>firstTower</th>\n",
       "      <th>firstInhibitor</th>\n",
       "      <th>firstBaron</th>\n",
       "      <th>firstDragon</th>\n",
       "      <th>firstRiftHerald</th>\n",
       "      <th>t1_towerKills</th>\n",
       "      <th>t1_inhibitorKills</th>\n",
       "      <th>t1_baronKills</th>\n",
       "      <th>t1_dragonKills</th>\n",
       "      <th>t1_riftHeraldKills</th>\n",
       "      <th>t2_towerKills</th>\n",
       "      <th>t2_inhibitorKills</th>\n",
       "      <th>t2_baronKills</th>\n",
       "      <th>t2_dragonKills</th>\n",
       "      <th>t2_riftHeraldKills</th>\n",
       "      <th>winner</th>\n",
       "    </tr>\n",
       "  </thead>\n",
       "  <tbody>\n",
       "    <tr>\n",
       "      <th>22039</th>\n",
       "      <td>1674</td>\n",
       "      <td>2</td>\n",
       "      <td>2</td>\n",
       "      <td>2</td>\n",
       "      <td>2</td>\n",
       "      <td>1</td>\n",
       "      <td>1</td>\n",
       "      <td>3</td>\n",
       "      <td>0</td>\n",
       "      <td>0</td>\n",
       "      <td>3</td>\n",
       "      <td>1</td>\n",
       "      <td>6</td>\n",
       "      <td>1</td>\n",
       "      <td>1</td>\n",
       "      <td>0</td>\n",
       "      <td>0</td>\n",
       "      <td>2</td>\n",
       "    </tr>\n",
       "    <tr>\n",
       "      <th>17936</th>\n",
       "      <td>2212</td>\n",
       "      <td>2</td>\n",
       "      <td>1</td>\n",
       "      <td>2</td>\n",
       "      <td>2</td>\n",
       "      <td>2</td>\n",
       "      <td>0</td>\n",
       "      <td>6</td>\n",
       "      <td>0</td>\n",
       "      <td>0</td>\n",
       "      <td>1</td>\n",
       "      <td>0</td>\n",
       "      <td>5</td>\n",
       "      <td>1</td>\n",
       "      <td>1</td>\n",
       "      <td>2</td>\n",
       "      <td>0</td>\n",
       "      <td>2</td>\n",
       "    </tr>\n",
       "    <tr>\n",
       "      <th>46845</th>\n",
       "      <td>1883</td>\n",
       "      <td>1</td>\n",
       "      <td>1</td>\n",
       "      <td>2</td>\n",
       "      <td>1</td>\n",
       "      <td>2</td>\n",
       "      <td>2</td>\n",
       "      <td>7</td>\n",
       "      <td>1</td>\n",
       "      <td>1</td>\n",
       "      <td>0</td>\n",
       "      <td>0</td>\n",
       "      <td>6</td>\n",
       "      <td>1</td>\n",
       "      <td>0</td>\n",
       "      <td>3</td>\n",
       "      <td>1</td>\n",
       "      <td>1</td>\n",
       "    </tr>\n",
       "    <tr>\n",
       "      <th>38750</th>\n",
       "      <td>1810</td>\n",
       "      <td>1</td>\n",
       "      <td>1</td>\n",
       "      <td>1</td>\n",
       "      <td>1</td>\n",
       "      <td>1</td>\n",
       "      <td>0</td>\n",
       "      <td>9</td>\n",
       "      <td>1</td>\n",
       "      <td>1</td>\n",
       "      <td>3</td>\n",
       "      <td>0</td>\n",
       "      <td>1</td>\n",
       "      <td>0</td>\n",
       "      <td>0</td>\n",
       "      <td>0</td>\n",
       "      <td>0</td>\n",
       "      <td>1</td>\n",
       "    </tr>\n",
       "    <tr>\n",
       "      <th>8241</th>\n",
       "      <td>1799</td>\n",
       "      <td>1</td>\n",
       "      <td>1</td>\n",
       "      <td>1</td>\n",
       "      <td>1</td>\n",
       "      <td>2</td>\n",
       "      <td>1</td>\n",
       "      <td>10</td>\n",
       "      <td>2</td>\n",
       "      <td>1</td>\n",
       "      <td>2</td>\n",
       "      <td>1</td>\n",
       "      <td>0</td>\n",
       "      <td>0</td>\n",
       "      <td>0</td>\n",
       "      <td>1</td>\n",
       "      <td>0</td>\n",
       "      <td>1</td>\n",
       "    </tr>\n",
       "  </tbody>\n",
       "</table>\n",
       "</div>"
      ],
      "text/plain": [
       "       gameDuration  firstBlood  firstTower  firstInhibitor  firstBaron  \\\n",
       "22039          1674           2           2               2           2   \n",
       "17936          2212           2           1               2           2   \n",
       "46845          1883           1           1               2           1   \n",
       "38750          1810           1           1               1           1   \n",
       "8241           1799           1           1               1           1   \n",
       "\n",
       "       firstDragon  firstRiftHerald  t1_towerKills  t1_inhibitorKills  \\\n",
       "22039            1                1              3                  0   \n",
       "17936            2                0              6                  0   \n",
       "46845            2                2              7                  1   \n",
       "38750            1                0              9                  1   \n",
       "8241             2                1             10                  2   \n",
       "\n",
       "       t1_baronKills  t1_dragonKills  t1_riftHeraldKills  t2_towerKills  \\\n",
       "22039              0               3                   1              6   \n",
       "17936              0               1                   0              5   \n",
       "46845              1               0                   0              6   \n",
       "38750              1               3                   0              1   \n",
       "8241               1               2                   1              0   \n",
       "\n",
       "       t2_inhibitorKills  t2_baronKills  t2_dragonKills  t2_riftHeraldKills  \\\n",
       "22039                  1              1               0                   0   \n",
       "17936                  1              1               2                   0   \n",
       "46845                  1              0               3                   1   \n",
       "38750                  0              0               0                   0   \n",
       "8241                   0              0               1                   0   \n",
       "\n",
       "       winner  \n",
       "22039       2  \n",
       "17936       2  \n",
       "46845       1  \n",
       "38750       1  \n",
       "8241        1  "
      ]
     },
     "execution_count": 72,
     "metadata": {},
     "output_type": "execute_result"
    }
   ],
   "source": [
    "#train_data.shape\n",
    "train_data.head()"
   ]
  },
  {
   "cell_type": "markdown",
   "id": "a6ca5829",
   "metadata": {},
   "source": [
    "# Pipeline for categorical attributes"
   ]
  },
  {
   "cell_type": "code",
   "execution_count": 73,
   "id": "72177c76",
   "metadata": {},
   "outputs": [],
   "source": [
    "from sklearn.preprocessing import OneHotEncoder\n",
    "from sklearn.pipeline import Pipeline\n",
    "from sklearn.impute import SimpleImputer"
   ]
  },
  {
   "cell_type": "code",
   "execution_count": 74,
   "id": "dc7f81f5",
   "metadata": {},
   "outputs": [],
   "source": [
    "#6 categorical attributes, where the numeric values don't have a numerical meaning.\n",
    "cat_atts = ['firstBlood','firstTower', 'firstInhibitor', 'firstBaron', 'firstDragon', 'firstRiftHerald']\n",
    "cat_pipeline = Pipeline([\n",
    "        (\"imputer\", SimpleImputer(strategy=\"most_frequent\")),\n",
    "        (\"cat_encoder\", OneHotEncoder(sparse=False))\n",
    "    ])"
   ]
  },
  {
   "cell_type": "markdown",
   "id": "0ce1de2b",
   "metadata": {},
   "source": [
    "# Pipeline for numeric attributes"
   ]
  },
  {
   "cell_type": "code",
   "execution_count": 75,
   "id": "0a479950",
   "metadata": {},
   "outputs": [],
   "source": [
    "from sklearn.pipeline import Pipeline\n",
    "from sklearn.impute import SimpleImputer\n",
    "from sklearn.preprocessing import StandardScaler\n",
    "from sklearn.preprocessing import MinMaxScaler"
   ]
  },
  {
   "cell_type": "code",
   "execution_count": 76,
   "id": "7dd9d72b",
   "metadata": {},
   "outputs": [],
   "source": [
    "#11 numeric attributes\n",
    "num_atts = ['gameDuration', 't1_towerKills', 't1_inhibitorKills', 't1_baronKills', 't1_dragonKills', \n",
    "        't1_riftHeraldKills', 't2_towerKills', 't2_inhibitorKills', 't2_baronKills', 't2_dragonKills', \n",
    "        't2_riftHeraldKills']\n",
    "\n",
    "num_pipeline = Pipeline([\n",
    "        (\"imputer\", SimpleImputer(strategy=\"median\")),\n",
    "        (\"scaler\", StandardScaler())    #Standarization by centering and scaling.\n",
    "    ])"
   ]
  },
  {
   "cell_type": "markdown",
   "id": "6d469ff3",
   "metadata": {},
   "source": [
    "# Pipeline completo"
   ]
  },
  {
   "cell_type": "code",
   "execution_count": 77,
   "id": "eb92c27b",
   "metadata": {},
   "outputs": [],
   "source": [
    "from sklearn.compose import ColumnTransformer\n",
    "\n",
    "full_pipeline = ColumnTransformer([\n",
    "    (\"num\", num_pipeline, num_atts),\n",
    "    (\"cat\", cat_pipeline, cat_atts), \n",
    "])"
   ]
  },
  {
   "cell_type": "code",
   "execution_count": 78,
   "id": "b17374eb",
   "metadata": {},
   "outputs": [],
   "source": [
    "X_train = full_pipeline.fit_transform(train_data)"
   ]
  },
  {
   "cell_type": "code",
   "execution_count": 79,
   "id": "2bd1f14e",
   "metadata": {},
   "outputs": [
    {
     "data": {
      "text/plain": [
       "(40228, 28)"
      ]
     },
     "execution_count": 79,
     "metadata": {},
     "output_type": "execute_result"
    }
   ],
   "source": [
    "X_train.shape"
   ]
  },
  {
   "cell_type": "code",
   "execution_count": 80,
   "id": "ed7c49c3",
   "metadata": {},
   "outputs": [
    {
     "data": {
      "text/plain": [
       "array([-0.43738233, -0.75963507, -0.82231913, -0.6488879 ,  1.30949283,\n",
       "        1.69562866,  0.08305272, -0.00720639,  0.93075922, -1.1794071 ,\n",
       "       -0.57061419,  0.        ,  1.        ,  0.        ,  0.        ,\n",
       "        1.        ,  0.        ,  0.        ,  1.        ,  0.        ,\n",
       "        0.        ,  1.        ,  0.        ,  1.        ,  0.        ,\n",
       "        0.        ,  1.        ,  0.        ])"
      ]
     },
     "execution_count": 80,
     "metadata": {},
     "output_type": "execute_result"
    }
   ],
   "source": [
    "X_train[0,:]"
   ]
  },
  {
   "cell_type": "code",
   "execution_count": 81,
   "id": "9fd8d09c",
   "metadata": {},
   "outputs": [
    {
     "data": {
      "text/plain": [
       "22039    2\n",
       "17936    2\n",
       "46845    1\n",
       "38750    1\n",
       "8241     1\n",
       "        ..\n",
       "24591    2\n",
       "23922    2\n",
       "28666    1\n",
       "26408    2\n",
       "10798    2\n",
       "Name: winner, Length: 40228, dtype: int64"
      ]
     },
     "execution_count": 81,
     "metadata": {},
     "output_type": "execute_result"
    }
   ],
   "source": [
    "y_train = train_data[\"winner\"]\n",
    "y_train"
   ]
  },
  {
   "cell_type": "markdown",
   "id": "1adbe2fd",
   "metadata": {},
   "source": [
    "# Neuronal network training models"
   ]
  },
  {
   "cell_type": "code",
   "execution_count": 82,
   "id": "d3800acf",
   "metadata": {},
   "outputs": [],
   "source": [
    "from sklearn.neural_network import MLPClassifier\n",
    "from sklearn.model_selection import cross_val_score"
   ]
  },
  {
   "cell_type": "code",
   "execution_count": 83,
   "id": "3a61bba3",
   "metadata": {},
   "outputs": [
    {
     "name": "stdout",
     "output_type": "stream",
     "text": [
      "[-0.02858563 -0.02672135 -0.02609993 -0.02734618 -0.02548167]\n"
     ]
    },
    {
     "data": {
      "text/plain": [
       "-0.02684695072939053"
      ]
     },
     "execution_count": 83,
     "metadata": {},
     "output_type": "execute_result"
    }
   ],
   "source": [
    "model1 = MLPClassifier(activation='identity',solver='lbfgs', alpha=1e-5,\n",
    "    hidden_layer_sizes=(4,7), random_state=123)\n",
    "\n",
    "model1.fit(X_train, y_train)\n",
    "scores1 = cross_val_score(model1, X_train, y_train, cv=5, scoring='neg_mean_absolute_error')\n",
    "print(scores1)\n",
    "scores1.mean()"
   ]
  },
  {
   "cell_type": "code",
   "execution_count": 84,
   "id": "6d11b38b",
   "metadata": {},
   "outputs": [
    {
     "name": "stderr",
     "output_type": "stream",
     "text": [
      "/home/diegoflm/anaconda3/lib/python3.9/site-packages/sklearn/neural_network/_multilayer_perceptron.py:692: ConvergenceWarning: Stochastic Optimizer: Maximum iterations (200) reached and the optimization hasn't converged yet.\n",
      "  warnings.warn(\n",
      "/home/diegoflm/anaconda3/lib/python3.9/site-packages/sklearn/neural_network/_multilayer_perceptron.py:692: ConvergenceWarning: Stochastic Optimizer: Maximum iterations (200) reached and the optimization hasn't converged yet.\n",
      "  warnings.warn(\n",
      "/home/diegoflm/anaconda3/lib/python3.9/site-packages/sklearn/neural_network/_multilayer_perceptron.py:692: ConvergenceWarning: Stochastic Optimizer: Maximum iterations (200) reached and the optimization hasn't converged yet.\n",
      "  warnings.warn(\n",
      "/home/diegoflm/anaconda3/lib/python3.9/site-packages/sklearn/neural_network/_multilayer_perceptron.py:692: ConvergenceWarning: Stochastic Optimizer: Maximum iterations (200) reached and the optimization hasn't converged yet.\n",
      "  warnings.warn(\n"
     ]
    },
    {
     "name": "stdout",
     "output_type": "stream",
     "text": [
      "[-0.02709421 -0.02696992 -0.02150137 -0.02672467 -0.02249845]\n"
     ]
    },
    {
     "name": "stderr",
     "output_type": "stream",
     "text": [
      "/home/diegoflm/anaconda3/lib/python3.9/site-packages/sklearn/neural_network/_multilayer_perceptron.py:692: ConvergenceWarning: Stochastic Optimizer: Maximum iterations (200) reached and the optimization hasn't converged yet.\n",
      "  warnings.warn(\n"
     ]
    },
    {
     "data": {
      "text/plain": [
       "-0.024957723666914004"
      ]
     },
     "execution_count": 84,
     "metadata": {},
     "output_type": "execute_result"
    }
   ],
   "source": [
    "modelo2 = MLPClassifier(activation='relu',solver='sgd', alpha=1e-5,hidden_layer_sizes=(3, 3, 3, 3), random_state=123)\n",
    "modelo2.fit(X_train, y_train)\n",
    "scores2 = cross_val_score(modelo2, X_train, y_train, cv=5, scoring='neg_mean_absolute_error')\n",
    "print(scores2)\n",
    "scores2.mean()"
   ]
  },
  {
   "cell_type": "code",
   "execution_count": 85,
   "id": "ea84454d",
   "metadata": {},
   "outputs": [
    {
     "name": "stdout",
     "output_type": "stream",
     "text": [
      "[-0.02174994 -0.02025851 -0.01851852 -0.01963953 -0.01889372]\n"
     ]
    },
    {
     "data": {
      "text/plain": [
       "-0.01981204407781422"
      ]
     },
     "execution_count": 85,
     "metadata": {},
     "output_type": "execute_result"
    }
   ],
   "source": [
    "model3 = MLPClassifier(activation='tanh',solver='adam', alpha=1e-5,hidden_layer_sizes=(5, 5, 5, 5, 5), random_state=123)\n",
    "model3.fit(X_train, y_train)\n",
    "scores3 = cross_val_score(model3, X_train, y_train, cv=5, scoring='neg_mean_absolute_error')\n",
    "print(scores3)\n",
    "scores3.mean()"
   ]
  },
  {
   "cell_type": "code",
   "execution_count": 86,
   "id": "b22820d5",
   "metadata": {},
   "outputs": [
    {
     "name": "stdout",
     "output_type": "stream",
     "text": [
      "[-0.02286851 -0.01976137 -0.02063137 -0.02262275 -0.02050963]\n"
     ]
    },
    {
     "data": {
      "text/plain": [
       "-0.02127872563709571"
      ]
     },
     "execution_count": 86,
     "metadata": {},
     "output_type": "execute_result"
    }
   ],
   "source": [
    "model4 = MLPClassifier(activation='tanh',solver='adam', alpha=1e-5,hidden_layer_sizes=(4, 10, 3), random_state=123)\n",
    "model4.fit(X_train, y_train)\n",
    "scores4 = cross_val_score(model4, X_train, y_train, cv=5, scoring='neg_mean_absolute_error')\n",
    "print(scores4)\n",
    "scores4.mean()"
   ]
  },
  {
   "cell_type": "code",
   "execution_count": 127,
   "id": "2a330d2a",
   "metadata": {},
   "outputs": [
    {
     "name": "stdout",
     "output_type": "stream",
     "text": [
      "[-0.02771564 -0.02672135 -0.02510564 -0.02809198 -0.02585457]\n"
     ]
    },
    {
     "data": {
      "text/plain": [
       "-0.02669783610615592"
      ]
     },
     "execution_count": 127,
     "metadata": {},
     "output_type": "execute_result"
    }
   ],
   "source": [
    "model5 = MLPClassifier(activation='tanh',solver='sgd', alpha=1e-5,hidden_layer_sizes=(1), random_state=123)\n",
    "model5.fit(X_train, y_train)\n",
    "scores5 = cross_val_score(model5, X_train, y_train, cv=5, scoring='neg_mean_absolute_error') #neg_mean_absolute_error\n",
    "print(scores5)\n",
    "scores5.mean()"
   ]
  },
  {
   "cell_type": "markdown",
   "id": "df408cab",
   "metadata": {},
   "source": [
    "# On the test set:"
   ]
  },
  {
   "cell_type": "code",
   "execution_count": 88,
   "id": "8fadd44f",
   "metadata": {},
   "outputs": [
    {
     "data": {
      "text/plain": [
       "array([[-0.44623952,  0.57755773, -0.03437511, ...,  0.        ,\n",
       "         0.        ,  1.        ],\n",
       "       [-0.27352425,  1.11243485,  0.75356892, ...,  1.        ,\n",
       "         0.        ,  0.        ],\n",
       "       [ 1.40048532,  1.37987341,  1.54151294, ...,  1.        ,\n",
       "         0.        ,  0.        ],\n",
       "       ...,\n",
       "       [ 1.60198647, -0.22475795, -0.82231913, ...,  1.        ,\n",
       "         0.        ,  0.        ],\n",
       "       [ 0.39519386, -0.49219651, -0.82231913, ...,  0.        ,\n",
       "         1.        ,  0.        ],\n",
       "       [-0.50381128,  0.04268061, -0.03437511, ...,  1.        ,\n",
       "         0.        ,  0.        ]])"
      ]
     },
     "execution_count": 88,
     "metadata": {},
     "output_type": "execute_result"
    }
   ],
   "source": [
    "X_test = full_pipeline.transform(test_data)\n",
    "X_test"
   ]
  },
  {
   "cell_type": "code",
   "execution_count": 89,
   "id": "6ab801ff",
   "metadata": {},
   "outputs": [
    {
     "data": {
      "text/plain": [
       "array([1, 1, 1, ..., 2, 2, 1])"
      ]
     },
     "execution_count": 89,
     "metadata": {},
     "output_type": "execute_result"
    }
   ],
   "source": [
    "y_pred1 = model1.predict(X_test)  \n",
    "y_pred1"
   ]
  },
  {
   "cell_type": "code",
   "execution_count": 90,
   "id": "4d3b7e68",
   "metadata": {},
   "outputs": [
    {
     "data": {
      "text/plain": [
       "array([1, 1, 1, ..., 2, 2, 1])"
      ]
     },
     "execution_count": 90,
     "metadata": {},
     "output_type": "execute_result"
    }
   ],
   "source": [
    "y_pred2 = modelo2.predict(X_test)  \n",
    "y_pred2"
   ]
  },
  {
   "cell_type": "code",
   "execution_count": 91,
   "id": "ac35f673",
   "metadata": {},
   "outputs": [
    {
     "data": {
      "text/plain": [
       "array([1, 1, 1, ..., 2, 2, 1])"
      ]
     },
     "execution_count": 91,
     "metadata": {},
     "output_type": "execute_result"
    }
   ],
   "source": [
    "y_pred3 = model3.predict(X_test)  \n",
    "y_pred3"
   ]
  },
  {
   "cell_type": "code",
   "execution_count": 92,
   "id": "06852a7a",
   "metadata": {},
   "outputs": [
    {
     "data": {
      "text/plain": [
       "array([1, 1, 1, ..., 2, 2, 1])"
      ]
     },
     "execution_count": 92,
     "metadata": {},
     "output_type": "execute_result"
    }
   ],
   "source": [
    "y_pred4 = model4.predict(X_test)  \n",
    "y_pred4"
   ]
  },
  {
   "cell_type": "code",
   "execution_count": 93,
   "id": "8afe86aa",
   "metadata": {},
   "outputs": [
    {
     "data": {
      "text/plain": [
       "array([1, 1, 1, ..., 2, 2, 1])"
      ]
     },
     "execution_count": 93,
     "metadata": {},
     "output_type": "execute_result"
    }
   ],
   "source": [
    "y_pred5 = model5.predict(X_test)  \n",
    "y_pred5"
   ]
  },
  {
   "cell_type": "code",
   "execution_count": 94,
   "id": "d8310cfa",
   "metadata": {},
   "outputs": [],
   "source": [
    "y_test = test_data[\"winner\"]"
   ]
  },
  {
   "cell_type": "markdown",
   "id": "dc548a2c",
   "metadata": {},
   "source": [
    "# Results"
   ]
  },
  {
   "cell_type": "code",
   "execution_count": 95,
   "id": "6a39d3ea",
   "metadata": {},
   "outputs": [
    {
     "name": "stdout",
     "output_type": "stream",
     "text": [
      "Mean Absolute Error for model1: 0.02744084310996222\n"
     ]
    }
   ],
   "source": [
    "from sklearn.metrics import mean_absolute_error\n",
    "mae = mean_absolute_error(\n",
    "        y_true  = y_test,\n",
    "        y_pred  = y_pred1\n",
    "       )\n",
    "print(f\"Mean Absolute Error for model1: {mae}\")"
   ]
  },
  {
   "cell_type": "code",
   "execution_count": 96,
   "id": "01e536bc",
   "metadata": {},
   "outputs": [
    {
     "name": "stdout",
     "output_type": "stream",
     "text": [
      "Mean Absolute Error for model2: 0.026347186319347782\n"
     ]
    }
   ],
   "source": [
    "from sklearn.metrics import mean_absolute_error\n",
    "mae = mean_absolute_error(\n",
    "        y_true  = y_test,\n",
    "        y_pred  = y_pred2\n",
    "       )\n",
    "print(f\"Mean Absolute Error for model2: {mae}\")"
   ]
  },
  {
   "cell_type": "code",
   "execution_count": 97,
   "id": "146372e0",
   "metadata": {},
   "outputs": [
    {
     "name": "stdout",
     "output_type": "stream",
     "text": [
      "Mean Absolute Error for model3: 0.02117717240007954\n"
     ]
    }
   ],
   "source": [
    "from sklearn.metrics import mean_absolute_error\n",
    "mae = mean_absolute_error(\n",
    "        y_true  = y_test,\n",
    "        y_pred  = y_pred3\n",
    "       )\n",
    "print(f\"Mean Absolute Error for model3: {mae}\")"
   ]
  },
  {
   "cell_type": "code",
   "execution_count": 98,
   "id": "7fc89044",
   "metadata": {},
   "outputs": [
    {
     "name": "stdout",
     "output_type": "stream",
     "text": [
      "Mean Absolute Error for model4: 0.022370252535295287\n"
     ]
    }
   ],
   "source": [
    "from sklearn.metrics import mean_absolute_error\n",
    "mae = mean_absolute_error(\n",
    "        y_true  = y_test,\n",
    "        y_pred  = y_pred4\n",
    "       )\n",
    "print(f\"Mean Absolute Error for model4: {mae}\")"
   ]
  },
  {
   "cell_type": "code",
   "execution_count": 99,
   "id": "7e20808d",
   "metadata": {},
   "outputs": [
    {
     "name": "stdout",
     "output_type": "stream",
     "text": [
      "Mean Absolute Error for model5: 0.027341419765360905\n"
     ]
    }
   ],
   "source": [
    "from sklearn.metrics import mean_absolute_error\n",
    "mae = mean_absolute_error(\n",
    "        y_true  = y_test,\n",
    "        y_pred  = y_pred5\n",
    "       )\n",
    "print(f\"Mean Absolute Error for model5: {mae}\")"
   ]
  },
  {
   "cell_type": "code",
   "execution_count": 100,
   "id": "4ef8ecdf",
   "metadata": {},
   "outputs": [
    {
     "data": {
      "text/plain": [
       "0.9725591568900378"
      ]
     },
     "execution_count": 100,
     "metadata": {},
     "output_type": "execute_result"
    }
   ],
   "source": [
    "from sklearn.metrics import accuracy_score\n",
    "accuracy_score(y_test, y_pred1)"
   ]
  },
  {
   "cell_type": "code",
   "execution_count": 101,
   "id": "d9e3adb1",
   "metadata": {},
   "outputs": [
    {
     "data": {
      "text/plain": [
       "0.9736528136806523"
      ]
     },
     "execution_count": 101,
     "metadata": {},
     "output_type": "execute_result"
    }
   ],
   "source": [
    "from sklearn.metrics import accuracy_score\n",
    "accuracy_score(y_test, y_pred2)"
   ]
  },
  {
   "cell_type": "code",
   "execution_count": 102,
   "id": "a7f26f45",
   "metadata": {},
   "outputs": [
    {
     "data": {
      "text/plain": [
       "0.9788228275999205"
      ]
     },
     "execution_count": 102,
     "metadata": {},
     "output_type": "execute_result"
    }
   ],
   "source": [
    "from sklearn.metrics import accuracy_score\n",
    "accuracy_score(y_test, y_pred3)"
   ]
  },
  {
   "cell_type": "code",
   "execution_count": 103,
   "id": "cc808ec6",
   "metadata": {},
   "outputs": [
    {
     "data": {
      "text/plain": [
       "0.9776297474647048"
      ]
     },
     "execution_count": 103,
     "metadata": {},
     "output_type": "execute_result"
    }
   ],
   "source": [
    "from sklearn.metrics import accuracy_score\n",
    "accuracy_score(y_test, y_pred4)"
   ]
  },
  {
   "cell_type": "code",
   "execution_count": 126,
   "id": "bdcbb99f",
   "metadata": {},
   "outputs": [
    {
     "data": {
      "text/plain": [
       "0.9726585802346391"
      ]
     },
     "execution_count": 126,
     "metadata": {},
     "output_type": "execute_result"
    }
   ],
   "source": [
    "from sklearn.metrics import accuracy_score\n",
    "accuracy_score(y_test, y_pred5)"
   ]
  },
  {
   "cell_type": "code",
   "execution_count": 105,
   "id": "0044a9d3",
   "metadata": {},
   "outputs": [],
   "source": [
    "from sklearn.metrics import confusion_matrix\n",
    "import matplotlib.pyplot as plt\n",
    "import seaborn as sns"
   ]
  },
  {
   "cell_type": "code",
   "execution_count": 106,
   "id": "c2b68439",
   "metadata": {},
   "outputs": [
    {
     "data": {
      "image/png": "[encoded data removed]",
      "text/plain": [
       "<Figure size 432x288 with 2 Axes>"
      ]
     },
     "metadata": {
      "needs_background": "light"
     },
     "output_type": "display_data"
    }
   ],
   "source": [
    "%matplotlib inline\n",
    "confusion_matrix1 = confusion_matrix(y_test, y_pred1)\n",
    "\n",
    "ax = plt.subplot()\n",
    "sns.heatmap(confusion_matrix1, annot=True, ax = ax, fmt='d')\n",
    "\n",
    "ax.set_xlabel('Predicted winner')\n",
    "ax.set_ylabel('Actual winner') \n",
    "ax.set_title('Confusion Matrix - League of Legends') \n",
    "ax.xaxis.set_ticklabels(['winner = 1', 'winner = 2'])\n",
    "ax.yaxis.set_ticklabels(['winner = 1', 'winner = 2']);\n",
    "plt.show();"
   ]
  },
  {
   "cell_type": "code",
   "execution_count": 107,
   "id": "de424f31",
   "metadata": {},
   "outputs": [
    {
     "data": {
      "image/png": "[encoded data removed]",
      "text/plain": [
       "<Figure size 432x288 with 2 Axes>"
      ]
     },
     "metadata": {
      "needs_background": "light"
     },
     "output_type": "display_data"
    }
   ],
   "source": [
    "%matplotlib inline\n",
    "confusion_matrix2 = confusion_matrix(y_test, y_pred2)\n",
    "\n",
    "ax = plt.subplot()\n",
    "sns.heatmap(confusion_matrix2, annot=True, ax = ax, fmt='d')\n",
    "\n",
    "ax.set_xlabel('Predicted winner')\n",
    "ax.set_ylabel('Actual winner') \n",
    "ax.set_title('Confusion Matrix - League of Legends') \n",
    "ax.xaxis.set_ticklabels(['winner = 1', 'winner = 2'])\n",
    "ax.yaxis.set_ticklabels(['winner = 1', 'winner = 2']);\n",
    "plt.show();"
   ]
  },
  {
   "cell_type": "code",
   "execution_count": 108,
   "id": "19605b90",
   "metadata": {},
   "outputs": [
    {
     "data": {
      "image/png": "[encoded data removed]",
      "text/plain": [
       "<Figure size 432x288 with 2 Axes>"
      ]
     },
     "metadata": {
      "needs_background": "light"
     },
     "output_type": "display_data"
    }
   ],
   "source": [
    "%matplotlib inline\n",
    "confusion_matrix3 = confusion_matrix(y_test, y_pred3)\n",
    "\n",
    "ax = plt.subplot()\n",
    "sns.heatmap(confusion_matrix3, annot=True, ax = ax, fmt='d')\n",
    "\n",
    "ax.set_xlabel('Predicted winner')\n",
    "ax.set_ylabel('Actual winner') \n",
    "ax.set_title('Confusion Matrix - League of Legends') \n",
    "ax.xaxis.set_ticklabels(['winner = 1', 'winner = 2'])\n",
    "ax.yaxis.set_ticklabels(['winner = 1', 'winner = 2']);\n",
    "plt.show();"
   ]
  },
  {
   "cell_type": "code",
   "execution_count": 109,
   "id": "9a517a41",
   "metadata": {},
   "outputs": [
    {
     "data": {
      "image/png": "[encoded data removed]",
      "text/plain": [
       "<Figure size 432x288 with 2 Axes>"
      ]
     },
     "metadata": {
      "needs_background": "light"
     },
     "output_type": "display_data"
    }
   ],
   "source": [
    "%matplotlib inline\n",
    "confusion_matrix4 = confusion_matrix(y_test, y_pred4)\n",
    "\n",
    "ax = plt.subplot()\n",
    "sns.heatmap(confusion_matrix4, annot=True, ax = ax, fmt='d')\n",
    "\n",
    "ax.set_xlabel('Predicted winner')\n",
    "ax.set_ylabel('Actual winner') \n",
    "ax.set_title('Confusion Matrix - League of Legends') \n",
    "ax.xaxis.set_ticklabels(['winner = 1', 'winner = 2'])\n",
    "ax.yaxis.set_ticklabels(['winner = 1', 'winner = 2']);\n",
    "plt.show();"
   ]
  },
  {
   "cell_type": "code",
   "execution_count": 110,
   "id": "e4cea9b3",
   "metadata": {},
   "outputs": [
    {
     "data": {
      "image/png": "[encoded data removed]",
      "text/plain": [
       "<Figure size 432x288 with 2 Axes>"
      ]
     },
     "metadata": {
      "needs_background": "light"
     },
     "output_type": "display_data"
    }
   ],
   "source": [
    "%matplotlib inline\n",
    "confusion_matrix5 = confusion_matrix(y_test, y_pred5)\n",
    "\n",
    "ax = plt.subplot()\n",
    "sns.heatmap(confusion_matrix5, annot=True, ax = ax, fmt='d')\n",
    "\n",
    "ax.set_xlabel('Predicted winner')\n",
    "ax.set_ylabel('Actual winner') \n",
    "ax.set_title('Confusion Matrix - League of Legends') \n",
    "ax.xaxis.set_ticklabels(['winner = 1', 'winner = 2'])\n",
    "ax.yaxis.set_ticklabels(['winner = 1', 'winner = 2']);\n",
    "plt.show();"
   ]
  },
  {
   "cell_type": "markdown",
   "id": "370935e7",
   "metadata": {},
   "source": [
    "# Summary"
   ]
  },
  {
   "cell_type": "code",
   "execution_count": 111,
   "id": "7c876d05",
   "metadata": {},
   "outputs": [
    {
     "name": "stdout",
     "output_type": "stream",
     "text": [
      "+--------+--------------------+------------------+\n",
      "| Model  | Accuracy           | Confusion Matrix |\n",
      "+--------+--------------------+------------------+\n",
      "| model1 | 0.9725591568900378 | [[4933  138]     |\n",
      "|        |                    |  [ 138 4849]]    |\n",
      "+--------+--------------------+------------------+\n",
      "| model2 | 0.9736528136806523 | [[4958  113]     |\n",
      "|        |                    |  [ 152 4835]]    |\n",
      "+--------+--------------------+------------------+\n",
      "| model3 | 0.9788228275999205 | [[4959  112]     |\n",
      "|        |                    |  [ 101 4886]]    |\n",
      "+--------+--------------------+------------------+\n",
      "| model4 | 0.9776297474647048 | [[4932  139]     |\n",
      "|        |                    |  [  86 4901]]    |\n",
      "+--------+--------------------+------------------+\n",
      "| model5 | 0.9726585802346391 | [[4932  139]     |\n",
      "|        |                    |  [ 136 4851]]    |\n",
      "+--------+--------------------+------------------+\n"
     ]
    }
   ],
   "source": [
    "#Accuracy & Confusion Matrix\n",
    "\n",
    "from tabulate import tabulate\n",
    "mydata = [\n",
    "    ['Model', 'Accuracy', 'Confusion Matrix'],\n",
    "      ['model1', accuracy_score(y_test, y_pred1), confusion_matrix1],\n",
    "      ['model2', accuracy_score(y_test, y_pred2), confusion_matrix2],\n",
    "      ['model3', accuracy_score(y_test, y_pred3), confusion_matrix3],\n",
    "      ['model4', accuracy_score(y_test, y_pred4), confusion_matrix4],\n",
    "      ['model5', accuracy_score(y_test, y_pred5), confusion_matrix5],\n",
    "]\n",
    "print(tabulate(mydata, tablefmt=\"grid\"))"
   ]
  },
  {
   "cell_type": "markdown",
   "id": "805b0c4b",
   "metadata": {},
   "source": [
    "# Best model so far: model3\n",
    "\n",
    "After several executions of the entire notebook, model3 is consistently the best:  \n",
    "  \n",
    "model3 = MLPClassifier( \\\n",
    "&emsp;    activation='tanh', \\\n",
    "&emsp;    solver='adam', \\\n",
    "&emsp;    alpha=1e-5, \\\n",
    "&emsp;    hidden_layer_sizes=(5, 5, 5, 5, 5), \\\n",
    "&emsp;    random_state=123) \\\n",
    "\\\n",
    "model3.fit(X_train, y_train) \\\n",
    "scores3 = cross_val_score( \\\n",
    "&emsp;    model3, \\\n",
    "&emsp;    X_train, \\\n",
    "&emsp;    y_train, \\\n",
    "&emsp;    cv=5, \\\n",
    "&emsp;    scoring='neg_mean_absolute_error') \n",
    "    "
   ]
  },
  {
   "cell_type": "markdown",
   "id": "dbbd46ab",
   "metadata": {},
   "source": [
    "# Hyper-parameter variation"
   ]
  },
  {
   "cell_type": "code",
   "execution_count": 112,
   "id": "ab2e05ac",
   "metadata": {},
   "outputs": [
    {
     "name": "stdout",
     "output_type": "stream",
     "text": [
      "[-0.02212279 -0.02013423 -0.01901566 -0.01963953 -0.01802362]\n"
     ]
    },
    {
     "data": {
      "text/plain": [
       "-0.019787165377698496"
      ]
     },
     "execution_count": 112,
     "metadata": {},
     "output_type": "execute_result"
    }
   ],
   "source": [
    "model3B = MLPClassifier(activation = 'tanh',solver = 'adam', alpha = 1e-5,hidden_layer_sizes = (5, 5, 5, 5, 5), random_state = 123\n",
    "    , n_iter_no_change = 15) #Variation\n",
    "model3B.fit(X_train, y_train)\n",
    "scores3B = cross_val_score(model3B, X_train, y_train, cv=5, scoring='neg_mean_absolute_error')\n",
    "print(scores3B)\n",
    "scores3B.mean()"
   ]
  },
  {
   "cell_type": "code",
   "execution_count": 113,
   "id": "918ba96f",
   "metadata": {},
   "outputs": [
    {
     "name": "stdout",
     "output_type": "stream",
     "text": [
      "[-0.02237136 -0.01889137 -0.01789709 -0.01914232 -0.01789932]\n"
     ]
    },
    {
     "data": {
      "text/plain": [
       "-0.019240294348515305"
      ]
     },
     "execution_count": 113,
     "metadata": {},
     "output_type": "execute_result"
    }
   ],
   "source": [
    "model3C = MLPClassifier(activation = 'tanh',solver = 'adam', alpha = 1e-5,hidden_layer_sizes = (5, 5, 5, 5, 5), random_state = 123\n",
    "    , n_iter_no_change = 20) #Variation\n",
    "model3C.fit(X_train, y_train)\n",
    "scores3C = cross_val_score(model3C, X_train, y_train, cv=5, scoring='neg_mean_absolute_error')\n",
    "print(scores3C)\n",
    "scores3C.mean()"
   ]
  },
  {
   "cell_type": "code",
   "execution_count": 114,
   "id": "f6129eb3",
   "metadata": {},
   "outputs": [
    {
     "data": {
      "text/plain": [
       "array([1, 1, 1, ..., 2, 2, 1])"
      ]
     },
     "execution_count": 114,
     "metadata": {},
     "output_type": "execute_result"
    }
   ],
   "source": [
    "y_pred3B = model3B.predict(X_test)  \n",
    "y_pred3B"
   ]
  },
  {
   "cell_type": "code",
   "execution_count": 115,
   "id": "e8397537",
   "metadata": {},
   "outputs": [
    {
     "data": {
      "text/plain": [
       "array([1, 1, 1, ..., 2, 2, 1])"
      ]
     },
     "execution_count": 115,
     "metadata": {},
     "output_type": "execute_result"
    }
   ],
   "source": [
    "y_pred3C = model3C.predict(X_test)  \n",
    "y_pred3C"
   ]
  },
  {
   "cell_type": "code",
   "execution_count": 116,
   "id": "ca41a553",
   "metadata": {},
   "outputs": [
    {
     "name": "stdout",
     "output_type": "stream",
     "text": [
      "Mean Absolute Error for model3B: 0.021475442433883475\n"
     ]
    }
   ],
   "source": [
    "from sklearn.metrics import mean_absolute_error\n",
    "mae = mean_absolute_error(\n",
    "        y_true  = y_test,\n",
    "        y_pred  = y_pred3B\n",
    "       )\n",
    "print(f\"Mean Absolute Error for model3B: {mae}\")"
   ]
  },
  {
   "cell_type": "code",
   "execution_count": 117,
   "id": "b666cbe0",
   "metadata": {},
   "outputs": [
    {
     "name": "stdout",
     "output_type": "stream",
     "text": [
      "Mean Absolute Error for model3C: 0.019785245575661164\n"
     ]
    }
   ],
   "source": [
    "from sklearn.metrics import mean_absolute_error\n",
    "mae = mean_absolute_error(\n",
    "        y_true  = y_test,\n",
    "        y_pred  = y_pred3C\n",
    "       )\n",
    "print(f\"Mean Absolute Error for model3C: {mae}\")"
   ]
  },
  {
   "cell_type": "code",
   "execution_count": 118,
   "id": "cf61a872",
   "metadata": {},
   "outputs": [
    {
     "data": {
      "text/plain": [
       "0.9785245575661166"
      ]
     },
     "execution_count": 118,
     "metadata": {},
     "output_type": "execute_result"
    }
   ],
   "source": [
    "from sklearn.metrics import accuracy_score\n",
    "accuracy_score(y_test, y_pred3B)"
   ]
  },
  {
   "cell_type": "code",
   "execution_count": 119,
   "id": "f23f1e07",
   "metadata": {},
   "outputs": [
    {
     "data": {
      "text/plain": [
       "0.9802147544243388"
      ]
     },
     "execution_count": 119,
     "metadata": {},
     "output_type": "execute_result"
    }
   ],
   "source": [
    "from sklearn.metrics import accuracy_score\n",
    "accuracy_score(y_test, y_pred3C)"
   ]
  },
  {
   "cell_type": "code",
   "execution_count": 120,
   "id": "a1024c3a",
   "metadata": {},
   "outputs": [
    {
     "data": {
      "image/png": "[encoded data removed]",
      "text/plain": [
       "<Figure size 432x288 with 2 Axes>"
      ]
     },
     "metadata": {
      "needs_background": "light"
     },
     "output_type": "display_data"
    }
   ],
   "source": [
    "%matplotlib inline\n",
    "confusion_matrix3b = confusion_matrix(y_test, y_pred3B)\n",
    "\n",
    "ax = plt.subplot()\n",
    "sns.heatmap(confusion_matrix3b, annot=True, ax = ax, fmt='d')\n",
    "\n",
    "ax.set_xlabel('Predicted winner')\n",
    "ax.set_ylabel('Actual winner') \n",
    "ax.set_title('Confusion Matrix - League of Legends') \n",
    "ax.xaxis.set_ticklabels(['winner = 1', 'winner = 2'])\n",
    "ax.yaxis.set_ticklabels(['winner = 1', 'winner = 2']);\n",
    "plt.show();"
   ]
  },
  {
   "cell_type": "code",
   "execution_count": 121,
   "id": "b70874e2",
   "metadata": {},
   "outputs": [
    {
     "data": {
      "image/png": "[encoded data removed]",
      "text/plain": [
       "<Figure size 432x288 with 2 Axes>"
      ]
     },
     "metadata": {
      "needs_background": "light"
     },
     "output_type": "display_data"
    }
   ],
   "source": [
    "%matplotlib inline\n",
    "confusion_matrix3C = confusion_matrix(y_test, y_pred3C)\n",
    "\n",
    "ax = plt.subplot()\n",
    "sns.heatmap(confusion_matrix3C, annot=True, ax = ax, fmt='d')\n",
    "\n",
    "ax.set_xlabel('Predicted winner')\n",
    "ax.set_ylabel('Actual winner') \n",
    "ax.set_title('Confusion Matrix - League of Legends') \n",
    "ax.xaxis.set_ticklabels(['winner = 1', 'winner = 2'])\n",
    "ax.yaxis.set_ticklabels(['winner = 1', 'winner = 2']);\n",
    "plt.show();"
   ]
  },
  {
   "cell_type": "markdown",
   "id": "2f387542",
   "metadata": {},
   "source": [
    "# Comparison"
   ]
  },
  {
   "cell_type": "code",
   "execution_count": 122,
   "id": "d93a3250",
   "metadata": {},
   "outputs": [
    {
     "name": "stdout",
     "output_type": "stream",
     "text": [
      "+---------+------------------+--------------------+------------------+\n",
      "| Model   | n_iter_no_change | Accuracy           | Confusion Matrix |\n",
      "+---------+------------------+--------------------+------------------+\n",
      "| model3  | 10               | 0.9788228275999205 | [[4959  112]     |\n",
      "|         |                  |                    |  [ 101 4886]]    |\n",
      "+---------+------------------+--------------------+------------------+\n",
      "| model3B | 15               | 0.9785245575661166 | [[4991  114]     |\n",
      "|         |                  |                    |  [  71 4882]]    |\n",
      "+---------+------------------+--------------------+------------------+\n",
      "| model3C | 20               | 0.9802147544243388 | [[4977   94]     |\n",
      "|         |                  |                    |  [ 105 4882]]    |\n",
      "+---------+------------------+--------------------+------------------+\n"
     ]
    }
   ],
   "source": [
    "from tabulate import tabulate\n",
    "mydata = [\n",
    "    ['Model', 'n_iter_no_change', 'Accuracy', 'Confusion Matrix'],\n",
    "      ['model3', 10, accuracy_score(y_test, y_pred3), confusion_matrix3],\n",
    "      ['model3B', 15, accuracy_score(y_test, y_pred3B), confusion_matrix3B],\n",
    "      ['model3C', 20, accuracy_score(y_test, y_pred3C), confusion_matrix3C]\n",
    "]\n",
    "print(tabulate(mydata, tablefmt=\"grid\"))"
   ]
  },
  {
   "cell_type": "markdown",
   "id": "2010f3ac",
   "metadata": {},
   "source": [
    "# Analysis\n",
    "For the model3, two variations for an hyper-parameter were done. The chosen parameter was n_iter_no_change.  \n",
    "The default value for this parameter (the value for model3) is: 10  \n",
    "The description for this hyper-parameter is:\n",
    "\"Maximum number of epochs to not meet tol improvement.  \n",
    "Only effective when solver=’sgd’ or ‘adam’.\"  \n",
    "\n",
    "A greater value for this parameter leads to a greater amount of epochs, which could mean a better performance.  \n",
    "The results show that a bigger value for n_iter_no_change than 10 tends to improve the accuracy,  \n",
    "but the value with the better performance is n_iter_no_change = 20.\n",
    "\n",
    "In any case, with either a value of 15 or 20, the accuracies are similar, and after repeated  \n",
    "executions of the entire notebook, usually at least one of the models with either a value of 15 or 20,  \n",
    "is better than the accuracy oibtained with de default value of 10."
   ]
  }
 ],
 "metadata": {
  "kernelspec": {
   "display_name": "Python 3 (ipykernel)",
   "language": "python",
   "name": "python3"
  },
  "language_info": {
   "codemirror_mode": {
    "name": "ipython",
    "version": 3
   },
   "file_extension": ".py",
   "mimetype": "text/x-python",
   "name": "python",
   "nbconvert_exporter": "python",
   "pygments_lexer": "ipython3",
   "version": "3.9.12"
  },
  "vscode": {
   "interpreter": {
    "hash": "66e37a4da3c390ba9102db785636e2db61d518923b2ca2e4091350072f76ee72"
   }
  }
 },
 "nbformat": 4,
 "nbformat_minor": 5
}
